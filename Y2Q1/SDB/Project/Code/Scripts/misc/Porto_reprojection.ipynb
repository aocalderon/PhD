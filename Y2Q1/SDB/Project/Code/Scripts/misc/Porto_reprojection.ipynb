{
 "cells": [
  {
   "cell_type": "code",
   "execution_count": 23,
   "metadata": {
    "collapsed": false
   },
   "outputs": [],
   "source": [
    "from pyspark.sql import Row\n",
    "dataset = \"/opt/Datasets/Porto/L16M.csv\"\n",
    "n = 16000000"
   ]
  },
  {
   "cell_type": "code",
   "execution_count": 24,
   "metadata": {
    "collapsed": true
   },
   "outputs": [],
   "source": [
    "from pyproj import Proj, transform\n",
    "\n",
    "def transformCoords(row):\n",
    "    inProj = Proj(init='epsg:4326')\n",
    "    outProj = Proj(init='epsg:27493')\n",
    "    x2,y2 = transform(inProj,outProj, row.y, row.x)\n",
    "    return Row(x=float(x2), y=float(y2))\n",
    "\n",
    "def toTag(n):\n",
    "    if n < 1000:\n",
    "        return n\n",
    "    elif n < 1000000:\n",
    "        return \"{0}K\".format(int(round(n/1000.0,0)))\n",
    "    elif n < 1000000000:\n",
    "        return \"{0}M\".format(int(round(n/1000000.0,0)))\n",
    "    else:\n",
    "        return \"{0}B\".format(int(round(n/1000000000.0,0)))"
   ]
  },
  {
   "cell_type": "code",
   "execution_count": 25,
   "metadata": {
    "collapsed": false
   },
   "outputs": [],
   "source": [
    "points = sc.textFile(dataset)\\\n",
    ".map(lambda line: line.split(\",\"))\\\n",
    ".map(lambda p: Row(x=float(p[0]), y=float(p[1])))"
   ]
  },
  {
   "cell_type": "code",
   "execution_count": 26,
   "metadata": {
    "collapsed": false
   },
   "outputs": [
    {
     "data": {
      "text/plain": [
       "[Row(x=-8.605494, y=41.14494),\n",
       " Row(x=-8.133354, y=40.69557),\n",
       " Row(x=-8.614071, y=41.192802),\n",
       " Row(x=-8.632008, y=41.127642),\n",
       " Row(x=-8.550198, y=41.147649)]"
      ]
     },
     "execution_count": 26,
     "metadata": {},
     "output_type": "execute_result"
    }
   ],
   "source": [
    "points.take(5)"
   ]
  },
  {
   "cell_type": "code",
   "execution_count": 27,
   "metadata": {
    "collapsed": false
   },
   "outputs": [
    {
     "name": "stdout",
     "output_type": "stream",
     "text": [
      "+------------------+-------------------+\n",
      "|                 x|                  y|\n",
      "+------------------+-------------------+\n",
      "| 6198085.758550276| -5839016.033341593|\n",
      "| 6137611.601999928| -5749242.519873822|\n",
      "| 6205664.395728792| -5841771.187125915|\n",
      "| 6194515.689023598| -5842903.860308644|\n",
      "| 6200077.172430606| -5829969.901172479|\n",
      "| 6199290.635809554| -5837395.002401751|\n",
      "|  6192050.28750824| -5831530.214108369|\n",
      "| 6200528.378192357| -5829395.810651346|\n",
      "| 6199574.506995042| -5842395.485457325|\n",
      "| 6198669.900246182| -5839432.246923726|\n",
      "| 6203016.406688144|-5838976.7848646315|\n",
      "| 6197230.330007319| -5840138.977202125|\n",
      "| 6221118.796135499| -5730317.541721915|\n",
      "| 6208121.500695292| -5803981.882391075|\n",
      "|6201878.9455778925| -5854353.307730269|\n",
      "| 6201770.846683889| -5848051.774533869|\n",
      "| 6194607.200758824| -5843368.531342733|\n",
      "| 6211806.201324201| -5845041.417050544|\n",
      "| 6199328.490411013| -5847848.070830555|\n",
      "|6199426.4456327725|  -5841853.63513153|\n",
      "+------------------+-------------------+\n",
      "only showing top 20 rows\n",
      "\n"
     ]
    }
   ],
   "source": [
    "points = points.map(transformCoords).toDF()\n",
    "points.show()"
   ]
  },
  {
   "cell_type": "code",
   "execution_count": 28,
   "metadata": {
    "collapsed": false
   },
   "outputs": [
    {
     "data": {
      "text/plain": [
       "0"
      ]
     },
     "execution_count": 28,
     "metadata": {},
     "output_type": "execute_result"
    }
   ],
   "source": [
    "points.write.format('com.databricks.spark.csv').save('/opt/Datasets/Porto/output')\n",
    "command = \"cat /opt/Datasets/Porto/output/part-00* > /opt/Datasets/Porto/P{0}.csv\".format(toTag(n))\n",
    "os.system(command)\n",
    "os.system(\"rm -fR /opt/Datasets/Porto/output/\")"
   ]
  }
 ],
 "metadata": {
  "kernelspec": {
   "display_name": "PySpark",
   "language": "python",
   "name": "pyspark"
  },
  "language_info": {
   "codemirror_mode": {
    "name": "ipython",
    "version": 2
   },
   "file_extension": ".py",
   "mimetype": "text/x-python",
   "name": "python",
   "nbconvert_exporter": "python",
   "pygments_lexer": "ipython2",
   "version": "2.7.12"
  }
 },
 "nbformat": 4,
 "nbformat_minor": 1
}

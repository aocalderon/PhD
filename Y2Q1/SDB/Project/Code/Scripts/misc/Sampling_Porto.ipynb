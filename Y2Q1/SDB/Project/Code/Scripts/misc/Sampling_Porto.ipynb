{
 "cells": [
  {
   "cell_type": "code",
   "execution_count": 64,
   "metadata": {
    "collapsed": false
   },
   "outputs": [],
   "source": [
    "from pyspark.sql.types import *\n",
    "from pyspark.sql import Row\n",
    "\n",
    "def toTag(n):\n",
    "    if n < 1000:\n",
    "        return n\n",
    "    elif n < 1000000:\n",
    "        return \"{0}K\".format(int(round(n/1000.0,0)))\n",
    "    elif n < 1000000000:\n",
    "        return \"{0}M\".format(int(round(n/1000000.0,0)))\n",
    "    else:\n",
    "        return \"{0}B\".format(int(round(n/1000000000.0,0)))\n",
    "\n",
    "df = sqlContext.read.format('com.databricks.spark.csv')\\\n",
    "    .options(header='true')\\\n",
    "    .load('file:///opt/GISData/TaxiPorto/train.csv')"
   ]
  },
  {
   "cell_type": "code",
   "execution_count": 65,
   "metadata": {
    "collapsed": false
   },
   "outputs": [
    {
     "data": {
      "text/plain": [
       "PythonRDD[209] at RDD at PythonRDD.scala:43"
      ]
     },
     "execution_count": 65,
     "metadata": {},
     "output_type": "execute_result"
    }
   ],
   "source": [
    "points = df.select('POLYLINE').flatMap(lambda row: row[0][2:-2].split(\"],[\")).distinct()\n",
    "points.cache()"
   ]
  },
  {
   "cell_type": "code",
   "execution_count": 66,
   "metadata": {
    "collapsed": false
   },
   "outputs": [
    {
     "data": {
      "text/plain": [
       "17722273"
      ]
     },
     "execution_count": 66,
     "metadata": {},
     "output_type": "execute_result"
    }
   ],
   "source": [
    "points.count()\n",
    "# 83415287\n",
    "# 17722273 without duplicates..."
   ]
  },
  {
   "cell_type": "code",
   "execution_count": 85,
   "metadata": {
    "collapsed": false
   },
   "outputs": [],
   "source": [
    "schema = StructType([StructField('coord', StringType(), True)])\n",
    "x = 16002000"
   ]
  },
  {
   "cell_type": "code",
   "execution_count": 86,
   "metadata": {
    "collapsed": false
   },
   "outputs": [
    {
     "name": "stdout",
     "output_type": "stream",
     "text": [
      "16002249\n"
     ]
    }
   ],
   "source": [
    "percentage = x / 17722273.0\n",
    "sample = points.sample(False, percentage, 42)\n",
    "n = sample.count()\n",
    "print(n)\n",
    "sample.map(lambda x: Row(x)).toDF(schema).write\\\n",
    "    .format('com.databricks.spark.csv')\\\n",
    "    .option('quote', None)\\\n",
    "    .save('output')"
   ]
  },
  {
   "cell_type": "code",
   "execution_count": 87,
   "metadata": {
    "collapsed": false
   },
   "outputs": [
    {
     "data": {
      "text/plain": [
       "0"
      ]
     },
     "execution_count": 87,
     "metadata": {},
     "output_type": "execute_result"
    }
   ],
   "source": [
    "command = \"cat output/part-00* > L{0}.csv\".format(toTag(n))\n",
    "os.system(command)\n",
    "os.system(\"rm -fR output/\")"
   ]
  },
  {
   "cell_type": "code",
   "execution_count": null,
   "metadata": {
    "collapsed": true
   },
   "outputs": [],
   "source": []
  }
 ],
 "metadata": {
  "kernelspec": {
   "display_name": "PySpark",
   "language": "python",
   "name": "pyspark"
  },
  "language_info": {
   "codemirror_mode": {
    "name": "ipython",
    "version": 2
   },
   "file_extension": ".py",
   "mimetype": "text/x-python",
   "name": "python",
   "nbconvert_exporter": "python",
   "pygments_lexer": "ipython2",
   "version": "2.7.12"
  }
 },
 "nbformat": 4,
 "nbformat_minor": 1
}

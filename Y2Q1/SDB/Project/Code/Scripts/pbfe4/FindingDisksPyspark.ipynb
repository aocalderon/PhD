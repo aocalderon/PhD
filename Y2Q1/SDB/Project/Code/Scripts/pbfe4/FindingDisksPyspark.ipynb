{
 "cells": [
  {
   "cell_type": "code",
   "execution_count": 47,
   "metadata": {
    "collapsed": true
   },
   "outputs": [],
   "source": [
    "import math\n",
    "import time\n",
    "from os.path import basename, splitext\n",
    "from pyspark.sql import Row\n",
    "\n",
    "epsilon = 10\n",
    "r2 = math.pow(epsilon/2,2)\n",
    "filename = \"/opt/Datasets/Beijing/P10K.csv\"\n",
    "tag = os.path.splitext(basename(filename))[0][1:]\n",
    "\n",
    "def calculateDisks(pair):\n",
    "    global epsilon\n",
    "    global r2\n",
    "    \n",
    "    X = pair[1] - pair[4]\n",
    "    Y = pair[2] - pair[5]\n",
    "    D2 = math.pow(X, 2) + math.pow(Y, 2)\n",
    "    if (D2 == 0):\n",
    "        return []\n",
    "    expression = abs(4 * (r2 / D2) - 1)\n",
    "    root = math.pow(expression, 0.5)\n",
    "    h1 = ((X + Y * root) / 2) + pair[4]\n",
    "    h2 = ((X - Y * root) / 2) + pair[4]\n",
    "    k1 = ((Y - X * root) / 2) + pair[5]\n",
    "    k2 = ((Y + X * root) / 2) + pair[5]\n",
    "    \n",
    "    return Row(id1=pair[0],id2=pair[4],lat1=h1,lng1=k1,lat2=h2,lng2=k2)"
   ]
  },
  {
   "cell_type": "code",
   "execution_count": 48,
   "metadata": {
    "collapsed": false
   },
   "outputs": [],
   "source": [
    "points = sc.textFile(filename)\\\n",
    ".map(lambda line: line.split(\",\"))\\\n",
    ".map(lambda p: Row(id=p[0], lat=float(p[1]), lng=float(p[2])))\\\n",
    ".toDF()"
   ]
  },
  {
   "cell_type": "code",
   "execution_count": 49,
   "metadata": {
    "collapsed": false
   },
   "outputs": [],
   "source": [
    "t1 = time.time()\n",
    "points.registerTempTable(\"p1\")\n",
    "points.registerTempTable(\"p2\")"
   ]
  },
  {
   "cell_type": "code",
   "execution_count": 50,
   "metadata": {
    "collapsed": false
   },
   "outputs": [],
   "source": [
    "sql = \"\"\"\n",
    "    SELECT \n",
    "        * \n",
    "    FROM \n",
    "        p1 \n",
    "    DISTANCE JOIN \n",
    "        p2 \n",
    "    ON \n",
    "        POINT(p2.lng, p2.lat) IN CIRCLERANGE(POINT(p1.lng, p1.lat), {0}) \n",
    "    WHERE \n",
    "        p2.id < p1.id\"\"\".format(epsilon)\n",
    "pairs = sqlContext.sql(sql).map(calculateDisks)\n",
    "ndisks = pairs.count()"
   ]
  },
  {
   "cell_type": "code",
   "execution_count": 51,
   "metadata": {
    "collapsed": false
   },
   "outputs": [
    {
     "name": "stdout",
     "output_type": "stream",
     "text": [
      "pbfe_sql,10K,10.0,3268,6.78\n"
     ]
    }
   ],
   "source": [
    "t2 = round(time.time() - t1,3)\n",
    "print(\"pbfe_sql,{0},{1},{2},{3}\".format(tag,float(epsilon),2 * ndisks,t2))"
   ]
  },
  {
   "cell_type": "code",
   "execution_count": null,
   "metadata": {
    "collapsed": true
   },
   "outputs": [],
   "source": []
  }
 ],
 "metadata": {
  "kernelspec": {
   "display_name": "PySpark",
   "language": "python",
   "name": "pyspark"
  },
  "language_info": {
   "codemirror_mode": {
    "name": "ipython",
    "version": 2
   },
   "file_extension": ".py",
   "mimetype": "text/x-python",
   "name": "python",
   "nbconvert_exporter": "python",
   "pygments_lexer": "ipython2",
   "version": "2.7.12"
  }
 },
 "nbformat": 4,
 "nbformat_minor": 1
}

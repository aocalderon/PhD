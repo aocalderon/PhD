{
 "cells": [
  {
   "cell_type": "code",
   "execution_count": 10,
   "metadata": {
    "collapsed": false
   },
   "outputs": [
    {
     "data": {
      "text/html": [
       "<iframe width=100% height=650 src='  map.html  '  />"
      ]
     },
     "metadata": {},
     "output_type": "display_data"
    }
   ],
   "source": [
    "library(sp)\n",
    "library(leaflet)\n",
    "\n",
    "epsilon = 200\n",
    "r2 = (epsilon/2)^2\n",
    "mercator = CRS(\"+proj=merc +a=6378137 +b=6378137 +lat_ts=0.0 +lon_0=0.0 +x_0=0.0 +y_0=0 +k=1.0 +units=m +nadgrids=@null +no_defs\")\n",
    "wgs84 = CRS(\"+init=epsg:4326\")\n",
    "\n",
    "calculateDisk <- function(pair){\n",
    "  x = coordinates(pair)[1,1] - coordinates(pair)[2,1]\n",
    "  y = coordinates(pair)[1,2] - coordinates(pair)[2,2]\n",
    "  d2 = x^2 + y^2\n",
    "  if(d2 != 0){\n",
    "    root = sqrt(abs(4 * (r2 / d2) - 1))\n",
    "    h1 = ((x + y * root) / 2) + coordinates(pair)[2,1]\n",
    "    h2 = ((x - y * root) / 2) + coordinates(pair)[2,1]\n",
    "    k1 = ((y - x * root) / 2) + coordinates(pair)[2,2]\n",
    "    k2 = ((y + x * root) / 2) + coordinates(pair)[2,2]\n",
    "    return(data.frame(lng=c(h1, h2), lat=c(k1, k2)))\n",
    "  }\n",
    "  return(NULL)\n",
    "}\n",
    "\n",
    "points <- data.frame(lng=as.numeric(c(-77.2858, -77.2850)),\n",
    "                     lat=as.numeric(c(1.2059, 1.2050)))\n",
    "d <- SpatialPointsDataFrame(coords = points, data = points, proj4string = wgs84)\n",
    "d_mrc <- spTransform(d, mercator)\n",
    "\n",
    "centers = calculateDisk(d_mrc)\n",
    "\n",
    "c_mrc <- SpatialPointsDataFrame(coords = centers, data = centers, proj4string = mercator)\n",
    "c <- spTransform(c_mrc, wgs84)\n",
    "centers = as.data.frame(coordinates(c))\n",
    "\n",
    "map = leaflet() %>% setView(lat = 1.2059, lng = -77.2858, zoom = 16) %>% addTiles() %>% \n",
    "        addCircles(lng=centers$lng, lat=centers$lat, weight=2, fillOpacity=0.35, color=\"red\", radius = epsilon/2) %>%\n",
    "        addCircleMarkers(lng=points$lng, lat=points$lat, weight=2, fillOpacity=1, radius = 3) \n",
    "  \n",
    "file = 'map.html'\n",
    "htmlwidgets::saveWidget(map, file = file, selfcontained = F)\n",
    "IRdisplay::display_html(paste(\"<iframe width=100% height=650 src=' \", file, \" ' \",\"/>\"))"
   ]
  },
  {
   "cell_type": "code",
   "execution_count": null,
   "metadata": {
    "collapsed": true
   },
   "outputs": [],
   "source": [
    "library(sp)\n",
    "library(leaflet)\n",
    "\n",
    "epsilon = 200\n",
    "r2 = (epsilon/2)^2\n",
    "mercator = CRS(\"+proj=merc +a=6378137 +b=6378137 +lat_ts=0.0 +lon_0=0.0 +x_0=0.0 +y_0=0 +k=1.0 +units=m +nadgrids=@null +no_defs\")\n",
    "wgs84 = CRS(\"+init=epsg:4326\")\n",
    "\n",
    "calculateDisk <- function(pair){\n",
    "  x = coordinates(pair)[1,1] - coordinates(pair)[2,1]\n",
    "  y = coordinates(pair)[1,2] - coordinates(pair)[2,2]\n",
    "  d2 = x^2 + y^2\n",
    "  if(d2 != 0){\n",
    "    root = sqrt(abs(4 * (r2 / d2) - 1))\n",
    "    h1 = ((x + y * root) / 2) + coordinates(pair)[2,1]\n",
    "    h2 = ((x - y * root) / 2) + coordinates(pair)[2,1]\n",
    "    k1 = ((y - x * root) / 2) + coordinates(pair)[2,2]\n",
    "    k2 = ((y + x * root) / 2) + coordinates(pair)[2,2]\n",
    "    return(data.frame(lng=c(h1, h2), lat=c(k1, k2)))\n",
    "  }\n",
    "  return(NULL)\n",
    "}\n",
    "45,39.8594899,116.258965\n",
    "46,39.85965,116.259055\n",
    "points <- data.frame(lng=as.numeric(c(116.258965, 116.259055)),\n",
    "                     lat=as.numeric(c(39.8594899, 39.85965)))\n",
    "d <- SpatialPointsDataFrame(coords = points, data = points, proj4string = wgs84)\n",
    "d_mrc <- spTransform(d, mercator)\n",
    "\n",
    "centers = calculateDisk(d_mrc)\n",
    "\n",
    "c_mrc <- SpatialPointsDataFrame(coords = centers, data = centers, proj4string = mercator)\n",
    "c <- spTransform(c_mrc, wgs84)\n",
    "centers = as.data.frame(coordinates(c))\n",
    "\n",
    "map = leaflet() %>% setView(lat = 1.2059, lng = -77.2858, zoom = 16) %>% addTiles() %>% \n",
    "        addCircles(lng=centers$lng, lat=centers$lat, weight=2, fillOpacity=0.35, color=\"red\", radius = epsilon/2) %>%\n",
    "        addCircleMarkers(lng=points$lng, lat=points$lat, weight=2, fillOpacity=1, radius = 3) \n",
    "  \n",
    "file = 'map.html'\n",
    "htmlwidgets::saveWidget(map, file = file, selfcontained = F)\n",
    "IRdisplay::display_html(paste(\"<iframe width=100% height=650 src=' \", file, \" ' \",\"/>\"))"
   ]
  }
 ],
 "metadata": {
  "anaconda-cloud": {
   "attach-environment": true,
   "summary": "An example using Leaflet package"
  },
  "kernelspec": {
   "display_name": "R",
   "language": "R",
   "name": "r"
  },
  "language_info": {
   "codemirror_mode": "r",
   "file_extension": ".r",
   "mimetype": "text/x-r-source",
   "name": "R",
   "pygments_lexer": "r",
   "version": "3.3.2"
  },
  "nbpresent": {
   "slides": {},
   "themes": {
    "default": "86261956-2fbd-44e3-bb1b-cff4a46e6c32",
    "theme": {
     "86261956-2fbd-44e3-bb1b-cff4a46e6c32": {
      "id": "86261956-2fbd-44e3-bb1b-cff4a46e6c32",
      "palette": {
       "19cc588f-0593-49c9-9f4b-e4d7cc113b1c": {
        "id": "19cc588f-0593-49c9-9f4b-e4d7cc113b1c",
        "rgb": [
         252,
         252,
         252
        ]
       },
       "31af15d2-7e15-44c5-ab5e-e04b16a89eff": {
        "id": "31af15d2-7e15-44c5-ab5e-e04b16a89eff",
        "rgb": [
         68,
         68,
         68
        ]
       },
       "50f92c45-a630-455b-aec3-788680ec7410": {
        "id": "50f92c45-a630-455b-aec3-788680ec7410",
        "rgb": [
         155,
         177,
         192
        ]
       },
       "c5cc3653-2ee1-402a-aba2-7caae1da4f6c": {
        "id": "c5cc3653-2ee1-402a-aba2-7caae1da4f6c",
        "rgb": [
         43,
         126,
         184
        ]
       },
       "efa7f048-9acb-414c-8b04-a26811511a21": {
        "id": "efa7f048-9acb-414c-8b04-a26811511a21",
        "rgb": [
         25.118061674008803,
         73.60176211453744,
         107.4819383259912
        ]
       }
      },
      "rules": {
       "blockquote": {
        "color": "50f92c45-a630-455b-aec3-788680ec7410"
       },
       "code": {
        "font-family": "Anonymous Pro"
       },
       "h1": {
        "color": "c5cc3653-2ee1-402a-aba2-7caae1da4f6c",
        "font-family": "Lato",
        "font-size": 8
       },
       "h2": {
        "color": "c5cc3653-2ee1-402a-aba2-7caae1da4f6c",
        "font-family": "Lato",
        "font-size": 6
       },
       "h3": {
        "color": "50f92c45-a630-455b-aec3-788680ec7410",
        "font-family": "Lato",
        "font-size": 5.5
       },
       "h4": {
        "color": "c5cc3653-2ee1-402a-aba2-7caae1da4f6c",
        "font-family": "Lato",
        "font-size": 5
       },
       "h5": {
        "font-family": "Lato"
       },
       "h6": {
        "font-family": "Lato"
       },
       "h7": {
        "font-family": "Lato"
       },
       "pre": {
        "font-family": "Anonymous Pro",
        "font-size": 4
       }
      },
      "text-base": {
       "font-family": "Merriweather",
       "font-size": 4
      }
     }
    }
   }
  }
 },
 "nbformat": 4,
 "nbformat_minor": 1
}

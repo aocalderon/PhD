{
 "cells": [
  {
   "cell_type": "markdown",
   "metadata": {},
   "source": [
    "# We need some libraries and initial parameters..."
   ]
  },
  {
   "cell_type": "code",
   "execution_count": null,
   "metadata": {
    "collapsed": false
   },
   "outputs": [],
   "source": [
    "library(SparkR)\n",
    "library(leaflet)\n",
    "library(sp)\n",
    "options(digits=15)\n",
    "\n",
    "epsilon = 100\n",
    "source(\"examples.R\")"
   ]
  },
  {
   "cell_type": "markdown",
   "metadata": {},
   "source": [
    "# Let load some data..."
   ]
  },
  {
   "cell_type": "code",
   "execution_count": null,
   "metadata": {
    "collapsed": false
   },
   "outputs": [],
   "source": [
    "data = read.csv(\"sample_small.csv\")\n",
    "names(data) = c(\"ID\",\"lat\",\"lng\")\n",
    "head(data)"
   ]
  },
  {
   "cell_type": "markdown",
   "metadata": {},
   "source": [
    "# and visualize them in a map..."
   ]
  },
  {
   "cell_type": "code",
   "execution_count": null,
   "metadata": {
    "collapsed": false
   },
   "outputs": [],
   "source": [
    "map = leaflet() %>%\n",
    "  addTiles() %>%\n",
    "  addCircleMarkers(lng=data$lng, lat=data$lat,weight=2,fillOpacity=1,color=\"blue\",radius=2)\n",
    "\n",
    "file = 'map1.html'\n",
    "htmlwidgets::saveWidget(map, file = file, selfcontained = F)\n",
    "IRdisplay::display_html(paste(\"<iframe width=100% height=400 src=' \", file, \" ' \",\"/>\"))"
   ]
  },
  {
   "cell_type": "markdown",
   "metadata": {},
   "source": [
    "https://ec2-35-162-64-98.us-west-2.compute.amazonaws.com:8888/home/ubuntu/notebooks/files/map1.html"
   ]
  },
  {
   "cell_type": "markdown",
   "metadata": {},
   "source": [
    "# Connecting with Simba and getting a SQLContext..."
   ]
  },
  {
   "cell_type": "code",
   "execution_count": null,
   "metadata": {
    "collapsed": false
   },
   "outputs": [],
   "source": [
    "sc <- sparkR.init(\"local[*]\", \"SparkR\")\n",
    "sqlContext <- sparkRSQL.init(sc)"
   ]
  },
  {
   "cell_type": "markdown",
   "metadata": {},
   "source": [
    "# Let read the data into Simba and apply a transformation..."
   ]
  },
  {
   "cell_type": "code",
   "execution_count": null,
   "metadata": {
    "collapsed": false
   },
   "outputs": [],
   "source": [
    "dataRDD = SparkR:::textFile(sc,\"sample_small.csv\")\n",
    "dataRDD = SparkR:::map(dataRDD, transformCoords)"
   ]
  },
  {
   "cell_type": "markdown",
   "metadata": {},
   "source": [
    "# Now We create a DataFrame and cache the data..."
   ]
  },
  {
   "cell_type": "code",
   "execution_count": null,
   "metadata": {
    "collapsed": false
   },
   "outputs": [],
   "source": [
    "schema <- structType(structField(\"id\", \"double\"), structField(\"lng\", \"double\"), structField(\"lat\", \"double\"))\n",
    "points <- createDataFrame(sqlContext, dataRDD, schema = schema)\n",
    "cache(points)"
   ]
  },
  {
   "cell_type": "markdown",
   "metadata": {},
   "source": [
    "# Let's have a look..."
   ]
  },
  {
   "cell_type": "code",
   "execution_count": null,
   "metadata": {
    "collapsed": false
   },
   "outputs": [],
   "source": [
    "head(points)\n",
    "count(points)"
   ]
  },
  {
   "cell_type": "markdown",
   "metadata": {
    "collapsed": false
   },
   "source": [
    "# Now, We need register a pair of temporal tables..."
   ]
  },
  {
   "cell_type": "code",
   "execution_count": null,
   "metadata": {
    "collapsed": true
   },
   "outputs": [],
   "source": [
    "registerTempTable(points, \"p1\")\n",
    "registerTempTable(points, \"p2\")"
   ]
  },
  {
   "cell_type": "markdown",
   "metadata": {},
   "source": [
    "# It is time to execute some SQL...\n",
    "\n",
    "```SQL\n",
    "SELECT\n",
    "    * \n",
    "FROM \n",
    "    p1 \n",
    "JOIN \n",
    "    p2\n",
    "ON \n",
    "    POINT(p2.lng, p2.lat) IN CIRCLERANGE(POINT(p1.lng, p1.lat), epsilon)\n",
    "WHERE \n",
    "    p2.id < p1.id\n",
    "```"
   ]
  },
  {
   "cell_type": "code",
   "execution_count": null,
   "metadata": {
    "collapsed": false
   },
   "outputs": [],
   "source": [
    "sql = paste0(\"SELECT * FROM p1 JOIN p2 ON POINT(p2.lng, p2.lat) IN CIRCLERANGE(POINT(p1.lng, p1.lat), \",epsilon,\") WHERE p2.id < p1.id\")\n",
    "pairs = sql(sqlContext,sql)\n",
    "head(pairs)\n",
    "nrow(pairs)"
   ]
  },
  {
   "cell_type": "markdown",
   "metadata": {},
   "source": [
    "# Now We need to calculate the disk locations for each pair..."
   ]
  },
  {
   "cell_type": "code",
   "execution_count": null,
   "metadata": {
    "collapsed": false
   },
   "outputs": [],
   "source": [
    "centers <- SparkR:::map(pairs, calculateDisk)\n",
    "d <- createDataFrame(sqlContext, centers)\n",
    "head(d)\n",
    "count(d)"
   ]
  },
  {
   "cell_type": "markdown",
   "metadata": {},
   "source": [
    "# Let's collect the data back to LatLong coordinates..."
   ]
  },
  {
   "cell_type": "code",
   "execution_count": null,
   "metadata": {
    "collapsed": false
   },
   "outputs": [],
   "source": [
    "centers_lnglat <- SparkR:::map(centers, transformCenters)\n",
    "disks <- as.data.frame(createDataFrame(sqlContext,centers_lnglat))\n",
    "names(disks) = c(\"id1\",\"id2\",\"lng1\",\"lat1\",\"lng2\",\"lat2\")\n",
    "head(disks)\n",
    "nrow(disks)"
   ]
  },
  {
   "cell_type": "markdown",
   "metadata": {
    "collapsed": false
   },
   "source": [
    "# Let's have a look in the results..."
   ]
  },
  {
   "cell_type": "code",
   "execution_count": null,
   "metadata": {
    "collapsed": false,
    "scrolled": true
   },
   "outputs": [],
   "source": [
    "p = sort(unique(c(disks$id1,disks$id2)))\n",
    "data2 = data[p,]\n",
    "map = leaflet() %>% setView(lat = 39.990010, lng = 116.317406, zoom = 15) %>% addTiles() %>% \n",
    "        addCircles(lng=disks$lng1, lat=disks$lat1, weight=2, fillOpacity=0.25, color=\"red\", radius = epsilon/2) %>%\n",
    "        addCircles(lng=disks$lng2, lat=disks$lat2, weight=2, fillOpacity=0.25, color=\"red\", radius = epsilon/2) %>%\n",
    "        addCircleMarkers(lng=data$lng, lat=data$lat, weight=2, fillOpacity=1,radius = 2) %>%\n",
    "        addCircleMarkers(lng=data2$lng, lat=data2$lat, weight=2, fillOpacity=1, color=\"purple\", radius = 2) %>% addProviderTiles(\"Esri.WorldImagery\", group = \"ESRI\") %>% addLayersControl(baseGroup = c(\"OSM(default\", \"ESRI\"))\n",
    "\n",
    "file = 'map2.html'\n",
    "htmlwidgets::saveWidget(map, file = file, selfcontained = F)\n",
    "IRdisplay::display_html(paste(\"<iframe width=100% height=400 src=' \", file, \" ' \",\"/>\"))"
   ]
  },
  {
   "cell_type": "markdown",
   "metadata": {
    "collapsed": true
   },
   "source": [
    "https://ec2-35-162-64-98.us-west-2.compute.amazonaws.com:8888/home/ubuntu/notebooks/files/map2.html"
   ]
  },
  {
   "cell_type": "code",
   "execution_count": null,
   "metadata": {
    "collapsed": true
   },
   "outputs": [],
   "source": []
  }
 ],
 "metadata": {
  "anaconda-cloud": {},
  "kernelspec": {
   "display_name": "R",
   "language": "R",
   "name": "r"
  },
  "language_info": {
   "codemirror_mode": "r",
   "file_extension": ".r",
   "mimetype": "text/x-r-source",
   "name": "R",
   "pygments_lexer": "r",
   "version": "3.3.2"
  }
 },
 "nbformat": 4,
 "nbformat_minor": 1
}

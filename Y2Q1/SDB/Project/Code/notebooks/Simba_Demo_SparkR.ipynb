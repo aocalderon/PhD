{
 "cells": [
  {
   "cell_type": "code",
   "execution_count": 1,
   "metadata": {
    "collapsed": false
   },
   "outputs": [
    {
     "name": "stderr",
     "output_type": "stream",
     "text": [
      "\n",
      "Attaching package: ‘SparkR’\n",
      "\n",
      "The following objects are masked from ‘package:stats’:\n",
      "\n",
      "    cov, filter, lag, na.omit, predict, sd, var\n",
      "\n",
      "The following objects are masked from ‘package:base’:\n",
      "\n",
      "    colnames, colnames<-, endsWith, intersect, rank, rbind, sample,\n",
      "    startsWith, subset, summary, table, transform\n",
      "\n"
     ]
    }
   ],
   "source": [
    "library(SparkR)"
   ]
  },
  {
   "cell_type": "code",
   "execution_count": 2,
   "metadata": {
    "collapsed": false
   },
   "outputs": [
    {
     "name": "stdout",
     "output_type": "stream",
     "text": [
      "Launching java with spark-submit command /opt/Simba/bin/spark-submit  --packages com.databricks:spark-csv_2.10:1.5.0 sparkr-shell /tmp/RtmpGSOMSq/backend_port733429902b30 \n"
     ]
    }
   ],
   "source": [
    "sc <- sparkR.init(\"local[*]\", \"SparkR\", sparkPackages=\"com.databricks:spark-csv_2.10:1.5.0\")\n",
    "sqlContext <- sparkRSQL.init(sc)"
   ]
  },
  {
   "cell_type": "code",
   "execution_count": 3,
   "metadata": {
    "collapsed": true
   },
   "outputs": [],
   "source": [
    "schema <- structType(structField(\"tag\", \"string\"), structField(\"x\", \"double\"), structField(\"y\", \"double\"))\n"
   ]
  },
  {
   "cell_type": "code",
   "execution_count": 4,
   "metadata": {
    "collapsed": false
   },
   "outputs": [
    {
     "name": "stdout",
     "output_type": "stream",
     "text": [
      "  tag x y\n",
      "1   A 1 1\n",
      "2   B 2 2\n",
      "3   C 3 3\n",
      "4   D 4 4\n",
      "5   E 5 5\n",
      "6   F 6 6\n",
      "7   G 7 7\n"
     ]
    }
   ],
   "source": [
    "points <- read.df(sqlContext, \"/opt/points.txt\", source = \"com.databricks.spark.csv\", schema = schema)\n",
    "print(collect(points))"
   ]
  },
  {
   "cell_type": "code",
   "execution_count": 5,
   "metadata": {
    "collapsed": false
   },
   "outputs": [
    {
     "name": "stdout",
     "output_type": "stream",
     "text": [
      "  tag x y\n",
      "1   D 4 4\n",
      "2   E 5 5\n"
     ]
    }
   ],
   "source": [
    "registerTempTable(points, \"points\")\n",
    "sql = \"SELECT * FROM points WHERE POINT(x, y) IN CIRCLERANGE(POINT(4.5, 4.5), 2)\"\n",
    "print(collect(sql(sqlContext,sql)))\n"
   ]
  },
  {
   "cell_type": "code",
   "execution_count": null,
   "metadata": {
    "collapsed": true
   },
   "outputs": [],
   "source": []
  }
 ],
 "metadata": {
  "anaconda-cloud": {},
  "kernelspec": {
   "display_name": "R",
   "language": "R",
   "name": "r"
  },
  "language_info": {
   "codemirror_mode": "r",
   "file_extension": ".r",
   "mimetype": "text/x-r-source",
   "name": "R",
   "pygments_lexer": "r",
   "version": "3.3.2"
  }
 },
 "nbformat": 4,
 "nbformat_minor": 1
}

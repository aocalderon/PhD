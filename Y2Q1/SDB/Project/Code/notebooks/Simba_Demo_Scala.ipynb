{
 "cells": [
  {
   "cell_type": "code",
   "execution_count": 1,
   "metadata": {
    "collapsed": true
   },
   "outputs": [],
   "source": [
    "import org.apache.spark.sql.SQLContext\n",
    "import org.apache.spark.{SparkConf, SparkContext}\n",
    "val sqlContext = new SQLContext(sc)\n",
    "import sqlContext.implicits._"
   ]
  },
  {
   "cell_type": "code",
   "execution_count": 2,
   "metadata": {
    "collapsed": false
   },
   "outputs": [],
   "source": [
    "case class Point(name: String, x: Double, y: Double)"
   ]
  },
  {
   "cell_type": "code",
   "execution_count": 3,
   "metadata": {
    "collapsed": false
   },
   "outputs": [],
   "source": [
    "val points = sc.textFile(\"/opt/points.txt\").map(_.split(\",\")).map(p => Point(p(0), p(1).trim().toDouble, p(2).trim().toDouble))"
   ]
  },
  {
   "cell_type": "code",
   "execution_count": 4,
   "metadata": {
    "collapsed": false
   },
   "outputs": [
    {
     "name": "stdout",
     "output_type": "stream",
     "text": [
      "Point(A,1.0,1.0)\n",
      "Point(B,2.0,2.0)\n",
      "Point(C,3.0,3.0)\n",
      "Point(D,4.0,4.0)\n",
      "Point(E,5.0,5.0)\n",
      "Point(F,6.0,6.0)\n",
      "Point(G,7.0,7.0)\n"
     ]
    }
   ],
   "source": [
    "points.collect().foreach(println)"
   ]
  },
  {
   "cell_type": "code",
   "execution_count": 5,
   "metadata": {
    "collapsed": false
   },
   "outputs": [],
   "source": [
    "val pointsDF = points.toDF()"
   ]
  },
  {
   "cell_type": "code",
   "execution_count": 6,
   "metadata": {
    "collapsed": true
   },
   "outputs": [],
   "source": [
    "pointsDF.registerTempTable(\"points\")"
   ]
  },
  {
   "cell_type": "code",
   "execution_count": 7,
   "metadata": {
    "collapsed": false
   },
   "outputs": [
    {
     "name": "stdout",
     "output_type": "stream",
     "text": [
      "[A,1.0,1.0]\n",
      "[B,2.0,2.0]\n",
      "[C,3.0,3.0]\n",
      "[D,4.0,4.0]\n",
      "[E,5.0,5.0]\n",
      "[F,6.0,6.0]\n",
      "[G,7.0,7.0]\n"
     ]
    }
   ],
   "source": [
    "sqlContext.sql(\"SELECT * FROM points\").toDF().collect().foreach(println)"
   ]
  },
  {
   "cell_type": "code",
   "execution_count": 8,
   "metadata": {
    "collapsed": false
   },
   "outputs": [],
   "source": [
    "val sql = \"SELECT * FROM points WHERE POINT(x, y) IN CIRCLERANGE(POINT(4.5, 4.5), 2)\""
   ]
  },
  {
   "cell_type": "code",
   "execution_count": 9,
   "metadata": {
    "collapsed": false
   },
   "outputs": [
    {
     "name": "stdout",
     "output_type": "stream",
     "text": [
      "[D,4.0,4.0]\n",
      "[E,5.0,5.0]\n"
     ]
    }
   ],
   "source": [
    "sqlContext.sql(sql).toDF().collect().foreach(println)"
   ]
  },
  {
   "cell_type": "code",
   "execution_count": null,
   "metadata": {
    "collapsed": true
   },
   "outputs": [],
   "source": []
  }
 ],
 "metadata": {
  "anaconda-cloud": {},
  "kernelspec": {
   "display_name": "Apache Toree - Scala",
   "language": "scala",
   "name": "apache_toree_scala"
  },
  "language_info": {
   "name": "scala",
   "version": "2.10.4"
  }
 },
 "nbformat": 4,
 "nbformat_minor": 1
}

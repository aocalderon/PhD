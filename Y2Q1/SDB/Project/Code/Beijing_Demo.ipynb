{
 "cells": [
  {
   "cell_type": "code",
   "execution_count": 1,
   "metadata": {
    "collapsed": true
   },
   "outputs": [],
   "source": [
    "from pyspark.sql import Row"
   ]
  },
  {
   "cell_type": "code",
   "execution_count": 4,
   "metadata": {
    "collapsed": true
   },
   "outputs": [],
   "source": [
    "points = sc.textFile(\"/opt/GISData/Geolife_Trajectories_1.3/beijing.csv\")\\\n",
    ".map(lambda line: line.split(\",\"))\\\n",
    ".map(lambda p: Row(x=float(p[0]), y=float(p[1])))"
   ]
  },
  {
   "cell_type": "code",
   "execution_count": 5,
   "metadata": {
    "collapsed": false
   },
   "outputs": [
    {
     "data": {
      "text/plain": [
       "[Row(x=1.044024, y=103.5263),\n",
       " Row(x=1.044028, y=103.524919),\n",
       " Row(x=1.04413, y=103.523515),\n",
       " Row(x=1.044208, y=103.780915),\n",
       " Row(x=1.044237, y=103.522101)]"
      ]
     },
     "execution_count": 5,
     "metadata": {},
     "output_type": "execute_result"
    }
   ],
   "source": [
    "points.take(5)"
   ]
  },
  {
   "cell_type": "code",
   "execution_count": 6,
   "metadata": {
    "collapsed": false
   },
   "outputs": [
    {
     "name": "stdout",
     "output_type": "stream",
     "text": [
      "+--------+----------+\n",
      "|       x|         y|\n",
      "+--------+----------+\n",
      "|1.044024|  103.5263|\n",
      "|1.044028|103.524919|\n",
      "| 1.04413|103.523515|\n",
      "|1.044208|103.780915|\n",
      "|1.044237|103.522101|\n",
      "|1.044306|103.527684|\n",
      "|1.044355|103.520695|\n",
      "| 1.04449|103.519302|\n",
      "|1.044508|103.529049|\n",
      "|1.044685|103.530384|\n",
      "|1.044709|103.517923|\n",
      "| 1.04478|103.779929|\n",
      "|1.044874|103.531761|\n",
      "|1.044995|103.516561|\n",
      "|1.045075|103.533127|\n",
      "|1.045309|103.515218|\n",
      "|1.045314|103.534466|\n",
      "|1.045346|103.778954|\n",
      "|1.045535|103.535827|\n",
      "|1.045645|103.513892|\n",
      "+--------+----------+\n",
      "only showing top 20 rows\n",
      "\n"
     ]
    }
   ],
   "source": [
    "points = points.toDF()\n",
    "points.show()"
   ]
  },
  {
   "cell_type": "code",
   "execution_count": 10,
   "metadata": {
    "collapsed": false
   },
   "outputs": [
    {
     "data": {
      "text/plain": [
       "15177"
      ]
     },
     "execution_count": 10,
     "metadata": {},
     "output_type": "execute_result"
    }
   ],
   "source": [
    "points.registerTempTable(\"points\")\n",
    "sql = \"SELECT * FROM points WHERE POINT(x, y) IN CIRCLERANGE(POINT(39.9042, 116.4074), 0.005)\"\n",
    "buffer = sqlContext.sql(sql)\n",
    "buffer.count()"
   ]
  },
  {
   "cell_type": "code",
   "execution_count": 15,
   "metadata": {
    "collapsed": false
   },
   "outputs": [],
   "source": [
    "buffer.toPandas().to_csv('sample.csv')"
   ]
  },
  {
   "cell_type": "code",
   "execution_count": null,
   "metadata": {
    "collapsed": true
   },
   "outputs": [],
   "source": []
  }
 ],
 "metadata": {
  "kernelspec": {
   "display_name": "PySpark",
   "language": "python",
   "name": "pyspark"
  },
  "language_info": {
   "codemirror_mode": {
    "name": "ipython",
    "version": 2
   },
   "file_extension": ".py",
   "mimetype": "text/x-python",
   "name": "python",
   "nbconvert_exporter": "python",
   "pygments_lexer": "ipython2",
   "version": "2.7.10"
  }
 },
 "nbformat": 4,
 "nbformat_minor": 1
}

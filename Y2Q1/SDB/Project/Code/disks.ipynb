{
 "cells": [
  {
   "cell_type": "code",
   "execution_count": 65,
   "metadata": {
    "collapsed": false
   },
   "outputs": [],
   "source": [
    "from pyspark.sql import Row"
   ]
  },
  {
   "cell_type": "code",
   "execution_count": 66,
   "metadata": {
    "collapsed": false
   },
   "outputs": [],
   "source": [
    "points = sc.textFile(\"/home/and/Documents/PhD/Code/Y2Q1/SDB/Project/Code/trajs.csv\")\\\n",
    ".map(lambda line: line.split(\"\\t\"))\\\n",
    ".map(lambda p: Row(tag=\"{0}_{1}\".format(p[0],p[1]), x=float(p[2].strip()), y=float(p[3].strip())))"
   ]
  },
  {
   "cell_type": "code",
   "execution_count": 67,
   "metadata": {
    "collapsed": false
   },
   "outputs": [
    {
     "name": "stdout",
     "output_type": "stream",
     "text": [
      "+----+----------------+----------------+\n",
      "| tag|               x|               y|\n",
      "+----+----------------+----------------+\n",
      "| 0_0|         14992.0|         13485.0|\n",
      "| 0_1|14988.5546033368|13223.4685437995|\n",
      "| 0_2|14687.4853092579| 12891.715878107|\n",
      "| 0_3|14439.2848569753|12984.8452218598|\n",
      "| 0_4|14267.2523555687|13144.5044093446|\n",
      "| 0_5| 14106.380428277|13320.9723559176|\n",
      "| 0_6|13885.3015873829|13582.8642967952|\n",
      "| 0_7|13736.2690822009|13759.6918533465|\n",
      "| 0_8|13586.4730568468|13925.4215545226|\n",
      "| 0_9|13374.2170171242| 14067.417626726|\n",
      "|0_10|13147.9531024768| 14224.228410651|\n",
      "|0_11|12952.1665218279|14347.8667667371|\n",
      "|0_12|12624.7521573678|14415.0971778723|\n",
      "|0_13|12565.1769964001|14655.4791543081|\n",
      "|0_14|12480.1838472365|14855.4646540428|\n",
      "|0_15|12405.8350613404|  15018.58586222|\n",
      "|0_16|12309.0847892043|15234.5438461127|\n",
      "|0_17|12391.6712295932|15417.1355435914|\n",
      "|0_18|12547.7518309049|15452.0497516498|\n",
      "|0_19|         12552.0|         15453.0|\n",
      "+----+----------------+----------------+\n",
      "only showing top 20 rows\n",
      "\n"
     ]
    }
   ],
   "source": [
    "points = points.toDF()\n",
    "points.show()"
   ]
  },
  {
   "cell_type": "code",
   "execution_count": 68,
   "metadata": {
    "collapsed": false
   },
   "outputs": [
    {
     "name": "stdout",
     "output_type": "stream",
     "text": [
      "3\n",
      "9\n",
      "870\n",
      "49668\n",
      "57011\n"
     ]
    }
   ],
   "source": [
    "points.registerTempTable(\"points\")\n",
    "sql = \"SELECT * FROM points WHERE POINT(x, y) IN CIRCLERANGE(POINT(12552, 15453), 10)\"\n",
    "print(sqlContext.sql(sql).count())\n",
    "sql = \"SELECT * FROM points WHERE POINT(x, y) IN CIRCLERANGE(POINT(12552, 15453), 100)\"\n",
    "print(sqlContext.sql(sql).count())\n",
    "sql = \"SELECT * FROM points WHERE POINT(x, y) IN CIRCLERANGE(POINT(12552, 15453), 1000)\"\n",
    "print(sqlContext.sql(sql).count())\n",
    "sql = \"SELECT * FROM points WHERE POINT(x, y) IN CIRCLERANGE(POINT(12552, 15453), 10000)\"\n",
    "print(sqlContext.sql(sql).count())\n",
    "sql = \"SELECT * FROM points WHERE POINT(x, y) IN CIRCLERANGE(POINT(12552, 15453), 100000)\"\n",
    "print(sqlContext.sql(sql).count())\n"
   ]
  },
  {
   "cell_type": "code",
   "execution_count": null,
   "metadata": {
    "collapsed": true
   },
   "outputs": [],
   "source": []
  }
 ],
 "metadata": {
  "kernelspec": {
   "display_name": "Python 2",
   "language": "python",
   "name": "python2"
  },
  "language_info": {
   "codemirror_mode": {
    "name": "ipython",
    "version": 2
   },
   "file_extension": ".py",
   "mimetype": "text/x-python",
   "name": "python",
   "nbconvert_exporter": "python",
   "pygments_lexer": "ipython2",
   "version": "2.7.10"
  }
 },
 "nbformat": 4,
 "nbformat_minor": 0
}

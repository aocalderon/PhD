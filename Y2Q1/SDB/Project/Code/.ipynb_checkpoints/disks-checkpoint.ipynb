{
 "metadata": {
  "name": "",
  "signature": "sha256:9d97de5b52a9f3228694bdd1e8b9ccc1fb3732969a755b26634ed7bd47dcef29"
 },
 "nbformat": 3,
 "nbformat_minor": 0,
 "worksheets": [
  {
   "cells": [
    {
     "cell_type": "code",
     "collapsed": false,
     "input": [
      "from pyspark.sql import Row"
     ],
     "language": "python",
     "metadata": {},
     "outputs": [],
     "prompt_number": 7
    },
    {
     "cell_type": "code",
     "collapsed": false,
     "input": [
      "points = sc.textFile(\"/home/and/Documents/PhD/Code/Y2Q1/SDB/Project/Code/points.txt\")\\\n",
      ".map(lambda line: line.split(\",\"))\\\n",
      ".map(lambda p: Row(tag=p[0], x=float(p[1]), y=float(p[1])))"
     ],
     "language": "python",
     "metadata": {},
     "outputs": [],
     "prompt_number": 8
    },
    {
     "cell_type": "code",
     "collapsed": false,
     "input": [
      "points = points.toDF()\n",
      "points.show()"
     ],
     "language": "python",
     "metadata": {},
     "outputs": [
      {
       "output_type": "stream",
       "stream": "stdout",
       "text": [
        "+---+---+---+\n",
        "|tag|  x|  y|\n",
        "+---+---+---+\n",
        "|  A|1.0|1.0|\n",
        "|  B|2.0|2.0|\n",
        "|  C|3.0|3.0|\n",
        "|  D|4.0|4.0|\n",
        "|  E|5.0|5.0|\n",
        "|  F|6.0|6.0|\n",
        "|  G|7.0|7.0|\n",
        "+---+---+---+\n",
        "\n"
       ]
      }
     ],
     "prompt_number": 9
    },
    {
     "cell_type": "code",
     "collapsed": false,
     "input": [
      "points.registerTempTable(\"points\")\n",
      "sql = \"SELECT * FROM points WHERE POINT(x, y) IN CIRCLERANGE(POINT(4.5, 4.5), 2)\"\n",
      "sqlContext.sql(sql).show()"
     ],
     "language": "python",
     "metadata": {},
     "outputs": [
      {
       "output_type": "stream",
       "stream": "stdout",
       "text": [
        "+---+---+---+\n",
        "|tag|  x|  y|\n",
        "+---+---+---+\n",
        "|  D|4.0|4.0|\n",
        "|  E|5.0|5.0|\n",
        "+---+---+---+\n",
        "\n"
       ]
      }
     ],
     "prompt_number": 10
    },
    {
     "cell_type": "code",
     "collapsed": false,
     "input": [],
     "language": "python",
     "metadata": {},
     "outputs": []
    }
   ],
   "metadata": {}
  }
 ]
}
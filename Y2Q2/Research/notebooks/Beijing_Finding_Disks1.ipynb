{
 "cells": [
  {
   "cell_type": "markdown",
   "metadata": {},
   "source": [
    "# We need some libraries and initial parameters..."
   ]
  },
  {
   "cell_type": "code",
   "execution_count": 110,
   "metadata": {
    "collapsed": false
   },
   "outputs": [],
   "source": [
    "library(SparkR)\n",
    "library(leaflet)\n",
    "library(sp)\n",
    "options(digits=15)\n",
    "\n",
    "epsilon = 100\n",
    "source(\"pbfe.R\")"
   ]
  },
  {
   "cell_type": "markdown",
   "metadata": {},
   "source": [
    "# Let load some data..."
   ]
  },
  {
   "cell_type": "code",
   "execution_count": 64,
   "metadata": {
    "collapsed": false
   },
   "outputs": [
    {
     "data": {
      "text/html": [
       "<table>\n",
       "<thead><tr><th scope=col>ID</th><th scope=col>lat</th><th scope=col>lng</th></tr></thead>\n",
       "<tbody>\n",
       "\t<tr><td>1          </td><td>39.5905830 </td><td>116.2719450</td></tr>\n",
       "\t<tr><td>2          </td><td>39.6334840 </td><td>116.7282400</td></tr>\n",
       "\t<tr><td>3          </td><td>39.6558133 </td><td>116.6641916</td></tr>\n",
       "\t<tr><td>4          </td><td>39.6596780 </td><td>116.6711490</td></tr>\n",
       "\t<tr><td>5          </td><td>39.6654583 </td><td>116.3098399</td></tr>\n",
       "\t<tr><td>6          </td><td>39.6728416 </td><td>116.3086649</td></tr>\n",
       "</tbody>\n",
       "</table>\n"
      ],
      "text/latex": [
       "\\begin{tabular}{r|lll}\n",
       " ID & lat & lng\\\\\n",
       "\\hline\n",
       "\t 1           & 39.5905830  & 116.2719450\\\\\n",
       "\t 2           & 39.6334840  & 116.7282400\\\\\n",
       "\t 3           & 39.6558133  & 116.6641916\\\\\n",
       "\t 4           & 39.6596780  & 116.6711490\\\\\n",
       "\t 5           & 39.6654583  & 116.3098399\\\\\n",
       "\t 6           & 39.6728416  & 116.3086649\\\\\n",
       "\\end{tabular}\n"
      ],
      "text/plain": [
       "  ID lat        lng        \n",
       "1 1  39.5905830 116.2719450\n",
       "2 2  39.6334840 116.7282400\n",
       "3 3  39.6558133 116.6641916\n",
       "4 4  39.6596780 116.6711490\n",
       "5 5  39.6654583 116.3098399\n",
       "6 6  39.6728416 116.3086649"
      ]
     },
     "metadata": {},
     "output_type": "display_data"
    }
   ],
   "source": [
    "data = read.csv(\"sample_small.csv\")\n",
    "names(data) = c(\"ID\",\"lat\",\"lng\")\n",
    "head(data)"
   ]
  },
  {
   "cell_type": "markdown",
   "metadata": {},
   "source": [
    "# and visualize them in a map..."
   ]
  },
  {
   "cell_type": "code",
   "execution_count": 65,
   "metadata": {
    "collapsed": false
   },
   "outputs": [
    {
     "data": {
      "text/html": [
       "<iframe width=100% height=400 src='  map1.html  '  />"
      ]
     },
     "metadata": {},
     "output_type": "display_data"
    }
   ],
   "source": [
    "map = leaflet() %>%\n",
    "  addTiles() %>%\n",
    "  addCircleMarkers(lng=data$lng, lat=data$lat,weight=2,fillOpacity=1,color=\"blue\",radius=2)\n",
    "\n",
    "file = 'map1.html'\n",
    "htmlwidgets::saveWidget(map, file = file, selfcontained = F)\n",
    "IRdisplay::display_html(paste(\"<iframe width=100% height=400 src=' \", file, \" ' \",\"/>\"))"
   ]
  },
  {
   "cell_type": "markdown",
   "metadata": {},
   "source": [
    "https://ec2-35-162-64-98.us-west-2.compute.amazonaws.com:8888/home/ubuntu/notebooks/files/map1.html"
   ]
  },
  {
   "cell_type": "markdown",
   "metadata": {},
   "source": [
    "# Connecting with Simba and getting a SQLContext..."
   ]
  },
  {
   "cell_type": "code",
   "execution_count": 66,
   "metadata": {
    "collapsed": false
   },
   "outputs": [
    {
     "name": "stdout",
     "output_type": "stream",
     "text": [
      "Re-using existing Spark Context. Please stop SparkR with sparkR.stop() or restart R to create a new Spark Context\n"
     ]
    }
   ],
   "source": [
    "sc <- sparkR.init(\"local[*]\", \"SparkR\")\n",
    "sqlContext <- sparkRSQL.init(sc)"
   ]
  },
  {
   "cell_type": "markdown",
   "metadata": {},
   "source": [
    "# Let read the data into Simba and apply a transformation..."
   ]
  },
  {
   "cell_type": "code",
   "execution_count": 67,
   "metadata": {
    "collapsed": false
   },
   "outputs": [],
   "source": [
    "dataRDD = SparkR:::textFile(sc,\"sample_small.csv\")\n",
    "dataRDD = SparkR:::map(dataRDD, transformCoords)"
   ]
  },
  {
   "cell_type": "markdown",
   "metadata": {},
   "source": [
    "# Now We create a DataFrame and cache the data..."
   ]
  },
  {
   "cell_type": "code",
   "execution_count": 68,
   "metadata": {
    "collapsed": false
   },
   "outputs": [
    {
     "data": {
      "text/plain": [
       "DataFrame[id:double, lng:double, lat:double]"
      ]
     },
     "metadata": {},
     "output_type": "display_data"
    }
   ],
   "source": [
    "schema <- structType(structField(\"id\", \"double\"), structField(\"lng\", \"double\"), structField(\"lat\", \"double\"))\n",
    "points <- createDataFrame(sqlContext, dataRDD, schema = schema)\n",
    "cache(points)"
   ]
  },
  {
   "cell_type": "markdown",
   "metadata": {},
   "source": [
    "# Let's have a look..."
   ]
  },
  {
   "cell_type": "code",
   "execution_count": 69,
   "metadata": {
    "collapsed": false
   },
   "outputs": [
    {
     "data": {
      "text/html": [
       "<table>\n",
       "<thead><tr><th scope=col>id</th><th scope=col>lng</th><th scope=col>lat</th></tr></thead>\n",
       "<tbody>\n",
       "\t<tr><td>0                </td><td>-300629.930290752</td><td>4419848.70124370 </td></tr>\n",
       "\t<tr><td>1                </td><td>-336418.933794024</td><td>4429641.88724925 </td></tr>\n",
       "\t<tr><td>2                </td><td>-296625.402561355</td><td>4430225.49965138 </td></tr>\n",
       "\t<tr><td>3                </td><td>-301876.547452500</td><td>4433286.74767265 </td></tr>\n",
       "\t<tr><td>4                </td><td>-301232.904159629</td><td>4433654.10554999 </td></tr>\n",
       "\t<tr><td>5                </td><td>-332247.212576558</td><td>4437621.06989079 </td></tr>\n",
       "</tbody>\n",
       "</table>\n"
      ],
      "text/latex": [
       "\\begin{tabular}{r|lll}\n",
       " id & lng & lat\\\\\n",
       "\\hline\n",
       "\t 0                 & -300629.930290752 & 4419848.70124370 \\\\\n",
       "\t 1                 & -336418.933794024 & 4429641.88724925 \\\\\n",
       "\t 2                 & -296625.402561355 & 4430225.49965138 \\\\\n",
       "\t 3                 & -301876.547452500 & 4433286.74767265 \\\\\n",
       "\t 4                 & -301232.904159629 & 4433654.10554999 \\\\\n",
       "\t 5                 & -332247.212576558 & 4437621.06989079 \\\\\n",
       "\\end{tabular}\n"
      ],
      "text/plain": [
       "  id lng               lat             \n",
       "1 0  -300629.930290752 4419848.70124370\n",
       "2 1  -336418.933794024 4429641.88724925\n",
       "3 2  -296625.402561355 4430225.49965138\n",
       "4 3  -301876.547452500 4433286.74767265\n",
       "5 4  -301232.904159629 4433654.10554999\n",
       "6 5  -332247.212576558 4437621.06989079"
      ]
     },
     "metadata": {},
     "output_type": "display_data"
    },
    {
     "data": {
      "text/html": [
       "899"
      ],
      "text/latex": [
       "899"
      ],
      "text/markdown": [
       "899"
      ],
      "text/plain": [
       "[1] 899"
      ]
     },
     "metadata": {},
     "output_type": "display_data"
    }
   ],
   "source": [
    "head(points)\n",
    "count(points)"
   ]
  },
  {
   "cell_type": "markdown",
   "metadata": {
    "collapsed": false
   },
   "source": [
    "# Now, We need register a pair of temporal tables..."
   ]
  },
  {
   "cell_type": "code",
   "execution_count": 70,
   "metadata": {
    "collapsed": true
   },
   "outputs": [],
   "source": [
    "registerTempTable(points, \"p1\")\n",
    "registerTempTable(points, \"p2\")"
   ]
  },
  {
   "cell_type": "markdown",
   "metadata": {},
   "source": [
    "# It is time to execute the SQL statement...\n",
    "\n",
    "```SQL\n",
    "SELECT\n",
    "    * \n",
    "FROM \n",
    "    p1 \n",
    "DISTANCE JOIN \n",
    "    p2\n",
    "ON \n",
    "    POINT(p2.lng, p2.lat) IN CIRCLERANGE(POINT(p1.lng, p1.lat), epsilon)\n",
    "WHERE \n",
    "    p2.id < p1.id\n",
    "```"
   ]
  },
  {
   "cell_type": "code",
   "execution_count": 71,
   "metadata": {
    "collapsed": false
   },
   "outputs": [
    {
     "data": {
      "text/html": [
       "<table>\n",
       "<thead><tr><th scope=col>id</th><th scope=col>lng</th><th scope=col>lat</th><th scope=col>id</th><th scope=col>lng</th><th scope=col>lat</th></tr></thead>\n",
       "<tbody>\n",
       "\t<tr><td> 26              </td><td>-332354.697252151</td><td>4456150.25607556 </td><td> 24              </td><td>-332269.409834687</td><td>4456108.23475632 </td></tr>\n",
       "\t<tr><td> 46              </td><td>-334242.745346436</td><td>4459715.58979402 </td><td> 45              </td><td>-334252.427014354</td><td>4459698.61791281 </td></tr>\n",
       "\t<tr><td>121              </td><td>-353770.269435442</td><td>4466969.59768473 </td><td>120              </td><td>-353766.652493862</td><td>4466963.17659202 </td></tr>\n",
       "\t<tr><td>130              </td><td>-333308.000776320</td><td>4464833.44031216 </td><td>128              </td><td>-333297.180249493</td><td>4464823.99102774 </td></tr>\n",
       "\t<tr><td>304              </td><td>-329311.693033604</td><td>4470875.30350448 </td><td>303              </td><td>-329325.492285997</td><td>4470858.56913779 </td></tr>\n",
       "\t<tr><td>315              </td><td>-327600.494406201</td><td>4470962.75742948 </td><td>314              </td><td>-327656.535980798</td><td>4470964.20013813 </td></tr>\n",
       "</tbody>\n",
       "</table>\n"
      ],
      "text/latex": [
       "\\begin{tabular}{r|llllll}\n",
       " id & lng & lat & id & lng & lat\\\\\n",
       "\\hline\n",
       "\t  26               & -332354.697252151 & 4456150.25607556  &  24               & -332269.409834687 & 4456108.23475632 \\\\\n",
       "\t  46               & -334242.745346436 & 4459715.58979402  &  45               & -334252.427014354 & 4459698.61791281 \\\\\n",
       "\t 121               & -353770.269435442 & 4466969.59768473  & 120               & -353766.652493862 & 4466963.17659202 \\\\\n",
       "\t 130               & -333308.000776320 & 4464833.44031216  & 128               & -333297.180249493 & 4464823.99102774 \\\\\n",
       "\t 304               & -329311.693033604 & 4470875.30350448  & 303               & -329325.492285997 & 4470858.56913779 \\\\\n",
       "\t 315               & -327600.494406201 & 4470962.75742948  & 314               & -327656.535980798 & 4470964.20013813 \\\\\n",
       "\\end{tabular}\n"
      ],
      "text/plain": [
       "  id  lng               lat              id  lng               lat             \n",
       "1  26 -332354.697252151 4456150.25607556  24 -332269.409834687 4456108.23475632\n",
       "2  46 -334242.745346436 4459715.58979402  45 -334252.427014354 4459698.61791281\n",
       "3 121 -353770.269435442 4466969.59768473 120 -353766.652493862 4466963.17659202\n",
       "4 130 -333308.000776320 4464833.44031216 128 -333297.180249493 4464823.99102774\n",
       "5 304 -329311.693033604 4470875.30350448 303 -329325.492285997 4470858.56913779\n",
       "6 315 -327600.494406201 4470962.75742948 314 -327656.535980798 4470964.20013813"
      ]
     },
     "metadata": {},
     "output_type": "display_data"
    },
    {
     "data": {
      "text/html": [
       "336"
      ],
      "text/latex": [
       "336"
      ],
      "text/markdown": [
       "336"
      ],
      "text/plain": [
       "[1] 336"
      ]
     },
     "metadata": {},
     "output_type": "display_data"
    }
   ],
   "source": [
    "sql = paste0(\"SELECT * FROM p1 DISTANCE JOIN p2 ON POINT(p2.lng, p2.lat) IN CIRCLERANGE(POINT(p1.lng, p1.lat), \",epsilon,\") WHERE p2.id < p1.id\")\n",
    "pairs = sql(sqlContext,sql)\n",
    "head(pairs)\n",
    "nrow(pairs)"
   ]
  },
  {
   "cell_type": "markdown",
   "metadata": {},
   "source": [
    "# Now We need to calculate the disk locations for each pair..."
   ]
  },
  {
   "cell_type": "code",
   "execution_count": 73,
   "metadata": {
    "collapsed": false
   },
   "outputs": [
    {
     "data": {
      "text/html": [
       "<table>\n",
       "<thead><tr><th scope=col>id1</th><th scope=col>id2</th><th scope=col>lng1</th><th scope=col>lat1</th><th scope=col>lng2</th><th scope=col>lat2</th></tr></thead>\n",
       "<tbody>\n",
       "\t<tr><td> 26              </td><td> 24              </td><td>-332305.205643173</td><td>4456143.14406876 </td><td>-332318.901443665</td><td>4456115.34676312 </td></tr>\n",
       "\t<tr><td> 46              </td><td> 45              </td><td>-334204.992900705</td><td>4459682.80637075 </td><td>-334290.179460085</td><td>4459731.40133608 </td></tr>\n",
       "\t<tr><td>121              </td><td>120              </td><td>-353725.015378929</td><td>4466990.85963123 </td><td>-353811.906550376</td><td>4466941.91464552 </td></tr>\n",
       "\t<tr><td>130              </td><td>128              </td><td>-333270.043247426</td><td>4464865.98606458 </td><td>-333335.137778387</td><td>4464791.44527532 </td></tr>\n",
       "\t<tr><td>526              </td><td>525              </td><td>-333095.941684751</td><td>4473214.22184632 </td><td>-333093.905954470</td><td>4473233.68774871 </td></tr>\n",
       "\t<tr><td>304              </td><td>303              </td><td>-329280.934882795</td><td>4470835.88350754 </td><td>-329356.250436806</td><td>4470897.98913473 </td></tr>\n",
       "</tbody>\n",
       "</table>\n"
      ],
      "text/latex": [
       "\\begin{tabular}{r|llllll}\n",
       " id1 & id2 & lng1 & lat1 & lng2 & lat2\\\\\n",
       "\\hline\n",
       "\t  26               &  24               & -332305.205643173 & 4456143.14406876  & -332318.901443665 & 4456115.34676312 \\\\\n",
       "\t  46               &  45               & -334204.992900705 & 4459682.80637075  & -334290.179460085 & 4459731.40133608 \\\\\n",
       "\t 121               & 120               & -353725.015378929 & 4466990.85963123  & -353811.906550376 & 4466941.91464552 \\\\\n",
       "\t 130               & 128               & -333270.043247426 & 4464865.98606458  & -333335.137778387 & 4464791.44527532 \\\\\n",
       "\t 526               & 525               & -333095.941684751 & 4473214.22184632  & -333093.905954470 & 4473233.68774871 \\\\\n",
       "\t 304               & 303               & -329280.934882795 & 4470835.88350754  & -329356.250436806 & 4470897.98913473 \\\\\n",
       "\\end{tabular}\n"
      ],
      "text/plain": [
       "  id1 id2 lng1              lat1             lng2              lat2            \n",
       "1  26  24 -332305.205643173 4456143.14406876 -332318.901443665 4456115.34676312\n",
       "2  46  45 -334204.992900705 4459682.80637075 -334290.179460085 4459731.40133608\n",
       "3 121 120 -353725.015378929 4466990.85963123 -353811.906550376 4466941.91464552\n",
       "4 130 128 -333270.043247426 4464865.98606458 -333335.137778387 4464791.44527532\n",
       "5 526 525 -333095.941684751 4473214.22184632 -333093.905954470 4473233.68774871\n",
       "6 304 303 -329280.934882795 4470835.88350754 -329356.250436806 4470897.98913473"
      ]
     },
     "metadata": {},
     "output_type": "display_data"
    },
    {
     "data": {
      "text/html": [
       "336"
      ],
      "text/latex": [
       "336"
      ],
      "text/markdown": [
       "336"
      ],
      "text/plain": [
       "[1] 336"
      ]
     },
     "metadata": {},
     "output_type": "display_data"
    }
   ],
   "source": [
    "centers <- SparkR:::map(pairs, calculateDisk)\n",
    "schema <- structType(structField(\"id1\", \"double\"), structField(\"id2\", \"double\"), structField(\"lng1\", \"double\"), structField(\"lat1\", \"double\"), structField(\"lng2\", \"double\"), structField(\"lat2\", \"double\"))\n",
    "d <- createDataFrame(sqlContext, centers, schema = schema)\n",
    "head(d)\n",
    "count(d)"
   ]
  },
  {
   "cell_type": "markdown",
   "metadata": {},
   "source": [
    "# Let's collect the data back to LatLong coordinates..."
   ]
  },
  {
   "cell_type": "code",
   "execution_count": 74,
   "metadata": {
    "collapsed": false
   },
   "outputs": [
    {
     "data": {
      "text/html": [
       "<table>\n",
       "<thead><tr><th scope=col>id1</th><th scope=col>id2</th><th scope=col>lng1</th><th scope=col>lat1</th><th scope=col>lng2</th><th scope=col>lat2</th></tr></thead>\n",
       "<tbody>\n",
       "\t<tr><td> 26             </td><td> 24             </td><td>116.285885554993</td><td>39.8298282965222</td><td>116.285762963790</td><td>39.8295682120280</td></tr>\n",
       "\t<tr><td> 46             </td><td> 45             </td><td>116.259531520747</td><td>39.8593958326468</td><td>116.258488803823</td><td>39.8597439691014</td></tr>\n",
       "\t<tr><td>121             </td><td>120             </td><td>116.025337096455</td><td>39.9049404914115</td><td>116.024399992141</td><td>39.9044193990716</td></tr>\n",
       "\t<tr><td>130             </td><td>128             </td><td>116.263731245981</td><td>39.9063158237837</td><td>116.263075584504</td><td>39.9055905801566</td></tr>\n",
       "\t<tr><td>526             </td><td>525             </td><td>116.255128264593</td><td>39.9805850682347</td><td>116.255126967427</td><td>39.9807598381811</td></tr>\n",
       "\t<tr><td>304             </td><td>303             </td><td>116.302161916191</td><td>39.9632009910608</td><td>116.301214396641</td><td>39.9636789126113</td></tr>\n",
       "</tbody>\n",
       "</table>\n"
      ],
      "text/latex": [
       "\\begin{tabular}{r|llllll}\n",
       " id1 & id2 & lng1 & lat1 & lng2 & lat2\\\\\n",
       "\\hline\n",
       "\t  26              &  24              & 116.285885554993 & 39.8298282965222 & 116.285762963790 & 39.8295682120280\\\\\n",
       "\t  46              &  45              & 116.259531520747 & 39.8593958326468 & 116.258488803823 & 39.8597439691014\\\\\n",
       "\t 121              & 120              & 116.025337096455 & 39.9049404914115 & 116.024399992141 & 39.9044193990716\\\\\n",
       "\t 130              & 128              & 116.263731245981 & 39.9063158237837 & 116.263075584504 & 39.9055905801566\\\\\n",
       "\t 526              & 525              & 116.255128264593 & 39.9805850682347 & 116.255126967427 & 39.9807598381811\\\\\n",
       "\t 304              & 303              & 116.302161916191 & 39.9632009910608 & 116.301214396641 & 39.9636789126113\\\\\n",
       "\\end{tabular}\n"
      ],
      "text/plain": [
       "  id1 id2 lng1             lat1             lng2             lat2            \n",
       "1  26  24 116.285885554993 39.8298282965222 116.285762963790 39.8295682120280\n",
       "2  46  45 116.259531520747 39.8593958326468 116.258488803823 39.8597439691014\n",
       "3 121 120 116.025337096455 39.9049404914115 116.024399992141 39.9044193990716\n",
       "4 130 128 116.263731245981 39.9063158237837 116.263075584504 39.9055905801566\n",
       "5 526 525 116.255128264593 39.9805850682347 116.255126967427 39.9807598381811\n",
       "6 304 303 116.302161916191 39.9632009910608 116.301214396641 39.9636789126113"
      ]
     },
     "metadata": {},
     "output_type": "display_data"
    },
    {
     "data": {
      "text/html": [
       "336"
      ],
      "text/latex": [
       "336"
      ],
      "text/markdown": [
       "336"
      ],
      "text/plain": [
       "[1] 336"
      ]
     },
     "metadata": {},
     "output_type": "display_data"
    }
   ],
   "source": [
    "centers_lnglat <- SparkR:::map(centers, transformCenters)\n",
    "disks <- as.data.frame(createDataFrame(sqlContext,centers_lnglat))\n",
    "names(disks) = c(\"id1\",\"id2\",\"lng1\",\"lat1\",\"lng2\",\"lat2\")\n",
    "head(disks)\n",
    "nrow(disks)"
   ]
  },
  {
   "cell_type": "markdown",
   "metadata": {
    "collapsed": false
   },
   "source": [
    "# Let's have a look at the results..."
   ]
  },
  {
   "cell_type": "code",
   "execution_count": 75,
   "metadata": {
    "collapsed": false,
    "scrolled": true
   },
   "outputs": [
    {
     "data": {
      "text/html": [
       "<iframe width=100% height=400 src='  map2.html  '  />"
      ]
     },
     "metadata": {},
     "output_type": "display_data"
    }
   ],
   "source": [
    "p = sort(unique(c(disks$id1,disks$id2)))\n",
    "data2 = data[p,]\n",
    "map = leaflet() %>% setView(lat = 39.990010, lng = 116.317406, zoom = 15) %>% addTiles() %>% \n",
    "        addCircles(lng=disks$lng1, lat=disks$lat1, weight=2, fillOpacity=0.25, color=\"red\", radius = epsilon/2) %>%\n",
    "        addCircles(lng=disks$lng2, lat=disks$lat2, weight=2, fillOpacity=0.25, color=\"red\", radius = epsilon/2) %>%\n",
    "        addCircleMarkers(lng=data$lng, lat=data$lat, weight=2, fillOpacity=1,radius = 2) %>%\n",
    "        addCircleMarkers(lng=data2$lng, lat=data2$lat, weight=2, fillOpacity=1, color=\"purple\", radius = 2) %>% \n",
    "        addProviderTiles(\"Esri.WorldImagery\", group = \"ESRI\") %>% \n",
    "        addLayersControl(baseGroup = c(\"OSM(default)\", \"ESRI\"))\n",
    "\n",
    "file = 'map2.html'\n",
    "htmlwidgets::saveWidget(map, file = file, selfcontained = F)\n",
    "IRdisplay::display_html(paste(\"<iframe width=100% height=400 src=' \", file, \" ' \",\"/>\"))"
   ]
  },
  {
   "cell_type": "markdown",
   "metadata": {
    "collapsed": true
   },
   "source": [
    "https://ec2-35-162-64-98.us-west-2.compute.amazonaws.com:8888/home/ubuntu/notebooks/files/map2.html"
   ]
  },
  {
   "cell_type": "code",
   "execution_count": 76,
   "metadata": {
    "collapsed": false
   },
   "outputs": [],
   "source": [
    "registerTempTable(d, \"d\")\n",
    "registerTempTable(points, \"p\")"
   ]
  },
  {
   "cell_type": "code",
   "execution_count": 125,
   "metadata": {
    "collapsed": false
   },
   "outputs": [],
   "source": [
    "sql = paste0(\"SELECT d.lng1 AS lng, d.lat1 AS lat, id AS id_member FROM d DISTANCE JOIN p ON POINT(p.lng, p.lat) IN CIRCLERANGE(POINT(d.lng1, d.lat1), \",(epsilon/2)+0.01,\")\")\n",
    "mdisks = sql(sqlContext,sql)\n",
    "registerTempTable(mdisks, \"m\")\n",
    "sql = \"SELECT lng, lat FROM m GROUP BY lng, lat HAVING count(id_member) >= 3\"\n",
    "mdisks1 = sql(sqlContext,sql)"
   ]
  },
  {
   "cell_type": "code",
   "execution_count": 126,
   "metadata": {
    "collapsed": false
   },
   "outputs": [],
   "source": [
    "sql = paste0(\"SELECT d.lng2 AS lng, d.lat2 AS lat, id AS id_member FROM d DISTANCE JOIN p ON POINT(p.lng, p.lat) IN CIRCLERANGE(POINT(d.lng2, d.lat2), \",(epsilon/2)+0.01,\")\")\n",
    "mdisks = sql(sqlContext,sql)\n",
    "registerTempTable(mdisks, \"m\")\n",
    "sql = \"SELECT lng, lat FROM m GROUP BY lng, lat HAVING count(id_member) >= 3\"\n",
    "mdisks2 = sql(sqlContext,sql)"
   ]
  },
  {
   "cell_type": "code",
   "execution_count": 127,
   "metadata": {
    "collapsed": false
   },
   "outputs": [],
   "source": [
    "mdisks = as.data.frame(rbind(mdisks1, mdisks2))\n",
    "id = seq(1,nrow(mdisks))\n",
    "mdisks$id = id\n",
    "\n",
    "coordinates(mdisks) = ~lng+lat\n",
    "proj4string(mdisks) = mercator\n",
    "mdisks = spTransform(mdisks, wgs84)\n",
    "mdisks$lng1 = coordinates(mdisks)[,1]\n",
    "mdisks$lat1 = coordinates(mdisks)[,2]"
   ]
  },
  {
   "cell_type": "code",
   "execution_count": 129,
   "metadata": {
    "collapsed": false
   },
   "outputs": [
    {
     "data": {
      "text/html": [
       "<iframe width=100% height=400 src='  map3.html  '  />"
      ]
     },
     "metadata": {},
     "output_type": "display_data"
    }
   ],
   "source": [
    "map = leaflet() %>% setView(lat = 39.990010, lng = 116.317406, zoom = 15) %>% addTiles() %>% \n",
    "        addCircles(lng=mdisks$lng1, lat=mdisks$lat1, weight=2, fillOpacity=0.25, color=\"blue\", radius = epsilon/2) %>%\n",
    "        addCircleMarkers(lng=data$lng, lat=data$lat, weight=2, fillOpacity=1,radius = 2) %>%\n",
    "        addCircleMarkers(lng=data2$lng, lat=data2$lat, weight=2, fillOpacity=1, color=\"purple\", radius = 2) %>% \n",
    "        addProviderTiles(\"Esri.WorldImagery\", group = \"ESRI\") %>% \n",
    "        addLayersControl(baseGroup = c(\"OSM(default)\", \"ESRI\"))\n",
    "\n",
    "file = 'map3.html'\n",
    "htmlwidgets::saveWidget(map, file = file, selfcontained = F)\n",
    "IRdisplay::display_html(paste(\"<iframe width=100% height=400 src=' \", file, \" ' \",\"/>\"))"
   ]
  },
  {
   "cell_type": "code",
   "execution_count": 137,
   "metadata": {
    "collapsed": false
   },
   "outputs": [
    {
     "data": {
      "text/html": [
       "1"
      ],
      "text/latex": [
       "1"
      ],
      "text/markdown": [
       "1"
      ],
      "text/plain": [
       "[1] 1"
      ]
     },
     "metadata": {},
     "output_type": "display_data"
    },
    {
     "data": {
      "text/html": [
       "0"
      ],
      "text/latex": [
       "0"
      ],
      "text/markdown": [
       "0"
      ],
      "text/plain": [
       "[1] 0"
      ]
     },
     "metadata": {},
     "output_type": "display_data"
    }
   ],
   "source": [
    "v = c(0,1,2,3,4,5,6,7,8,9)\n",
    "\n",
    "k = c(7,5,2,9)\n",
    "\n",
    "prod(is.element(k, v) )\n",
    "\n",
    "k = c(7,5,20,9)\n",
    "\n",
    "prod(is.element(k, v) )"
   ]
  },
  {
   "cell_type": "code",
   "execution_count": 172,
   "metadata": {
    "collapsed": false
   },
   "outputs": [
    {
     "data": {
      "text/html": [
       "<table>\n",
       "<thead><tr><th scope=col>lng</th><th scope=col>lat</th><th scope=col>id</th></tr></thead>\n",
       "<tbody>\n",
       "\t<tr><td>-326785.031291999</td><td>4474106.72293867 </td><td>1                </td></tr>\n",
       "\t<tr><td>-326642.410067071</td><td>4471946.67646511 </td><td>2                </td></tr>\n",
       "\t<tr><td>-326719.658916002</td><td>4471883.24867805 </td><td>3                </td></tr>\n",
       "\t<tr><td>-326725.183218763</td><td>4471877.32793320 </td><td>4                </td></tr>\n",
       "\t<tr><td>-326438.602588559</td><td>4471946.88995418 </td><td>5                </td></tr>\n",
       "\t<tr><td>-327206.286667153</td><td>4475653.52300156 </td><td>6                </td></tr>\n",
       "</tbody>\n",
       "</table>\n"
      ],
      "text/latex": [
       "\\begin{tabular}{r|lll}\n",
       " lng & lat & id\\\\\n",
       "\\hline\n",
       "\t -326785.031291999 & 4474106.72293867  & 1                \\\\\n",
       "\t -326642.410067071 & 4471946.67646511  & 2                \\\\\n",
       "\t -326719.658916002 & 4471883.24867805  & 3                \\\\\n",
       "\t -326725.183218763 & 4471877.32793320  & 4                \\\\\n",
       "\t -326438.602588559 & 4471946.88995418  & 5                \\\\\n",
       "\t -327206.286667153 & 4475653.52300156  & 6                \\\\\n",
       "\\end{tabular}\n"
      ],
      "text/plain": [
       "  lng               lat              id\n",
       "1 -326785.031291999 4474106.72293867 1 \n",
       "2 -326642.410067071 4471946.67646511 2 \n",
       "3 -326719.658916002 4471883.24867805 3 \n",
       "4 -326725.183218763 4471877.32793320 4 \n",
       "5 -326438.602588559 4471946.88995418 5 \n",
       "6 -327206.286667153 4475653.52300156 6 "
      ]
     },
     "metadata": {},
     "output_type": "display_data"
    },
    {
     "data": {
      "text/html": [
       "296"
      ],
      "text/latex": [
       "296"
      ],
      "text/markdown": [
       "296"
      ],
      "text/plain": [
       "[1] 296"
      ]
     },
     "metadata": {},
     "output_type": "display_data"
    },
    {
     "data": {
      "text/html": [
       "<table>\n",
       "<thead><tr><th scope=col>id</th><th scope=col>lng</th><th scope=col>lat</th></tr></thead>\n",
       "<tbody>\n",
       "\t<tr><td>0                </td><td>-300629.930290752</td><td>4419848.70124370 </td></tr>\n",
       "\t<tr><td>1                </td><td>-336418.933794024</td><td>4429641.88724925 </td></tr>\n",
       "\t<tr><td>2                </td><td>-296625.402561355</td><td>4430225.49965138 </td></tr>\n",
       "\t<tr><td>3                </td><td>-301876.547452500</td><td>4433286.74767265 </td></tr>\n",
       "\t<tr><td>4                </td><td>-301232.904159629</td><td>4433654.10554999 </td></tr>\n",
       "\t<tr><td>5                </td><td>-332247.212576558</td><td>4437621.06989079 </td></tr>\n",
       "</tbody>\n",
       "</table>\n"
      ],
      "text/latex": [
       "\\begin{tabular}{r|lll}\n",
       " id & lng & lat\\\\\n",
       "\\hline\n",
       "\t 0                 & -300629.930290752 & 4419848.70124370 \\\\\n",
       "\t 1                 & -336418.933794024 & 4429641.88724925 \\\\\n",
       "\t 2                 & -296625.402561355 & 4430225.49965138 \\\\\n",
       "\t 3                 & -301876.547452500 & 4433286.74767265 \\\\\n",
       "\t 4                 & -301232.904159629 & 4433654.10554999 \\\\\n",
       "\t 5                 & -332247.212576558 & 4437621.06989079 \\\\\n",
       "\\end{tabular}\n"
      ],
      "text/plain": [
       "  id lng               lat             \n",
       "1 0  -300629.930290752 4419848.70124370\n",
       "2 1  -336418.933794024 4429641.88724925\n",
       "3 2  -296625.402561355 4430225.49965138\n",
       "4 3  -301876.547452500 4433286.74767265\n",
       "5 4  -301232.904159629 4433654.10554999\n",
       "6 5  -332247.212576558 4437621.06989079"
      ]
     },
     "metadata": {},
     "output_type": "display_data"
    },
    {
     "data": {
      "text/html": [
       "899"
      ],
      "text/latex": [
       "899"
      ],
      "text/markdown": [
       "899"
      ],
      "text/plain": [
       "[1] 899"
      ]
     },
     "metadata": {},
     "output_type": "display_data"
    },
    {
     "data": {
      "text/html": [
       "<table>\n",
       "<thead><tr><th scope=col>mid</th><th scope=col>pid</th></tr></thead>\n",
       "<tbody>\n",
       "\t<tr><td> 10</td><td>638</td></tr>\n",
       "\t<tr><td> 10</td><td>641</td></tr>\n",
       "\t<tr><td> 10</td><td>645</td></tr>\n",
       "\t<tr><td> 27</td><td>435</td></tr>\n",
       "\t<tr><td> 35</td><td>623</td></tr>\n",
       "\t<tr><td> 35</td><td>627</td></tr>\n",
       "\t<tr><td> 35</td><td>632</td></tr>\n",
       "\t<tr><td> 45</td><td>435</td></tr>\n",
       "\t<tr><td> 45</td><td>455</td></tr>\n",
       "\t<tr><td> 50</td><td>572</td></tr>\n",
       "\t<tr><td> 50</td><td>566</td></tr>\n",
       "\t<tr><td> 50</td><td>568</td></tr>\n",
       "\t<tr><td>120</td><td>427</td></tr>\n",
       "\t<tr><td>120</td><td>435</td></tr>\n",
       "\t<tr><td>120</td><td>455</td></tr>\n",
       "\t<tr><td>135</td><td>631</td></tr>\n",
       "\t<tr><td>135</td><td>638</td></tr>\n",
       "\t<tr><td>135</td><td>641</td></tr>\n",
       "\t<tr><td>140</td><td>572</td></tr>\n",
       "\t<tr><td>140</td><td>566</td></tr>\n",
       "</tbody>\n",
       "</table>\n"
      ],
      "text/latex": [
       "\\begin{tabular}{r|ll}\n",
       " mid & pid\\\\\n",
       "\\hline\n",
       "\t  10 & 638\\\\\n",
       "\t  10 & 641\\\\\n",
       "\t  10 & 645\\\\\n",
       "\t  27 & 435\\\\\n",
       "\t  35 & 623\\\\\n",
       "\t  35 & 627\\\\\n",
       "\t  35 & 632\\\\\n",
       "\t  45 & 435\\\\\n",
       "\t  45 & 455\\\\\n",
       "\t  50 & 572\\\\\n",
       "\t  50 & 566\\\\\n",
       "\t  50 & 568\\\\\n",
       "\t 120 & 427\\\\\n",
       "\t 120 & 435\\\\\n",
       "\t 120 & 455\\\\\n",
       "\t 135 & 631\\\\\n",
       "\t 135 & 638\\\\\n",
       "\t 135 & 641\\\\\n",
       "\t 140 & 572\\\\\n",
       "\t 140 & 566\\\\\n",
       "\\end{tabular}\n"
      ],
      "text/plain": [
       "   mid pid\n",
       "1   10 638\n",
       "2   10 641\n",
       "3   10 645\n",
       "4   27 435\n",
       "5   35 623\n",
       "6   35 627\n",
       "7   35 632\n",
       "8   45 435\n",
       "9   45 455\n",
       "10  50 572\n",
       "11  50 566\n",
       "12  50 568\n",
       "13 120 427\n",
       "14 120 435\n",
       "15 120 455\n",
       "16 135 631\n",
       "17 135 638\n",
       "18 135 641\n",
       "19 140 572\n",
       "20 140 566"
      ]
     },
     "metadata": {},
     "output_type": "display_data"
    },
    {
     "data": {
      "text/html": [
       "1159"
      ],
      "text/latex": [
       "1159"
      ],
      "text/markdown": [
       "1159"
      ],
      "text/plain": [
       "[1] 1159"
      ]
     },
     "metadata": {},
     "output_type": "display_data"
    }
   ],
   "source": [
    "m <- as.data.frame(rbind(mdisks1, mdisks2))\n",
    "m$id = seq(1,nrow(m))\n",
    "m = createDataFrame(sqlContext, m)\n",
    "head(m)\n",
    "count(m)\n",
    "registerTempTable(m, \"m\")\n",
    "\n",
    "head(points)\n",
    "count(points)\n",
    "\n",
    "sql = paste0(\"SELECT m.id AS mid, p.id AS pid FROM m DISTANCE JOIN p ON POINT(p.lng, p.lat) IN CIRCLERANGE (POINT(m.lng, m.lat), \",(epsilon/2)+0.01,\")\")\n",
    "t = sql(sqlContext,sql)\n",
    "head(t, 20)\n",
    "count(t)"
   ]
  },
  {
   "cell_type": "code",
   "execution_count": 170,
   "metadata": {
    "collapsed": false
   },
   "outputs": [
    {
     "name": "stderr",
     "output_type": "stream",
     "text": [
      "Loading required package: gsubfn\n",
      "Loading required package: proto\n",
      "Loading required package: RSQLite\n",
      "Loading required package: DBI\n"
     ]
    }
   ],
   "source": [
    "library(sqldf)"
   ]
  },
  {
   "cell_type": "code",
   "execution_count": 177,
   "metadata": {
    "collapsed": false
   },
   "outputs": [
    {
     "data": {
      "text/html": [
       "<table>\n",
       "<thead><tr><th scope=col>mid</th><th scope=col>pids</th></tr></thead>\n",
       "<tbody>\n",
       "\t<tr><td>1                      </td><td>689.0,693.0,691.0      </td></tr>\n",
       "\t<tr><td>2                      </td><td>444.0,451.0,458.0,463.0</td></tr>\n",
       "\t<tr><td>3                      </td><td>438.0,444.0,443.0,447.0</td></tr>\n",
       "\t<tr><td>4                      </td><td>438.0,443.0,447.0      </td></tr>\n",
       "\t<tr><td>5                      </td><td>448.0,449.0,460.0      </td></tr>\n",
       "\t<tr><td>6                      </td><td>763.0,764.0,762.0      </td></tr>\n",
       "</tbody>\n",
       "</table>\n"
      ],
      "text/latex": [
       "\\begin{tabular}{r|ll}\n",
       " mid & pids\\\\\n",
       "\\hline\n",
       "\t 1                       & 689.0,693.0,691.0      \\\\\n",
       "\t 2                       & 444.0,451.0,458.0,463.0\\\\\n",
       "\t 3                       & 438.0,444.0,443.0,447.0\\\\\n",
       "\t 4                       & 438.0,443.0,447.0      \\\\\n",
       "\t 5                       & 448.0,449.0,460.0      \\\\\n",
       "\t 6                       & 763.0,764.0,762.0      \\\\\n",
       "\\end{tabular}\n"
      ],
      "text/plain": [
       "  mid pids                   \n",
       "1 1   689.0,693.0,691.0      \n",
       "2 2   444.0,451.0,458.0,463.0\n",
       "3 3   438.0,444.0,443.0,447.0\n",
       "4 4   438.0,443.0,447.0      \n",
       "5 5   448.0,449.0,460.0      \n",
       "6 6   763.0,764.0,762.0      "
      ]
     },
     "metadata": {},
     "output_type": "display_data"
    },
    {
     "data": {
      "text/html": [
       "296"
      ],
      "text/latex": [
       "296"
      ],
      "text/markdown": [
       "296"
      ],
      "text/plain": [
       "[1] 296"
      ]
     },
     "metadata": {},
     "output_type": "display_data"
    }
   ],
   "source": [
    "t = as.data.frame(t)\n",
    "g = sqldf(\"SELECT mid, group_concat(pid) AS pids FROM t GROUP BY mid\")\n",
    "head(g)\n",
    "nrow(g)"
   ]
  },
  {
   "cell_type": "code",
   "execution_count": 178,
   "metadata": {
    "collapsed": false
   },
   "outputs": [
    {
     "data": {
      "text/html": [
       "<table>\n",
       "<thead><tr><th scope=col>mid</th><th scope=col>pids</th><th scope=col>mid</th><th scope=col>pids</th></tr></thead>\n",
       "<tbody>\n",
       "\t<tr><td>1                      </td><td>689.0,693.0,691.0      </td><td>2                      </td><td>444.0,451.0,458.0,463.0</td></tr>\n",
       "\t<tr><td>1                      </td><td>689.0,693.0,691.0      </td><td>3                      </td><td>438.0,444.0,443.0,447.0</td></tr>\n",
       "\t<tr><td>1                      </td><td>689.0,693.0,691.0      </td><td>4                      </td><td>438.0,443.0,447.0      </td></tr>\n",
       "\t<tr><td>1                      </td><td>689.0,693.0,691.0      </td><td>5                      </td><td>448.0,449.0,460.0      </td></tr>\n",
       "\t<tr><td>1                      </td><td>689.0,693.0,691.0      </td><td>6                      </td><td>763.0,764.0,762.0      </td></tr>\n",
       "\t<tr><td>1                      </td><td>689.0,693.0,691.0      </td><td>7                      </td><td>194.0,195.0,196.0,197.0</td></tr>\n",
       "</tbody>\n",
       "</table>\n"
      ],
      "text/latex": [
       "\\begin{tabular}{r|llll}\n",
       " mid & pids & mid & pids\\\\\n",
       "\\hline\n",
       "\t 1                       & 689.0,693.0,691.0       & 2                       & 444.0,451.0,458.0,463.0\\\\\n",
       "\t 1                       & 689.0,693.0,691.0       & 3                       & 438.0,444.0,443.0,447.0\\\\\n",
       "\t 1                       & 689.0,693.0,691.0       & 4                       & 438.0,443.0,447.0      \\\\\n",
       "\t 1                       & 689.0,693.0,691.0       & 5                       & 448.0,449.0,460.0      \\\\\n",
       "\t 1                       & 689.0,693.0,691.0       & 6                       & 763.0,764.0,762.0      \\\\\n",
       "\t 1                       & 689.0,693.0,691.0       & 7                       & 194.0,195.0,196.0,197.0\\\\\n",
       "\\end{tabular}\n"
      ],
      "text/plain": [
       "  mid pids              mid pids                   \n",
       "1 1   689.0,693.0,691.0 2   444.0,451.0,458.0,463.0\n",
       "2 1   689.0,693.0,691.0 3   438.0,444.0,443.0,447.0\n",
       "3 1   689.0,693.0,691.0 4   438.0,443.0,447.0      \n",
       "4 1   689.0,693.0,691.0 5   448.0,449.0,460.0      \n",
       "5 1   689.0,693.0,691.0 6   763.0,764.0,762.0      \n",
       "6 1   689.0,693.0,691.0 7   194.0,195.0,196.0,197.0"
      ]
     },
     "metadata": {},
     "output_type": "display_data"
    },
    {
     "data": {
      "text/html": [
       "43660"
      ],
      "text/latex": [
       "43660"
      ],
      "text/markdown": [
       "43660"
      ],
      "text/plain": [
       "[1] 43660"
      ]
     },
     "metadata": {},
     "output_type": "display_data"
    }
   ],
   "source": [
    "j = sqldf(\"SELECT * FROM g AS g1 JOIN g AS g2 WHERE g1.mid < g2.mid\")\n",
    "head(j)\n",
    "nrow(j)"
   ]
  },
  {
   "cell_type": "code",
   "execution_count": 180,
   "metadata": {
    "collapsed": false
   },
   "outputs": [
    {
     "data": {
      "text/html": [
       "43808"
      ],
      "text/latex": [
       "43808"
      ],
      "text/markdown": [
       "43808"
      ],
      "text/plain": [
       "[1] 43808"
      ]
     },
     "metadata": {},
     "output_type": "display_data"
    }
   ],
   "source": []
  },
  {
   "cell_type": "code",
   "execution_count": null,
   "metadata": {
    "collapsed": true
   },
   "outputs": [],
   "source": []
  }
 ],
 "metadata": {
  "anaconda-cloud": {},
  "kernelspec": {
   "display_name": "R",
   "language": "R",
   "name": "r"
  },
  "language_info": {
   "codemirror_mode": "r",
   "file_extension": ".r",
   "mimetype": "text/x-r-source",
   "name": "R",
   "pygments_lexer": "r",
   "version": "3.3.2"
  }
 },
 "nbformat": 4,
 "nbformat_minor": 1
}

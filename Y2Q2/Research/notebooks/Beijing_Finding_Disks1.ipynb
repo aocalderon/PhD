{
 "cells": [
  {
   "cell_type": "markdown",
   "metadata": {},
   "source": [
    "# We need some libraries and initial parameters..."
   ]
  },
  {
   "cell_type": "code",
   "execution_count": 4,
   "metadata": {
    "collapsed": false
   },
   "outputs": [
    {
     "name": "stderr",
     "output_type": "stream",
     "text": [
      "\n",
      "Attaching package: ‘SparkR’\n",
      "\n",
      "The following objects are masked from ‘package:stats’:\n",
      "\n",
      "    cov, filter, lag, na.omit, predict, sd, var\n",
      "\n",
      "The following objects are masked from ‘package:base’:\n",
      "\n",
      "    colnames, colnames<-, endsWith, intersect, rank, rbind, sample,\n",
      "    startsWith, subset, summary, table, transform\n",
      "\n"
     ]
    }
   ],
   "source": [
    "library(SparkR)\n",
    "library(leaflet)\n",
    "library(sp)\n",
    "options(digits=15)\n",
    "\n",
    "\n",
    "the_lat = 39.976057\n",
    "the_lng = 116.330243\n",
    "the_zoom = 15\n",
    "epsilon = 200\n",
    "source(\"pbfe.R\")"
   ]
  },
  {
   "cell_type": "markdown",
   "metadata": {},
   "source": [
    "# Let load some data..."
   ]
  },
  {
   "cell_type": "code",
   "execution_count": 5,
   "metadata": {
    "collapsed": false
   },
   "outputs": [
    {
     "data": {
      "text/html": [
       "<table>\n",
       "<thead><tr><th scope=col>ID</th><th scope=col>lat</th><th scope=col>lng</th></tr></thead>\n",
       "<tbody>\n",
       "\t<tr><td>1          </td><td>39.5905830 </td><td>116.2719450</td></tr>\n",
       "\t<tr><td>2          </td><td>39.6334840 </td><td>116.7282400</td></tr>\n",
       "\t<tr><td>3          </td><td>39.6558133 </td><td>116.6641916</td></tr>\n",
       "\t<tr><td>4          </td><td>39.6596780 </td><td>116.6711490</td></tr>\n",
       "\t<tr><td>5          </td><td>39.6654583 </td><td>116.3098399</td></tr>\n",
       "\t<tr><td>6          </td><td>39.6728416 </td><td>116.3086649</td></tr>\n",
       "</tbody>\n",
       "</table>\n"
      ],
      "text/latex": [
       "\\begin{tabular}{r|lll}\n",
       " ID & lat & lng\\\\\n",
       "\\hline\n",
       "\t 1           & 39.5905830  & 116.2719450\\\\\n",
       "\t 2           & 39.6334840  & 116.7282400\\\\\n",
       "\t 3           & 39.6558133  & 116.6641916\\\\\n",
       "\t 4           & 39.6596780  & 116.6711490\\\\\n",
       "\t 5           & 39.6654583  & 116.3098399\\\\\n",
       "\t 6           & 39.6728416  & 116.3086649\\\\\n",
       "\\end{tabular}\n"
      ],
      "text/plain": [
       "  ID lat        lng        \n",
       "1 1  39.5905830 116.2719450\n",
       "2 2  39.6334840 116.7282400\n",
       "3 3  39.6558133 116.6641916\n",
       "4 4  39.6596780 116.6711490\n",
       "5 5  39.6654583 116.3098399\n",
       "6 6  39.6728416 116.3086649"
      ]
     },
     "metadata": {},
     "output_type": "display_data"
    }
   ],
   "source": [
    "data = read.csv(\"sample_small.csv\")\n",
    "names(data) = c(\"ID\",\"lat\",\"lng\")\n",
    "head(data)"
   ]
  },
  {
   "cell_type": "markdown",
   "metadata": {},
   "source": [
    "# and visualize them in a map..."
   ]
  },
  {
   "cell_type": "code",
   "execution_count": 6,
   "metadata": {
    "collapsed": false
   },
   "outputs": [
    {
     "data": {
      "text/html": [
       "<iframe width=100% height=400 src='  map1.html  '  />"
      ]
     },
     "metadata": {},
     "output_type": "display_data"
    }
   ],
   "source": [
    "map = leaflet() %>%\n",
    "  addTiles() %>%\n",
    "  addCircleMarkers(lng=data$lng, lat=data$lat,weight=2,fillOpacity=1,color=\"blue\",radius=2)\n",
    "\n",
    "file = 'map1.html'\n",
    "htmlwidgets::saveWidget(map, file = file, selfcontained = F)\n",
    "IRdisplay::display_html(paste(\"<iframe width=100% height=400 src=' \", file, \" ' \",\"/>\"))"
   ]
  },
  {
   "cell_type": "markdown",
   "metadata": {},
   "source": [
    "https://ec2-35-162-64-98.us-west-2.compute.amazonaws.com:8888/home/ubuntu/notebooks/files/map1.html"
   ]
  },
  {
   "cell_type": "markdown",
   "metadata": {},
   "source": [
    "# Connecting with Simba and getting a SQLContext..."
   ]
  },
  {
   "cell_type": "code",
   "execution_count": 7,
   "metadata": {
    "collapsed": false
   },
   "outputs": [
    {
     "name": "stdout",
     "output_type": "stream",
     "text": [
      "Launching java with spark-submit command /opt/Simba/bin/spark-submit   sparkr-shell /tmp/RtmpzeJA5w/backend_port58fb4c057ff4 \n"
     ]
    }
   ],
   "source": [
    "sc <- sparkR.init(\"local[*]\", \"SparkR\")\n",
    "sqlContext <- sparkRSQL.init(sc)"
   ]
  },
  {
   "cell_type": "markdown",
   "metadata": {},
   "source": [
    "# Let read the data into Simba and apply a transformation..."
   ]
  },
  {
   "cell_type": "code",
   "execution_count": 8,
   "metadata": {
    "collapsed": false
   },
   "outputs": [],
   "source": [
    "dataRDD = SparkR:::textFile(sc,\"sample_small.csv\")\n",
    "dataRDD = SparkR:::map(dataRDD, transformCoords)"
   ]
  },
  {
   "cell_type": "markdown",
   "metadata": {},
   "source": [
    "# Now We create a DataFrame and cache the data..."
   ]
  },
  {
   "cell_type": "code",
   "execution_count": 9,
   "metadata": {
    "collapsed": false
   },
   "outputs": [
    {
     "data": {
      "text/plain": [
       "DataFrame[id:double, lng:double, lat:double]"
      ]
     },
     "metadata": {},
     "output_type": "display_data"
    }
   ],
   "source": [
    "schema <- structType(structField(\"id\", \"double\"), structField(\"lng\", \"double\"), structField(\"lat\", \"double\"))\n",
    "points <- createDataFrame(sqlContext, dataRDD, schema = schema)\n",
    "cache(points)"
   ]
  },
  {
   "cell_type": "markdown",
   "metadata": {},
   "source": [
    "# Let's have a look..."
   ]
  },
  {
   "cell_type": "code",
   "execution_count": 10,
   "metadata": {
    "collapsed": false
   },
   "outputs": [
    {
     "data": {
      "text/html": [
       "<table>\n",
       "<thead><tr><th scope=col>id</th><th scope=col>lng</th><th scope=col>lat</th></tr></thead>\n",
       "<tbody>\n",
       "\t<tr><td>0                </td><td>-300629.930290752</td><td>4419848.70124370 </td></tr>\n",
       "\t<tr><td>1                </td><td>-336418.933794024</td><td>4429641.88724925 </td></tr>\n",
       "\t<tr><td>2                </td><td>-296625.402561355</td><td>4430225.49965138 </td></tr>\n",
       "\t<tr><td>3                </td><td>-301876.547452500</td><td>4433286.74767265 </td></tr>\n",
       "\t<tr><td>4                </td><td>-301232.904159629</td><td>4433654.10554999 </td></tr>\n",
       "\t<tr><td>5                </td><td>-332247.212576558</td><td>4437621.06989079 </td></tr>\n",
       "</tbody>\n",
       "</table>\n"
      ],
      "text/latex": [
       "\\begin{tabular}{r|lll}\n",
       " id & lng & lat\\\\\n",
       "\\hline\n",
       "\t 0                 & -300629.930290752 & 4419848.70124370 \\\\\n",
       "\t 1                 & -336418.933794024 & 4429641.88724925 \\\\\n",
       "\t 2                 & -296625.402561355 & 4430225.49965138 \\\\\n",
       "\t 3                 & -301876.547452500 & 4433286.74767265 \\\\\n",
       "\t 4                 & -301232.904159629 & 4433654.10554999 \\\\\n",
       "\t 5                 & -332247.212576558 & 4437621.06989079 \\\\\n",
       "\\end{tabular}\n"
      ],
      "text/plain": [
       "  id lng               lat             \n",
       "1 0  -300629.930290752 4419848.70124370\n",
       "2 1  -336418.933794024 4429641.88724925\n",
       "3 2  -296625.402561355 4430225.49965138\n",
       "4 3  -301876.547452500 4433286.74767265\n",
       "5 4  -301232.904159629 4433654.10554999\n",
       "6 5  -332247.212576558 4437621.06989079"
      ]
     },
     "metadata": {},
     "output_type": "display_data"
    },
    {
     "data": {
      "text/html": [
       "899"
      ],
      "text/latex": [
       "899"
      ],
      "text/markdown": [
       "899"
      ],
      "text/plain": [
       "[1] 899"
      ]
     },
     "metadata": {},
     "output_type": "display_data"
    }
   ],
   "source": [
    "head(points)\n",
    "count(points)"
   ]
  },
  {
   "cell_type": "markdown",
   "metadata": {
    "collapsed": false
   },
   "source": [
    "# Now, We need register a pair of temporal tables..."
   ]
  },
  {
   "cell_type": "code",
   "execution_count": 11,
   "metadata": {
    "collapsed": true
   },
   "outputs": [],
   "source": [
    "registerTempTable(points, \"p1\")\n",
    "registerTempTable(points, \"p2\")"
   ]
  },
  {
   "cell_type": "markdown",
   "metadata": {},
   "source": [
    "# It is time to execute the SQL statement...\n",
    "\n",
    "```SQL\n",
    "SELECT\n",
    "    * \n",
    "FROM \n",
    "    p1 \n",
    "DISTANCE JOIN \n",
    "    p2\n",
    "ON \n",
    "    POINT(p2.lng, p2.lat) IN CIRCLERANGE(POINT(p1.lng, p1.lat), epsilon)\n",
    "WHERE \n",
    "    p2.id < p1.id\n",
    "```"
   ]
  },
  {
   "cell_type": "code",
   "execution_count": 12,
   "metadata": {
    "collapsed": false
   },
   "outputs": [
    {
     "data": {
      "text/html": [
       "<table>\n",
       "<thead><tr><th scope=col>id</th><th scope=col>lng</th><th scope=col>lat</th><th scope=col>id</th><th scope=col>lng</th><th scope=col>lat</th></tr></thead>\n",
       "<tbody>\n",
       "\t<tr><td> 26              </td><td>-332354.697252151</td><td>4456150.25607556 </td><td> 24              </td><td>-332269.409834687</td><td>4456108.23475632 </td></tr>\n",
       "\t<tr><td> 45              </td><td>-334252.427014354</td><td>4459698.61791281 </td><td> 44              </td><td>-334344.731428849</td><td>4459655.45188833 </td></tr>\n",
       "\t<tr><td> 46              </td><td>-334242.745346436</td><td>4459715.58979402 </td><td> 44              </td><td>-334344.731428849</td><td>4459655.45188833 </td></tr>\n",
       "\t<tr><td> 46              </td><td>-334242.745346436</td><td>4459715.58979402 </td><td> 45              </td><td>-334252.427014354</td><td>4459698.61791281 </td></tr>\n",
       "\t<tr><td> 76              </td><td>-332954.898512807</td><td>4460728.70522263 </td><td> 74              </td><td>-333132.922385918</td><td>4460639.54370124 </td></tr>\n",
       "\t<tr><td>121              </td><td>-353770.269435442</td><td>4466969.59768473 </td><td>120              </td><td>-353766.652493862</td><td>4466963.17659202 </td></tr>\n",
       "</tbody>\n",
       "</table>\n"
      ],
      "text/latex": [
       "\\begin{tabular}{r|llllll}\n",
       " id & lng & lat & id & lng & lat\\\\\n",
       "\\hline\n",
       "\t  26               & -332354.697252151 & 4456150.25607556  &  24               & -332269.409834687 & 4456108.23475632 \\\\\n",
       "\t  45               & -334252.427014354 & 4459698.61791281  &  44               & -334344.731428849 & 4459655.45188833 \\\\\n",
       "\t  46               & -334242.745346436 & 4459715.58979402  &  44               & -334344.731428849 & 4459655.45188833 \\\\\n",
       "\t  46               & -334242.745346436 & 4459715.58979402  &  45               & -334252.427014354 & 4459698.61791281 \\\\\n",
       "\t  76               & -332954.898512807 & 4460728.70522263  &  74               & -333132.922385918 & 4460639.54370124 \\\\\n",
       "\t 121               & -353770.269435442 & 4466969.59768473  & 120               & -353766.652493862 & 4466963.17659202 \\\\\n",
       "\\end{tabular}\n"
      ],
      "text/plain": [
       "  id  lng               lat              id  lng               lat             \n",
       "1  26 -332354.697252151 4456150.25607556  24 -332269.409834687 4456108.23475632\n",
       "2  45 -334252.427014354 4459698.61791281  44 -334344.731428849 4459655.45188833\n",
       "3  46 -334242.745346436 4459715.58979402  44 -334344.731428849 4459655.45188833\n",
       "4  46 -334242.745346436 4459715.58979402  45 -334252.427014354 4459698.61791281\n",
       "5  76 -332954.898512807 4460728.70522263  74 -333132.922385918 4460639.54370124\n",
       "6 121 -353770.269435442 4466969.59768473 120 -353766.652493862 4466963.17659202"
      ]
     },
     "metadata": {},
     "output_type": "display_data"
    },
    {
     "data": {
      "text/html": [
       "923"
      ],
      "text/latex": [
       "923"
      ],
      "text/markdown": [
       "923"
      ],
      "text/plain": [
       "[1] 923"
      ]
     },
     "metadata": {},
     "output_type": "display_data"
    }
   ],
   "source": [
    "sql = paste0(\"SELECT * FROM p1 DISTANCE JOIN p2 ON POINT(p2.lng, p2.lat) IN CIRCLERANGE(POINT(p1.lng, p1.lat), \",epsilon,\") WHERE p2.id < p1.id\")\n",
    "pairs = sql(sqlContext,sql)\n",
    "head(pairs)\n",
    "nrow(pairs)"
   ]
  },
  {
   "cell_type": "markdown",
   "metadata": {},
   "source": [
    "# Now We need to calculate the disk locations for each pair..."
   ]
  },
  {
   "cell_type": "code",
   "execution_count": 13,
   "metadata": {
    "collapsed": false
   },
   "outputs": [
    {
     "data": {
      "text/html": [
       "<table>\n",
       "<thead><tr><th scope=col>id1</th><th scope=col>id2</th><th scope=col>lng1</th><th scope=col>lat1</th><th scope=col>lng2</th><th scope=col>lat2</th></tr></thead>\n",
       "<tbody>\n",
       "\t<tr><td> 26              </td><td> 24              </td><td>-332273.170148452</td><td>4456208.16403151 </td><td>-332350.936938386</td><td>4456050.32680037 </td></tr>\n",
       "\t<tr><td> 45              </td><td> 44              </td><td>-334262.128211716</td><td>4459599.08959136 </td><td>-334335.030231487</td><td>4459754.98020978 </td></tr>\n",
       "\t<tr><td> 46              </td><td> 44              </td><td>-334252.801197014</td><td>4459616.09667934 </td><td>-334334.675578271</td><td>4459754.94500301 </td></tr>\n",
       "\t<tr><td> 46              </td><td> 45              </td><td>-334161.140917582</td><td>4459657.79085639 </td><td>-334334.031443208</td><td>4459756.41685044 </td></tr>\n",
       "\t<tr><td> 76              </td><td> 74              </td><td>-333039.675560248</td><td>4460675.66889331 </td><td>-333048.145338477</td><td>4460692.58003055 </td></tr>\n",
       "\t<tr><td>121              </td><td>120              </td><td>-353681.392035067</td><td>4467015.43225359 </td><td>-353855.529894237</td><td>4466917.34202316 </td></tr>\n",
       "</tbody>\n",
       "</table>\n"
      ],
      "text/latex": [
       "\\begin{tabular}{r|llllll}\n",
       " id1 & id2 & lng1 & lat1 & lng2 & lat2\\\\\n",
       "\\hline\n",
       "\t  26               &  24               & -332273.170148452 & 4456208.16403151  & -332350.936938386 & 4456050.32680037 \\\\\n",
       "\t  45               &  44               & -334262.128211716 & 4459599.08959136  & -334335.030231487 & 4459754.98020978 \\\\\n",
       "\t  46               &  44               & -334252.801197014 & 4459616.09667934  & -334334.675578271 & 4459754.94500301 \\\\\n",
       "\t  46               &  45               & -334161.140917582 & 4459657.79085639  & -334334.031443208 & 4459756.41685044 \\\\\n",
       "\t  76               &  74               & -333039.675560248 & 4460675.66889331  & -333048.145338477 & 4460692.58003055 \\\\\n",
       "\t 121               & 120               & -353681.392035067 & 4467015.43225359  & -353855.529894237 & 4466917.34202316 \\\\\n",
       "\\end{tabular}\n"
      ],
      "text/plain": [
       "  id1 id2 lng1              lat1             lng2              lat2            \n",
       "1  26  24 -332273.170148452 4456208.16403151 -332350.936938386 4456050.32680037\n",
       "2  45  44 -334262.128211716 4459599.08959136 -334335.030231487 4459754.98020978\n",
       "3  46  44 -334252.801197014 4459616.09667934 -334334.675578271 4459754.94500301\n",
       "4  46  45 -334161.140917582 4459657.79085639 -334334.031443208 4459756.41685044\n",
       "5  76  74 -333039.675560248 4460675.66889331 -333048.145338477 4460692.58003055\n",
       "6 121 120 -353681.392035067 4467015.43225359 -353855.529894237 4466917.34202316"
      ]
     },
     "metadata": {},
     "output_type": "display_data"
    },
    {
     "data": {
      "text/html": [
       "923"
      ],
      "text/latex": [
       "923"
      ],
      "text/markdown": [
       "923"
      ],
      "text/plain": [
       "[1] 923"
      ]
     },
     "metadata": {},
     "output_type": "display_data"
    }
   ],
   "source": [
    "centers <- SparkR:::map(pairs, calculateDisk)\n",
    "schema <- structType(structField(\"id1\", \"double\"), structField(\"id2\", \"double\"), structField(\"lng1\", \"double\"), structField(\"lat1\", \"double\"), structField(\"lng2\", \"double\"), structField(\"lat2\", \"double\"))\n",
    "d <- createDataFrame(sqlContext, centers, schema = schema)\n",
    "head(d)\n",
    "count(d)"
   ]
  },
  {
   "cell_type": "markdown",
   "metadata": {},
   "source": [
    "# Let's collect the data back to LatLong coordinates..."
   ]
  },
  {
   "cell_type": "code",
   "execution_count": 14,
   "metadata": {
    "collapsed": false
   },
   "outputs": [
    {
     "data": {
      "text/html": [
       "<table>\n",
       "<thead><tr><th scope=col>id1</th><th scope=col>id2</th><th scope=col>lng1</th><th scope=col>lat1</th><th scope=col>lng2</th><th scope=col>lat2</th></tr></thead>\n",
       "<tbody>\n",
       "\t<tr><td> 26             </td><td> 24             </td><td>116.286172307920</td><td>39.8304366534153</td><td>116.285476216861</td><td>39.8289598550172</td></tr>\n",
       "\t<tr><td> 45             </td><td> 44             </td><td>116.258979560390</td><td>39.8585969529074</td><td>116.257942352089</td><td>39.8599094498003</td></tr>\n",
       "\t<tr><td> 46             </td><td> 44             </td><td>116.259065430375</td><td>39.8587570188828</td><td>116.257946481424</td><td>39.8599094837162</td></tr>\n",
       "\t<tr><td> 46             </td><td> 45             </td><td>116.260068282656</td><td>39.8592166161994</td><td>116.257952034760</td><td>39.8599231771293</td></tr>\n",
       "\t<tr><td> 76             </td><td> 74             </td><td>116.271696610161</td><td>39.8693462236874</td><td>116.271577630914</td><td>39.8694880711692</td></tr>\n",
       "\t<tr><td>121             </td><td>120             </td><td>116.025807571434</td><td>39.9052021013708</td><td>116.023929528632</td><td>39.9041577846355</td></tr>\n",
       "</tbody>\n",
       "</table>\n"
      ],
      "text/latex": [
       "\\begin{tabular}{r|llllll}\n",
       " id1 & id2 & lng1 & lat1 & lng2 & lat2\\\\\n",
       "\\hline\n",
       "\t  26              &  24              & 116.286172307920 & 39.8304366534153 & 116.285476216861 & 39.8289598550172\\\\\n",
       "\t  45              &  44              & 116.258979560390 & 39.8585969529074 & 116.257942352089 & 39.8599094498003\\\\\n",
       "\t  46              &  44              & 116.259065430375 & 39.8587570188828 & 116.257946481424 & 39.8599094837162\\\\\n",
       "\t  46              &  45              & 116.260068282656 & 39.8592166161994 & 116.257952034760 & 39.8599231771293\\\\\n",
       "\t  76              &  74              & 116.271696610161 & 39.8693462236874 & 116.271577630914 & 39.8694880711692\\\\\n",
       "\t 121              & 120              & 116.025807571434 & 39.9052021013708 & 116.023929528632 & 39.9041577846355\\\\\n",
       "\\end{tabular}\n"
      ],
      "text/plain": [
       "  id1 id2 lng1             lat1             lng2             lat2            \n",
       "1  26  24 116.286172307920 39.8304366534153 116.285476216861 39.8289598550172\n",
       "2  45  44 116.258979560390 39.8585969529074 116.257942352089 39.8599094498003\n",
       "3  46  44 116.259065430375 39.8587570188828 116.257946481424 39.8599094837162\n",
       "4  46  45 116.260068282656 39.8592166161994 116.257952034760 39.8599231771293\n",
       "5  76  74 116.271696610161 39.8693462236874 116.271577630914 39.8694880711692\n",
       "6 121 120 116.025807571434 39.9052021013708 116.023929528632 39.9041577846355"
      ]
     },
     "metadata": {},
     "output_type": "display_data"
    },
    {
     "data": {
      "text/html": [
       "923"
      ],
      "text/latex": [
       "923"
      ],
      "text/markdown": [
       "923"
      ],
      "text/plain": [
       "[1] 923"
      ]
     },
     "metadata": {},
     "output_type": "display_data"
    }
   ],
   "source": [
    "centers_lnglat <- SparkR:::map(centers, transformCenters)\n",
    "disks <- as.data.frame(createDataFrame(sqlContext,centers_lnglat))\n",
    "names(disks) = c(\"id1\",\"id2\",\"lng1\",\"lat1\",\"lng2\",\"lat2\")\n",
    "head(disks)\n",
    "nrow(disks)"
   ]
  },
  {
   "cell_type": "markdown",
   "metadata": {
    "collapsed": false
   },
   "source": [
    "# Let's have a look at the results..."
   ]
  },
  {
   "cell_type": "code",
   "execution_count": 15,
   "metadata": {
    "collapsed": false,
    "scrolled": true
   },
   "outputs": [
    {
     "data": {
      "text/html": [
       "<iframe width=100% height=400 src='  map2.html  '  />"
      ]
     },
     "metadata": {},
     "output_type": "display_data"
    }
   ],
   "source": [
    "p = sort(unique(c(disks$id1,disks$id2)))\n",
    "data2 = data[p,]\n",
    "map = leaflet() %>% setView(lat = the_lat, lng = the_lng, zoom = the_zoom) %>% addTiles() %>% \n",
    "        addCircles(lng=disks$lng1, lat=disks$lat1, weight=2, fillOpacity=0.25, color=\"red\", radius = epsilon/2) %>%\n",
    "        addCircles(lng=disks$lng2, lat=disks$lat2, weight=2, fillOpacity=0.25, color=\"red\", radius = epsilon/2) %>%\n",
    "        addCircleMarkers(lng=data$lng, lat=data$lat, weight=2, fillOpacity=1,radius = 2) %>%\n",
    "        addCircleMarkers(lng=data2$lng, lat=data2$lat, weight=2, fillOpacity=1, color=\"purple\", radius = 2, popup=paste(data2$ID)) %>% \n",
    "        addProviderTiles(\"Esri.WorldImagery\", group = \"ESRI\") %>% \n",
    "        addLayersControl(baseGroup = c(\"OSM(default)\", \"ESRI\"))\n",
    "\n",
    "file = 'map2.html'\n",
    "htmlwidgets::saveWidget(map, file = file, selfcontained = F)\n",
    "IRdisplay::display_html(paste(\"<iframe width=100% height=400 src=' \", file, \" ' \",\"/>\"))"
   ]
  },
  {
   "cell_type": "markdown",
   "metadata": {
    "collapsed": true
   },
   "source": [
    "https://ec2-35-162-64-98.us-west-2.compute.amazonaws.com:8888/home/ubuntu/notebooks/files/map2.html"
   ]
  },
  {
   "cell_type": "code",
   "execution_count": 16,
   "metadata": {
    "collapsed": false
   },
   "outputs": [],
   "source": [
    "registerTempTable(d, \"d\")\n",
    "registerTempTable(points, \"p\")"
   ]
  },
  {
   "cell_type": "code",
   "execution_count": 17,
   "metadata": {
    "collapsed": false
   },
   "outputs": [],
   "source": [
    "sql = paste0(\"SELECT d.lng1 AS lng, d.lat1 AS lat, id AS id_member FROM d DISTANCE JOIN p ON POINT(p.lng, p.lat) IN CIRCLERANGE(POINT(d.lng1, d.lat1), \",(epsilon/2)+0.01,\")\")\n",
    "mdisks = sql(sqlContext,sql)\n",
    "registerTempTable(mdisks, \"m\")\n",
    "sql = \"SELECT lng, lat FROM m GROUP BY lng, lat HAVING count(id_member) >= 3\"\n",
    "mdisks1 = sql(sqlContext,sql)"
   ]
  },
  {
   "cell_type": "code",
   "execution_count": 18,
   "metadata": {
    "collapsed": false
   },
   "outputs": [],
   "source": [
    "sql = paste0(\"SELECT d.lng2 AS lng, d.lat2 AS lat, id AS id_member FROM d DISTANCE JOIN p ON POINT(p.lng, p.lat) IN CIRCLERANGE(POINT(d.lng2, d.lat2), \",(epsilon/2)+0.01,\")\")\n",
    "mdisks = sql(sqlContext,sql)\n",
    "registerTempTable(mdisks, \"m\")\n",
    "sql = \"SELECT lng, lat FROM m GROUP BY lng, lat HAVING count(id_member) >= 3\"\n",
    "mdisks2 = sql(sqlContext,sql)"
   ]
  },
  {
   "cell_type": "code",
   "execution_count": 19,
   "metadata": {
    "collapsed": false
   },
   "outputs": [],
   "source": [
    "mdisks = as.data.frame(rbind(mdisks1, mdisks2))\n",
    "id = seq(1,nrow(mdisks))\n",
    "mdisks$id = id\n",
    "\n",
    "coordinates(mdisks) = ~lng+lat\n",
    "proj4string(mdisks) = mercator\n",
    "mdisks = spTransform(mdisks, wgs84)\n",
    "mdisks$lng1 = coordinates(mdisks)[,1]\n",
    "mdisks$lat1 = coordinates(mdisks)[,2]"
   ]
  },
  {
   "cell_type": "code",
   "execution_count": 20,
   "metadata": {
    "collapsed": false
   },
   "outputs": [
    {
     "data": {
      "text/html": [
       "<iframe width=100% height=400 src='  map3.html  '  />"
      ]
     },
     "metadata": {},
     "output_type": "display_data"
    }
   ],
   "source": [
    "map = leaflet() %>% setView(lat = the_lat, lng = the_lng, zoom = the_zoom) %>% addTiles() %>% \n",
    "        addCircles(lng=mdisks$lng1, lat=mdisks$lat1, weight=2, fillOpacity=0.25, color=\"blue\", radius = epsilon/2) %>%\n",
    "        addCircleMarkers(lng=data$lng, lat=data$lat, weight=2, fillOpacity=1,radius = 2) %>%\n",
    "        addCircleMarkers(lng=data2$lng, lat=data2$lat, weight=2, fillOpacity=1, color=\"purple\", radius = 2) %>% \n",
    "        addProviderTiles(\"Esri.WorldImagery\", group = \"ESRI\") %>% \n",
    "        addLayersControl(baseGroup = c(\"OSM(default)\", \"ESRI\"))\n",
    "\n",
    "file = 'map3.html'\n",
    "htmlwidgets::saveWidget(map, file = file, selfcontained = F)\n",
    "IRdisplay::display_html(paste(\"<iframe width=100% height=400 src=' \", file, \" ' \",\"/>\"))"
   ]
  },
  {
   "cell_type": "code",
   "execution_count": 21,
   "metadata": {
    "collapsed": false
   },
   "outputs": [
    {
     "data": {
      "text/html": [
       "<ol class=list-inline>\n",
       "\t<li>656</li>\n",
       "\t<li>659</li>\n",
       "\t<li>660</li>\n",
       "</ol>\n"
      ],
      "text/latex": [
       "\\begin{enumerate*}\n",
       "\\item 656\n",
       "\\item 659\n",
       "\\item 660\n",
       "\\end{enumerate*}\n"
      ],
      "text/markdown": [
       "1. 656\n",
       "2. 659\n",
       "3. 660\n",
       "\n",
       "\n"
      ],
      "text/plain": [
       "[1] 656 659 660"
      ]
     },
     "metadata": {},
     "output_type": "display_data"
    },
    {
     "data": {
      "text/html": [
       "<ol class=list-inline>\n",
       "\t<li>656</li>\n",
       "\t<li>657</li>\n",
       "\t<li>659</li>\n",
       "\t<li>660</li>\n",
       "</ol>\n"
      ],
      "text/latex": [
       "\\begin{enumerate*}\n",
       "\\item 656\n",
       "\\item 657\n",
       "\\item 659\n",
       "\\item 660\n",
       "\\end{enumerate*}\n"
      ],
      "text/markdown": [
       "1. 656\n",
       "2. 657\n",
       "3. 659\n",
       "4. 660\n",
       "\n",
       "\n"
      ],
      "text/plain": [
       "[1] 656 657 659 660"
      ]
     },
     "metadata": {},
     "output_type": "display_data"
    },
    {
     "data": {
      "text/html": [
       "1"
      ],
      "text/latex": [
       "1"
      ],
      "text/markdown": [
       "1"
      ],
      "text/plain": [
       "[1] 1"
      ]
     },
     "metadata": {},
     "output_type": "display_data"
    },
    {
     "data": {
      "text/html": [
       "<ol class=list-inline>\n",
       "\t<li>4</li>\n",
       "\t<li>3</li>\n",
       "</ol>\n"
      ],
      "text/latex": [
       "\\begin{enumerate*}\n",
       "\\item 4\n",
       "\\item 3\n",
       "\\end{enumerate*}\n"
      ],
      "text/markdown": [
       "1. 4\n",
       "2. 3\n",
       "\n",
       "\n"
      ],
      "text/plain": [
       "[1] 4 3"
      ]
     },
     "metadata": {},
     "output_type": "display_data"
    }
   ],
   "source": [
    "v1 = \"656,659,660\"\n",
    "\n",
    "v1 = as.numeric(unlist(strsplit(v1,',')))\n",
    "\n",
    "v1\n",
    "\n",
    "v2 = c(656,657,659,660)\n",
    "\n",
    "v2\n",
    "\n",
    "prod(is.element(v1, v2))\n",
    "\n",
    "4:3"
   ]
  },
  {
   "cell_type": "code",
   "execution_count": 22,
   "metadata": {
    "collapsed": false
   },
   "outputs": [
    {
     "data": {
      "text/html": [
       "<table>\n",
       "<thead><tr><th scope=col>lng</th><th scope=col>lat</th><th scope=col>id</th></tr></thead>\n",
       "<tbody>\n",
       "\t<tr><td>-326817.249165109</td><td>4473000.32009028 </td><td>1                </td></tr>\n",
       "\t<tr><td>-326733.479114837</td><td>4472020.94361649 </td><td>2                </td></tr>\n",
       "\t<tr><td>-326441.677006837</td><td>4473064.94544083 </td><td>3                </td></tr>\n",
       "\t<tr><td>-326769.903381107</td><td>4472499.05395445 </td><td>4                </td></tr>\n",
       "\t<tr><td>-326466.460629624</td><td>4473654.18613708 </td><td>5                </td></tr>\n",
       "\t<tr><td>-326636.726938150</td><td>4474740.14306566 </td><td>6                </td></tr>\n",
       "</tbody>\n",
       "</table>\n"
      ],
      "text/latex": [
       "\\begin{tabular}{r|lll}\n",
       " lng & lat & id\\\\\n",
       "\\hline\n",
       "\t -326817.249165109 & 4473000.32009028  & 1                \\\\\n",
       "\t -326733.479114837 & 4472020.94361649  & 2                \\\\\n",
       "\t -326441.677006837 & 4473064.94544083  & 3                \\\\\n",
       "\t -326769.903381107 & 4472499.05395445  & 4                \\\\\n",
       "\t -326466.460629624 & 4473654.18613708  & 5                \\\\\n",
       "\t -326636.726938150 & 4474740.14306566  & 6                \\\\\n",
       "\\end{tabular}\n"
      ],
      "text/plain": [
       "  lng               lat              id\n",
       "1 -326817.249165109 4473000.32009028 1 \n",
       "2 -326733.479114837 4472020.94361649 2 \n",
       "3 -326441.677006837 4473064.94544083 3 \n",
       "4 -326769.903381107 4472499.05395445 4 \n",
       "5 -326466.460629624 4473654.18613708 5 \n",
       "6 -326636.726938150 4474740.14306566 6 "
      ]
     },
     "metadata": {},
     "output_type": "display_data"
    },
    {
     "data": {
      "text/html": [
       "1248"
      ],
      "text/latex": [
       "1248"
      ],
      "text/markdown": [
       "1248"
      ],
      "text/plain": [
       "[1] 1248"
      ]
     },
     "metadata": {},
     "output_type": "display_data"
    },
    {
     "data": {
      "text/html": [
       "<table>\n",
       "<thead><tr><th scope=col>id</th><th scope=col>lng</th><th scope=col>lat</th></tr></thead>\n",
       "<tbody>\n",
       "\t<tr><td>0                </td><td>-300629.930290752</td><td>4419848.70124370 </td></tr>\n",
       "\t<tr><td>1                </td><td>-336418.933794024</td><td>4429641.88724925 </td></tr>\n",
       "\t<tr><td>2                </td><td>-296625.402561355</td><td>4430225.49965138 </td></tr>\n",
       "\t<tr><td>3                </td><td>-301876.547452500</td><td>4433286.74767265 </td></tr>\n",
       "\t<tr><td>4                </td><td>-301232.904159629</td><td>4433654.10554999 </td></tr>\n",
       "\t<tr><td>5                </td><td>-332247.212576558</td><td>4437621.06989079 </td></tr>\n",
       "</tbody>\n",
       "</table>\n"
      ],
      "text/latex": [
       "\\begin{tabular}{r|lll}\n",
       " id & lng & lat\\\\\n",
       "\\hline\n",
       "\t 0                 & -300629.930290752 & 4419848.70124370 \\\\\n",
       "\t 1                 & -336418.933794024 & 4429641.88724925 \\\\\n",
       "\t 2                 & -296625.402561355 & 4430225.49965138 \\\\\n",
       "\t 3                 & -301876.547452500 & 4433286.74767265 \\\\\n",
       "\t 4                 & -301232.904159629 & 4433654.10554999 \\\\\n",
       "\t 5                 & -332247.212576558 & 4437621.06989079 \\\\\n",
       "\\end{tabular}\n"
      ],
      "text/plain": [
       "  id lng               lat             \n",
       "1 0  -300629.930290752 4419848.70124370\n",
       "2 1  -336418.933794024 4429641.88724925\n",
       "3 2  -296625.402561355 4430225.49965138\n",
       "4 3  -301876.547452500 4433286.74767265\n",
       "5 4  -301232.904159629 4433654.10554999\n",
       "6 5  -332247.212576558 4437621.06989079"
      ]
     },
     "metadata": {},
     "output_type": "display_data"
    },
    {
     "data": {
      "text/html": [
       "899"
      ],
      "text/latex": [
       "899"
      ],
      "text/markdown": [
       "899"
      ],
      "text/plain": [
       "[1] 899"
      ]
     },
     "metadata": {},
     "output_type": "display_data"
    },
    {
     "data": {
      "text/html": [
       "<table>\n",
       "<thead><tr><th scope=col>mid</th><th scope=col>pid</th></tr></thead>\n",
       "<tbody>\n",
       "\t<tr><td>1  </td><td>569</td></tr>\n",
       "\t<tr><td>1  </td><td>584</td></tr>\n",
       "\t<tr><td>1  </td><td>591</td></tr>\n",
       "\t<tr><td>2  </td><td>447</td></tr>\n",
       "\t<tr><td>2  </td><td>451</td></tr>\n",
       "\t<tr><td>2  </td><td>457</td></tr>\n",
       "\t<tr><td>2  </td><td>458</td></tr>\n",
       "\t<tr><td>2  </td><td>464</td></tr>\n",
       "\t<tr><td>2  </td><td>467</td></tr>\n",
       "\t<tr><td>2  </td><td>470</td></tr>\n",
       "\t<tr><td>3  </td><td>587</td></tr>\n",
       "\t<tr><td>3  </td><td>590</td></tr>\n",
       "\t<tr><td>3  </td><td>610</td></tr>\n",
       "\t<tr><td>4  </td><td>528</td></tr>\n",
       "\t<tr><td>4  </td><td>529</td></tr>\n",
       "\t<tr><td>4  </td><td>532</td></tr>\n",
       "\t<tr><td>4  </td><td>536</td></tr>\n",
       "\t<tr><td>5  </td><td>656</td></tr>\n",
       "\t<tr><td>5  </td><td>659</td></tr>\n",
       "\t<tr><td>5  </td><td>660</td></tr>\n",
       "\t<tr><td>5  </td><td>665</td></tr>\n",
       "\t<tr><td>5  </td><td>670</td></tr>\n",
       "\t<tr><td>5  </td><td>679</td></tr>\n",
       "\t<tr><td>6  </td><td>721</td></tr>\n",
       "\t<tr><td>6  </td><td>724</td></tr>\n",
       "\t<tr><td>6  </td><td>731</td></tr>\n",
       "\t<tr><td>6  </td><td>736</td></tr>\n",
       "\t<tr><td>7  </td><td>553</td></tr>\n",
       "\t<tr><td>7  </td><td>561</td></tr>\n",
       "\t<tr><td>7  </td><td>566</td></tr>\n",
       "</tbody>\n",
       "</table>\n"
      ],
      "text/latex": [
       "\\begin{tabular}{r|ll}\n",
       " mid & pid\\\\\n",
       "\\hline\n",
       "\t 1   & 569\\\\\n",
       "\t 1   & 584\\\\\n",
       "\t 1   & 591\\\\\n",
       "\t 2   & 447\\\\\n",
       "\t 2   & 451\\\\\n",
       "\t 2   & 457\\\\\n",
       "\t 2   & 458\\\\\n",
       "\t 2   & 464\\\\\n",
       "\t 2   & 467\\\\\n",
       "\t 2   & 470\\\\\n",
       "\t 3   & 587\\\\\n",
       "\t 3   & 590\\\\\n",
       "\t 3   & 610\\\\\n",
       "\t 4   & 528\\\\\n",
       "\t 4   & 529\\\\\n",
       "\t 4   & 532\\\\\n",
       "\t 4   & 536\\\\\n",
       "\t 5   & 656\\\\\n",
       "\t 5   & 659\\\\\n",
       "\t 5   & 660\\\\\n",
       "\t 5   & 665\\\\\n",
       "\t 5   & 670\\\\\n",
       "\t 5   & 679\\\\\n",
       "\t 6   & 721\\\\\n",
       "\t 6   & 724\\\\\n",
       "\t 6   & 731\\\\\n",
       "\t 6   & 736\\\\\n",
       "\t 7   & 553\\\\\n",
       "\t 7   & 561\\\\\n",
       "\t 7   & 566\\\\\n",
       "\\end{tabular}\n"
      ],
      "text/plain": [
       "   mid pid\n",
       "1  1   569\n",
       "2  1   584\n",
       "3  1   591\n",
       "4  2   447\n",
       "5  2   451\n",
       "6  2   457\n",
       "7  2   458\n",
       "8  2   464\n",
       "9  2   467\n",
       "10 2   470\n",
       "11 3   587\n",
       "12 3   590\n",
       "13 3   610\n",
       "14 4   528\n",
       "15 4   529\n",
       "16 4   532\n",
       "17 4   536\n",
       "18 5   656\n",
       "19 5   659\n",
       "20 5   660\n",
       "21 5   665\n",
       "22 5   670\n",
       "23 5   679\n",
       "24 6   721\n",
       "25 6   724\n",
       "26 6   731\n",
       "27 6   736\n",
       "28 7   553\n",
       "29 7   561\n",
       "30 7   566"
      ]
     },
     "metadata": {},
     "output_type": "display_data"
    },
    {
     "data": {
      "text/html": [
       "5573"
      ],
      "text/latex": [
       "5573"
      ],
      "text/markdown": [
       "5573"
      ],
      "text/plain": [
       "[1] 5573"
      ]
     },
     "metadata": {},
     "output_type": "display_data"
    }
   ],
   "source": [
    "m <- as.data.frame(rbind(mdisks1, mdisks2))\n",
    "m$id = seq(1,nrow(m))\n",
    "m = createDataFrame(sqlContext, m)\n",
    "head(m)\n",
    "count(m)\n",
    "registerTempTable(m, \"m\")\n",
    "\n",
    "head(points)\n",
    "count(points)\n",
    "\n",
    "sql = paste0(\"SELECT m.id AS mid, p.id AS pid FROM m DISTANCE JOIN p ON POINT(p.lng, p.lat) IN CIRCLERANGE (POINT(m.lng, m.lat), \",(epsilon/2)+0.01,\") ORDER BY mid, pid\")\n",
    "t = sql(sqlContext,sql)\n",
    "head(t, 30)\n",
    "count(t)"
   ]
  },
  {
   "cell_type": "code",
   "execution_count": 23,
   "metadata": {
    "collapsed": false
   },
   "outputs": [
    {
     "name": "stderr",
     "output_type": "stream",
     "text": [
      "Loading required package: gsubfn\n",
      "Loading required package: proto\n",
      "Loading required package: RSQLite\n",
      "Loading required package: DBI\n"
     ]
    }
   ],
   "source": [
    "library(sqldf)"
   ]
  },
  {
   "cell_type": "code",
   "execution_count": 24,
   "metadata": {
    "collapsed": false
   },
   "outputs": [
    {
     "name": "stderr",
     "output_type": "stream",
     "text": [
      "Loading required package: tcltk\n"
     ]
    },
    {
     "data": {
      "text/html": [
       "<table>\n",
       "<thead><tr><th scope=col>mid</th><th scope=col>pids</th></tr></thead>\n",
       "<tbody>\n",
       "\t<tr><td> 1         </td><td>569,584,591</td></tr>\n",
       "\t<tr><td> 3         </td><td>587,590,610</td></tr>\n",
       "\t<tr><td> 9         </td><td>864,865,867</td></tr>\n",
       "\t<tr><td>10         </td><td>550,551,556</td></tr>\n",
       "\t<tr><td>16         </td><td>618,627,632</td></tr>\n",
       "\t<tr><td>17         </td><td>698,699,708</td></tr>\n",
       "</tbody>\n",
       "</table>\n"
      ],
      "text/latex": [
       "\\begin{tabular}{r|ll}\n",
       " mid & pids\\\\\n",
       "\\hline\n",
       "\t  1          & 569,584,591\\\\\n",
       "\t  3          & 587,590,610\\\\\n",
       "\t  9          & 864,865,867\\\\\n",
       "\t 10          & 550,551,556\\\\\n",
       "\t 16          & 618,627,632\\\\\n",
       "\t 17          & 698,699,708\\\\\n",
       "\\end{tabular}\n"
      ],
      "text/plain": [
       "  mid pids       \n",
       "1  1  569,584,591\n",
       "2  3  587,590,610\n",
       "3  9  864,865,867\n",
       "4 10  550,551,556\n",
       "5 16  618,627,632\n",
       "6 17  698,699,708"
      ]
     },
     "metadata": {},
     "output_type": "display_data"
    },
    {
     "data": {
      "text/html": [
       "1248"
      ],
      "text/latex": [
       "1248"
      ],
      "text/markdown": [
       "1248"
      ],
      "text/plain": [
       "[1] 1248"
      ]
     },
     "metadata": {},
     "output_type": "display_data"
    },
    {
     "data": {
      "text/html": [
       "<table>\n",
       "<thead><tr><th></th><th scope=col>mid</th><th scope=col>pids</th></tr></thead>\n",
       "<tbody>\n",
       "\t<tr><th scope=row>1243</th><td> 594                                   </td><td>403,405,406,407,409,411,412,413,415,417</td></tr>\n",
       "\t<tr><th scope=row>1244</th><td> 722                                   </td><td>403,405,406,407,409,411,412,413,415,417</td></tr>\n",
       "\t<tr><th scope=row>1245</th><td> 730                                   </td><td>403,405,406,407,409,411,412,413,415,417</td></tr>\n",
       "\t<tr><th scope=row>1246</th><td> 907                                   </td><td>403,405,406,407,409,411,412,413,415,417</td></tr>\n",
       "\t<tr><th scope=row>1247</th><td>1024                                   </td><td>438,443,444,447,451,457,458,464,467,470</td></tr>\n",
       "\t<tr><th scope=row>1248</th><td>1214                                   </td><td>438,443,444,447,451,457,458,464,467,470</td></tr>\n",
       "</tbody>\n",
       "</table>\n"
      ],
      "text/latex": [
       "\\begin{tabular}{r|ll}\n",
       "  & mid & pids\\\\\n",
       "\\hline\n",
       "\t1243 &  594                                    & 403,405,406,407,409,411,412,413,415,417\\\\\n",
       "\t1244 &  722                                    & 403,405,406,407,409,411,412,413,415,417\\\\\n",
       "\t1245 &  730                                    & 403,405,406,407,409,411,412,413,415,417\\\\\n",
       "\t1246 &  907                                    & 403,405,406,407,409,411,412,413,415,417\\\\\n",
       "\t1247 & 1024                                    & 438,443,444,447,451,457,458,464,467,470\\\\\n",
       "\t1248 & 1214                                    & 438,443,444,447,451,457,458,464,467,470\\\\\n",
       "\\end{tabular}\n"
      ],
      "text/plain": [
       "     mid  pids                                   \n",
       "1243  594 403,405,406,407,409,411,412,413,415,417\n",
       "1244  722 403,405,406,407,409,411,412,413,415,417\n",
       "1245  730 403,405,406,407,409,411,412,413,415,417\n",
       "1246  907 403,405,406,407,409,411,412,413,415,417\n",
       "1247 1024 438,443,444,447,451,457,458,464,467,470\n",
       "1248 1214 438,443,444,447,451,457,458,464,467,470"
      ]
     },
     "metadata": {},
     "output_type": "display_data"
    }
   ],
   "source": [
    "t = as.data.frame(t)\n",
    "g = sqldf(\"SELECT mid, group_concat(CAST(pid AS INT)) AS pids FROM t GROUP BY mid ORDER BY count(pid)\")\n",
    "head(g)\n",
    "nrow(g)\n",
    "tail(g)"
   ]
  },
  {
   "cell_type": "code",
   "execution_count": 25,
   "metadata": {
    "collapsed": false
   },
   "outputs": [],
   "source": [
    "n = c()\n",
    "r = nrow(g)\n",
    "for(i in 1:r){\n",
    "    disk_i = as.numeric(unlist(strsplit(g[i,2], ',')))\n",
    "    flag = 1\n",
    "    for(j in (i+1):r){\n",
    "        disk_j = as.numeric(unlist(strsplit(g[j,2], ',')))\n",
    "        # print(paste0(\"Disk 1: \", disk_i, \" Disk 2: \", disk_j, \" Result: \", is.element(disk_i, disk_j)))\n",
    "              \n",
    "        if(prod(is.element(disk_i, disk_j)) == 1){\n",
    "            flag = 0\n",
    "            break\n",
    "        }\n",
    "    }\n",
    "    if(flag == 1){\n",
    "        n = c(n, i)\n",
    "    }\n",
    "}\n",
    "n = c(n, r)\n",
    "n = unique(n)"
   ]
  },
  {
   "cell_type": "code",
   "execution_count": 26,
   "metadata": {
    "collapsed": false
   },
   "outputs": [
    {
     "data": {
      "text/html": [
       "<table>\n",
       "<thead><tr><th scope=col>lng</th><th scope=col>lat</th><th scope=col>pids</th></tr></thead>\n",
       "<tbody>\n",
       "\t<tr><td>-326512.392249577</td><td>4471574.61187925 </td><td>394,403,405      </td></tr>\n",
       "\t<tr><td>-326924.099686826</td><td>4473135.22402740 </td><td>584,591,619      </td></tr>\n",
       "\t<tr><td>-316480.164435932</td><td>4472109.23487005 </td><td>614,626,633      </td></tr>\n",
       "\t<tr><td>-325995.046184977</td><td>4472418.12312925 </td><td>523,535,537      </td></tr>\n",
       "\t<tr><td>-327206.790234772</td><td>4475419.52784507 </td><td>753,754,759      </td></tr>\n",
       "\t<tr><td>-326924.932682156</td><td>4471864.92765717 </td><td>416,418,432      </td></tr>\n",
       "</tbody>\n",
       "</table>\n"
      ],
      "text/latex": [
       "\\begin{tabular}{r|lll}\n",
       " lng & lat & pids\\\\\n",
       "\\hline\n",
       "\t -326512.392249577 & 4471574.61187925  & 394,403,405      \\\\\n",
       "\t -326924.099686826 & 4473135.22402740  & 584,591,619      \\\\\n",
       "\t -316480.164435932 & 4472109.23487005  & 614,626,633      \\\\\n",
       "\t -325995.046184977 & 4472418.12312925  & 523,535,537      \\\\\n",
       "\t -327206.790234772 & 4475419.52784507  & 753,754,759      \\\\\n",
       "\t -326924.932682156 & 4471864.92765717  & 416,418,432      \\\\\n",
       "\\end{tabular}\n"
      ],
      "text/plain": [
       "  lng               lat              pids       \n",
       "1 -326512.392249577 4471574.61187925 394,403,405\n",
       "2 -326924.099686826 4473135.22402740 584,591,619\n",
       "3 -316480.164435932 4472109.23487005 614,626,633\n",
       "4 -325995.046184977 4472418.12312925 523,535,537\n",
       "5 -327206.790234772 4475419.52784507 753,754,759\n",
       "6 -326924.932682156 4471864.92765717 416,418,432"
      ]
     },
     "metadata": {},
     "output_type": "display_data"
    },
    {
     "data": {
      "text/html": [
       "161"
      ],
      "text/latex": [
       "161"
      ],
      "text/markdown": [
       "161"
      ],
      "text/plain": [
       "[1] 161"
      ]
     },
     "metadata": {},
     "output_type": "display_data"
    }
   ],
   "source": [
    "g = g[n,]\n",
    "\n",
    "m = as.data.frame(m)\n",
    "maximal = sqldf(\"SELECT lng, lat, pids FROM g JOIN m ON(id = mid)\")\n",
    "head(maximal)\n",
    "nrow(maximal)\n",
    "\n",
    "coordinates(maximal) = ~lng+lat\n",
    "proj4string(maximal) = mercator\n",
    "maximal = spTransform(maximal, wgs84)\n",
    "maximal$lng1 = coordinates(maximal)[,1]\n",
    "maximal$lat1 = coordinates(maximal)[,2]"
   ]
  },
  {
   "cell_type": "code",
   "execution_count": 27,
   "metadata": {
    "collapsed": false
   },
   "outputs": [
    {
     "data": {
      "text/html": [
       "<iframe width=100% height=400 src='  map4.html  '  />"
      ]
     },
     "metadata": {},
     "output_type": "display_data"
    }
   ],
   "source": [
    "map = leaflet() %>% setView(lat = the_lat, lng = the_lng, zoom = the_zoom) %>% addTiles() %>% \n",
    "        addCircles(lng=maximal$lng1, lat=maximal$lat1, weight=2, fillOpacity=0.25, color=\"orange\", radius = epsilon/2, popup = maximal$pids) %>%\n",
    "        addCircleMarkers(lng=data$lng, lat=data$lat, weight=2, fillOpacity=1,radius = 2) %>%\n",
    "        addCircleMarkers(lng=data2$lng, lat=data2$lat, weight=2, fillOpacity=1, color=\"purple\", radius = 2) %>% \n",
    "        addProviderTiles(\"Esri.WorldImagery\", group = \"ESRI\") %>% \n",
    "        addLayersControl(baseGroup = c(\"OSM(default)\", \"ESRI\"))\n",
    "\n",
    "file = 'map4.html'\n",
    "htmlwidgets::saveWidget(map, file = file, selfcontained = F)\n",
    "IRdisplay::display_html(paste(\"<iframe width=100% height=400 src=' \", file, \" ' \",\"/>\"))"
   ]
  },
  {
   "cell_type": "code",
   "execution_count": 29,
   "metadata": {
    "collapsed": false
   },
   "outputs": [
    {
     "data": {
      "text/html": [
       "<iframe width=100% height=400 src='  map5.html  '  />"
      ]
     },
     "metadata": {},
     "output_type": "display_data"
    }
   ],
   "source": [
    "map = leaflet() %>% setView(lat = the_lat, lng = the_lng, zoom = the_zoom) %>% addTiles() %>% \n",
    "        addCircleMarkers(lng=data$lng, lat=data$lat, weight=2, fillOpacity=1,radius = 2, group = \"Points\") %>%\n",
    "        \n",
    "        addCircles(lng=disks$lng1, lat=disks$lat1, weight=2, fillOpacity=0.10, color=\"red\", radius = epsilon/2, group = \"Initial set\") %>%\n",
    "        addCircles(lng=disks$lng2, lat=disks$lat2, weight=2, fillOpacity=0.10, color=\"red\", radius = epsilon/2, group = \"Initial set\") %>%\n",
    "        addCircleMarkers(lng=data2$lng, lat=data2$lat, weight=2, fillOpacity=1, color=\"purple\", radius=2, group = \"Initial set\") %>% \n",
    "        \n",
    "        addCircles(lng=mdisks$lng1, lat=mdisks$lat1, weight=2, fillOpacity=0.20, color=\"blue\", radius = epsilon/2, group = \"Prune less than mu\") %>%\n",
    "        addCircleMarkers(lng=data2$lng, lat=data2$lat, weight=2, fillOpacity=1, color=\"purple\", radius=2, group = \"Prune less than mu\") %>% \n",
    "        \n",
    "        addCircles(lng=maximal$lng1, lat=maximal$lat1, weight=2, fillOpacity=0.40, color=\"orange\", radius = epsilon/2, popup = maximal$pids, group = \"Prune redundant\") %>%\n",
    "        addCircleMarkers(lng=data2$lng, lat=data2$lat, weight=2, fillOpacity=1, color=\"purple\", radius=2, group = \"Prune redundant\") %>% \n",
    "        \n",
    "        addProviderTiles(\"Esri.WorldImagery\", group = \"ESRI\") %>% \n",
    "        addLayersControl(baseGroup = c(\"OSM(default)\", \"ESRI\"),\n",
    "                        overlayGroups = c(\"Initial set\", \"Prune less than mu\", \"Prune redundant\", \"Points\"),\n",
    "                        options = layersControlOptions(collapsed = FALSE, autoZIndex = FALSE)) \n",
    "\n",
    "\n",
    "file = 'map5.html'\n",
    "htmlwidgets::saveWidget(map, file = file, selfcontained = F)\n",
    "IRdisplay::display_html(paste(\"<iframe width=100% height=400 src=' \", file, \" ' \",\"/>\"))"
   ]
  },
  {
   "cell_type": "code",
   "execution_count": null,
   "metadata": {
    "collapsed": true
   },
   "outputs": [],
   "source": []
  }
 ],
 "metadata": {
  "anaconda-cloud": {},
  "kernelspec": {
   "display_name": "R",
   "language": "R",
   "name": "r"
  },
  "language_info": {
   "codemirror_mode": "r",
   "file_extension": ".r",
   "mimetype": "text/x-r-source",
   "name": "R",
   "pygments_lexer": "r",
   "version": "3.3.2"
  }
 },
 "nbformat": 4,
 "nbformat_minor": 1
}

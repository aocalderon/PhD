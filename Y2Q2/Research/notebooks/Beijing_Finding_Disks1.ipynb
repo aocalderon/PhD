{
 "cells": [
  {
   "cell_type": "markdown",
   "metadata": {},
   "source": [
    "# We need some libraries and initial parameters..."
   ]
  },
  {
   "cell_type": "code",
   "execution_count": 110,
   "metadata": {
    "collapsed": false
   },
   "outputs": [],
   "source": [
    "library(SparkR)\n",
    "library(leaflet)\n",
    "library(sp)\n",
    "options(digits=15)\n",
    "\n",
    "epsilon = 100\n",
    "source(\"pbfe.R\")"
   ]
  },
  {
   "cell_type": "markdown",
   "metadata": {},
   "source": [
    "# Let load some data..."
   ]
  },
  {
   "cell_type": "code",
   "execution_count": 64,
   "metadata": {
    "collapsed": false
   },
   "outputs": [
    {
     "data": {
      "text/html": [
       "<table>\n",
       "<thead><tr><th scope=col>ID</th><th scope=col>lat</th><th scope=col>lng</th></tr></thead>\n",
       "<tbody>\n",
       "\t<tr><td>1          </td><td>39.5905830 </td><td>116.2719450</td></tr>\n",
       "\t<tr><td>2          </td><td>39.6334840 </td><td>116.7282400</td></tr>\n",
       "\t<tr><td>3          </td><td>39.6558133 </td><td>116.6641916</td></tr>\n",
       "\t<tr><td>4          </td><td>39.6596780 </td><td>116.6711490</td></tr>\n",
       "\t<tr><td>5          </td><td>39.6654583 </td><td>116.3098399</td></tr>\n",
       "\t<tr><td>6          </td><td>39.6728416 </td><td>116.3086649</td></tr>\n",
       "</tbody>\n",
       "</table>\n"
      ],
      "text/latex": [
       "\\begin{tabular}{r|lll}\n",
       " ID & lat & lng\\\\\n",
       "\\hline\n",
       "\t 1           & 39.5905830  & 116.2719450\\\\\n",
       "\t 2           & 39.6334840  & 116.7282400\\\\\n",
       "\t 3           & 39.6558133  & 116.6641916\\\\\n",
       "\t 4           & 39.6596780  & 116.6711490\\\\\n",
       "\t 5           & 39.6654583  & 116.3098399\\\\\n",
       "\t 6           & 39.6728416  & 116.3086649\\\\\n",
       "\\end{tabular}\n"
      ],
      "text/plain": [
       "  ID lat        lng        \n",
       "1 1  39.5905830 116.2719450\n",
       "2 2  39.6334840 116.7282400\n",
       "3 3  39.6558133 116.6641916\n",
       "4 4  39.6596780 116.6711490\n",
       "5 5  39.6654583 116.3098399\n",
       "6 6  39.6728416 116.3086649"
      ]
     },
     "metadata": {},
     "output_type": "display_data"
    }
   ],
   "source": [
    "data = read.csv(\"sample_small.csv\")\n",
    "names(data) = c(\"ID\",\"lat\",\"lng\")\n",
    "head(data)"
   ]
  },
  {
   "cell_type": "markdown",
   "metadata": {},
   "source": [
    "# and visualize them in a map..."
   ]
  },
  {
   "cell_type": "code",
   "execution_count": 65,
   "metadata": {
    "collapsed": false
   },
   "outputs": [
    {
     "data": {
      "text/html": [
       "<iframe width=100% height=400 src='  map1.html  '  />"
      ]
     },
     "metadata": {},
     "output_type": "display_data"
    }
   ],
   "source": [
    "map = leaflet() %>%\n",
    "  addTiles() %>%\n",
    "  addCircleMarkers(lng=data$lng, lat=data$lat,weight=2,fillOpacity=1,color=\"blue\",radius=2)\n",
    "\n",
    "file = 'map1.html'\n",
    "htmlwidgets::saveWidget(map, file = file, selfcontained = F)\n",
    "IRdisplay::display_html(paste(\"<iframe width=100% height=400 src=' \", file, \" ' \",\"/>\"))"
   ]
  },
  {
   "cell_type": "markdown",
   "metadata": {},
   "source": [
    "https://ec2-35-162-64-98.us-west-2.compute.amazonaws.com:8888/home/ubuntu/notebooks/files/map1.html"
   ]
  },
  {
   "cell_type": "markdown",
   "metadata": {},
   "source": [
    "# Connecting with Simba and getting a SQLContext..."
   ]
  },
  {
   "cell_type": "code",
   "execution_count": 66,
   "metadata": {
    "collapsed": false
   },
   "outputs": [
    {
     "name": "stdout",
     "output_type": "stream",
     "text": [
      "Re-using existing Spark Context. Please stop SparkR with sparkR.stop() or restart R to create a new Spark Context\n"
     ]
    }
   ],
   "source": [
    "sc <- sparkR.init(\"local[*]\", \"SparkR\")\n",
    "sqlContext <- sparkRSQL.init(sc)"
   ]
  },
  {
   "cell_type": "markdown",
   "metadata": {},
   "source": [
    "# Let read the data into Simba and apply a transformation..."
   ]
  },
  {
   "cell_type": "code",
   "execution_count": 67,
   "metadata": {
    "collapsed": false
   },
   "outputs": [],
   "source": [
    "dataRDD = SparkR:::textFile(sc,\"sample_small.csv\")\n",
    "dataRDD = SparkR:::map(dataRDD, transformCoords)"
   ]
  },
  {
   "cell_type": "markdown",
   "metadata": {},
   "source": [
    "# Now We create a DataFrame and cache the data..."
   ]
  },
  {
   "cell_type": "code",
   "execution_count": 68,
   "metadata": {
    "collapsed": false
   },
   "outputs": [
    {
     "data": {
      "text/plain": [
       "DataFrame[id:double, lng:double, lat:double]"
      ]
     },
     "metadata": {},
     "output_type": "display_data"
    }
   ],
   "source": [
    "schema <- structType(structField(\"id\", \"double\"), structField(\"lng\", \"double\"), structField(\"lat\", \"double\"))\n",
    "points <- createDataFrame(sqlContext, dataRDD, schema = schema)\n",
    "cache(points)"
   ]
  },
  {
   "cell_type": "markdown",
   "metadata": {},
   "source": [
    "# Let's have a look..."
   ]
  },
  {
   "cell_type": "code",
   "execution_count": 69,
   "metadata": {
    "collapsed": false
   },
   "outputs": [
    {
     "data": {
      "text/html": [
       "<table>\n",
       "<thead><tr><th scope=col>id</th><th scope=col>lng</th><th scope=col>lat</th></tr></thead>\n",
       "<tbody>\n",
       "\t<tr><td>0                </td><td>-300629.930290752</td><td>4419848.70124370 </td></tr>\n",
       "\t<tr><td>1                </td><td>-336418.933794024</td><td>4429641.88724925 </td></tr>\n",
       "\t<tr><td>2                </td><td>-296625.402561355</td><td>4430225.49965138 </td></tr>\n",
       "\t<tr><td>3                </td><td>-301876.547452500</td><td>4433286.74767265 </td></tr>\n",
       "\t<tr><td>4                </td><td>-301232.904159629</td><td>4433654.10554999 </td></tr>\n",
       "\t<tr><td>5                </td><td>-332247.212576558</td><td>4437621.06989079 </td></tr>\n",
       "</tbody>\n",
       "</table>\n"
      ],
      "text/latex": [
       "\\begin{tabular}{r|lll}\n",
       " id & lng & lat\\\\\n",
       "\\hline\n",
       "\t 0                 & -300629.930290752 & 4419848.70124370 \\\\\n",
       "\t 1                 & -336418.933794024 & 4429641.88724925 \\\\\n",
       "\t 2                 & -296625.402561355 & 4430225.49965138 \\\\\n",
       "\t 3                 & -301876.547452500 & 4433286.74767265 \\\\\n",
       "\t 4                 & -301232.904159629 & 4433654.10554999 \\\\\n",
       "\t 5                 & -332247.212576558 & 4437621.06989079 \\\\\n",
       "\\end{tabular}\n"
      ],
      "text/plain": [
       "  id lng               lat             \n",
       "1 0  -300629.930290752 4419848.70124370\n",
       "2 1  -336418.933794024 4429641.88724925\n",
       "3 2  -296625.402561355 4430225.49965138\n",
       "4 3  -301876.547452500 4433286.74767265\n",
       "5 4  -301232.904159629 4433654.10554999\n",
       "6 5  -332247.212576558 4437621.06989079"
      ]
     },
     "metadata": {},
     "output_type": "display_data"
    },
    {
     "data": {
      "text/html": [
       "899"
      ],
      "text/latex": [
       "899"
      ],
      "text/markdown": [
       "899"
      ],
      "text/plain": [
       "[1] 899"
      ]
     },
     "metadata": {},
     "output_type": "display_data"
    }
   ],
   "source": [
    "head(points)\n",
    "count(points)"
   ]
  },
  {
   "cell_type": "markdown",
   "metadata": {
    "collapsed": false
   },
   "source": [
    "# Now, We need register a pair of temporal tables..."
   ]
  },
  {
   "cell_type": "code",
   "execution_count": 70,
   "metadata": {
    "collapsed": true
   },
   "outputs": [],
   "source": [
    "registerTempTable(points, \"p1\")\n",
    "registerTempTable(points, \"p2\")"
   ]
  },
  {
   "cell_type": "markdown",
   "metadata": {},
   "source": [
    "# It is time to execute the SQL statement...\n",
    "\n",
    "```SQL\n",
    "SELECT\n",
    "    * \n",
    "FROM \n",
    "    p1 \n",
    "DISTANCE JOIN \n",
    "    p2\n",
    "ON \n",
    "    POINT(p2.lng, p2.lat) IN CIRCLERANGE(POINT(p1.lng, p1.lat), epsilon)\n",
    "WHERE \n",
    "    p2.id < p1.id\n",
    "```"
   ]
  },
  {
   "cell_type": "code",
   "execution_count": 71,
   "metadata": {
    "collapsed": false
   },
   "outputs": [
    {
     "data": {
      "text/html": [
       "<table>\n",
       "<thead><tr><th scope=col>id</th><th scope=col>lng</th><th scope=col>lat</th><th scope=col>id</th><th scope=col>lng</th><th scope=col>lat</th></tr></thead>\n",
       "<tbody>\n",
       "\t<tr><td> 26              </td><td>-332354.697252151</td><td>4456150.25607556 </td><td> 24              </td><td>-332269.409834687</td><td>4456108.23475632 </td></tr>\n",
       "\t<tr><td> 46              </td><td>-334242.745346436</td><td>4459715.58979402 </td><td> 45              </td><td>-334252.427014354</td><td>4459698.61791281 </td></tr>\n",
       "\t<tr><td>121              </td><td>-353770.269435442</td><td>4466969.59768473 </td><td>120              </td><td>-353766.652493862</td><td>4466963.17659202 </td></tr>\n",
       "\t<tr><td>130              </td><td>-333308.000776320</td><td>4464833.44031216 </td><td>128              </td><td>-333297.180249493</td><td>4464823.99102774 </td></tr>\n",
       "\t<tr><td>304              </td><td>-329311.693033604</td><td>4470875.30350448 </td><td>303              </td><td>-329325.492285997</td><td>4470858.56913779 </td></tr>\n",
       "\t<tr><td>315              </td><td>-327600.494406201</td><td>4470962.75742948 </td><td>314              </td><td>-327656.535980798</td><td>4470964.20013813 </td></tr>\n",
       "</tbody>\n",
       "</table>\n"
      ],
      "text/latex": [
       "\\begin{tabular}{r|llllll}\n",
       " id & lng & lat & id & lng & lat\\\\\n",
       "\\hline\n",
       "\t  26               & -332354.697252151 & 4456150.25607556  &  24               & -332269.409834687 & 4456108.23475632 \\\\\n",
       "\t  46               & -334242.745346436 & 4459715.58979402  &  45               & -334252.427014354 & 4459698.61791281 \\\\\n",
       "\t 121               & -353770.269435442 & 4466969.59768473  & 120               & -353766.652493862 & 4466963.17659202 \\\\\n",
       "\t 130               & -333308.000776320 & 4464833.44031216  & 128               & -333297.180249493 & 4464823.99102774 \\\\\n",
       "\t 304               & -329311.693033604 & 4470875.30350448  & 303               & -329325.492285997 & 4470858.56913779 \\\\\n",
       "\t 315               & -327600.494406201 & 4470962.75742948  & 314               & -327656.535980798 & 4470964.20013813 \\\\\n",
       "\\end{tabular}\n"
      ],
      "text/plain": [
       "  id  lng               lat              id  lng               lat             \n",
       "1  26 -332354.697252151 4456150.25607556  24 -332269.409834687 4456108.23475632\n",
       "2  46 -334242.745346436 4459715.58979402  45 -334252.427014354 4459698.61791281\n",
       "3 121 -353770.269435442 4466969.59768473 120 -353766.652493862 4466963.17659202\n",
       "4 130 -333308.000776320 4464833.44031216 128 -333297.180249493 4464823.99102774\n",
       "5 304 -329311.693033604 4470875.30350448 303 -329325.492285997 4470858.56913779\n",
       "6 315 -327600.494406201 4470962.75742948 314 -327656.535980798 4470964.20013813"
      ]
     },
     "metadata": {},
     "output_type": "display_data"
    },
    {
     "data": {
      "text/html": [
       "336"
      ],
      "text/latex": [
       "336"
      ],
      "text/markdown": [
       "336"
      ],
      "text/plain": [
       "[1] 336"
      ]
     },
     "metadata": {},
     "output_type": "display_data"
    }
   ],
   "source": [
    "sql = paste0(\"SELECT * FROM p1 DISTANCE JOIN p2 ON POINT(p2.lng, p2.lat) IN CIRCLERANGE(POINT(p1.lng, p1.lat), \",epsilon,\") WHERE p2.id < p1.id\")\n",
    "pairs = sql(sqlContext,sql)\n",
    "head(pairs)\n",
    "nrow(pairs)"
   ]
  },
  {
   "cell_type": "markdown",
   "metadata": {},
   "source": [
    "# Now We need to calculate the disk locations for each pair..."
   ]
  },
  {
   "cell_type": "code",
   "execution_count": 73,
   "metadata": {
    "collapsed": false
   },
   "outputs": [
    {
     "data": {
      "text/html": [
       "<table>\n",
       "<thead><tr><th scope=col>id1</th><th scope=col>id2</th><th scope=col>lng1</th><th scope=col>lat1</th><th scope=col>lng2</th><th scope=col>lat2</th></tr></thead>\n",
       "<tbody>\n",
       "\t<tr><td> 26              </td><td> 24              </td><td>-332305.205643173</td><td>4456143.14406876 </td><td>-332318.901443665</td><td>4456115.34676312 </td></tr>\n",
       "\t<tr><td> 46              </td><td> 45              </td><td>-334204.992900705</td><td>4459682.80637075 </td><td>-334290.179460085</td><td>4459731.40133608 </td></tr>\n",
       "\t<tr><td>121              </td><td>120              </td><td>-353725.015378929</td><td>4466990.85963123 </td><td>-353811.906550376</td><td>4466941.91464552 </td></tr>\n",
       "\t<tr><td>130              </td><td>128              </td><td>-333270.043247426</td><td>4464865.98606458 </td><td>-333335.137778387</td><td>4464791.44527532 </td></tr>\n",
       "\t<tr><td>526              </td><td>525              </td><td>-333095.941684751</td><td>4473214.22184632 </td><td>-333093.905954470</td><td>4473233.68774871 </td></tr>\n",
       "\t<tr><td>304              </td><td>303              </td><td>-329280.934882795</td><td>4470835.88350754 </td><td>-329356.250436806</td><td>4470897.98913473 </td></tr>\n",
       "</tbody>\n",
       "</table>\n"
      ],
      "text/latex": [
       "\\begin{tabular}{r|llllll}\n",
       " id1 & id2 & lng1 & lat1 & lng2 & lat2\\\\\n",
       "\\hline\n",
       "\t  26               &  24               & -332305.205643173 & 4456143.14406876  & -332318.901443665 & 4456115.34676312 \\\\\n",
       "\t  46               &  45               & -334204.992900705 & 4459682.80637075  & -334290.179460085 & 4459731.40133608 \\\\\n",
       "\t 121               & 120               & -353725.015378929 & 4466990.85963123  & -353811.906550376 & 4466941.91464552 \\\\\n",
       "\t 130               & 128               & -333270.043247426 & 4464865.98606458  & -333335.137778387 & 4464791.44527532 \\\\\n",
       "\t 526               & 525               & -333095.941684751 & 4473214.22184632  & -333093.905954470 & 4473233.68774871 \\\\\n",
       "\t 304               & 303               & -329280.934882795 & 4470835.88350754  & -329356.250436806 & 4470897.98913473 \\\\\n",
       "\\end{tabular}\n"
      ],
      "text/plain": [
       "  id1 id2 lng1              lat1             lng2              lat2            \n",
       "1  26  24 -332305.205643173 4456143.14406876 -332318.901443665 4456115.34676312\n",
       "2  46  45 -334204.992900705 4459682.80637075 -334290.179460085 4459731.40133608\n",
       "3 121 120 -353725.015378929 4466990.85963123 -353811.906550376 4466941.91464552\n",
       "4 130 128 -333270.043247426 4464865.98606458 -333335.137778387 4464791.44527532\n",
       "5 526 525 -333095.941684751 4473214.22184632 -333093.905954470 4473233.68774871\n",
       "6 304 303 -329280.934882795 4470835.88350754 -329356.250436806 4470897.98913473"
      ]
     },
     "metadata": {},
     "output_type": "display_data"
    },
    {
     "data": {
      "text/html": [
       "336"
      ],
      "text/latex": [
       "336"
      ],
      "text/markdown": [
       "336"
      ],
      "text/plain": [
       "[1] 336"
      ]
     },
     "metadata": {},
     "output_type": "display_data"
    }
   ],
   "source": [
    "centers <- SparkR:::map(pairs, calculateDisk)\n",
    "schema <- structType(structField(\"id1\", \"double\"), structField(\"id2\", \"double\"), structField(\"lng1\", \"double\"), structField(\"lat1\", \"double\"), structField(\"lng2\", \"double\"), structField(\"lat2\", \"double\"))\n",
    "d <- createDataFrame(sqlContext, centers, schema = schema)\n",
    "head(d)\n",
    "count(d)"
   ]
  },
  {
   "cell_type": "markdown",
   "metadata": {},
   "source": [
    "# Let's collect the data back to LatLong coordinates..."
   ]
  },
  {
   "cell_type": "code",
   "execution_count": 74,
   "metadata": {
    "collapsed": false
   },
   "outputs": [
    {
     "data": {
      "text/html": [
       "<table>\n",
       "<thead><tr><th scope=col>id1</th><th scope=col>id2</th><th scope=col>lng1</th><th scope=col>lat1</th><th scope=col>lng2</th><th scope=col>lat2</th></tr></thead>\n",
       "<tbody>\n",
       "\t<tr><td> 26             </td><td> 24             </td><td>116.285885554993</td><td>39.8298282965222</td><td>116.285762963790</td><td>39.8295682120280</td></tr>\n",
       "\t<tr><td> 46             </td><td> 45             </td><td>116.259531520747</td><td>39.8593958326468</td><td>116.258488803823</td><td>39.8597439691014</td></tr>\n",
       "\t<tr><td>121             </td><td>120             </td><td>116.025337096455</td><td>39.9049404914115</td><td>116.024399992141</td><td>39.9044193990716</td></tr>\n",
       "\t<tr><td>130             </td><td>128             </td><td>116.263731245981</td><td>39.9063158237837</td><td>116.263075584504</td><td>39.9055905801566</td></tr>\n",
       "\t<tr><td>526             </td><td>525             </td><td>116.255128264593</td><td>39.9805850682347</td><td>116.255126967427</td><td>39.9807598381811</td></tr>\n",
       "\t<tr><td>304             </td><td>303             </td><td>116.302161916191</td><td>39.9632009910608</td><td>116.301214396641</td><td>39.9636789126113</td></tr>\n",
       "</tbody>\n",
       "</table>\n"
      ],
      "text/latex": [
       "\\begin{tabular}{r|llllll}\n",
       " id1 & id2 & lng1 & lat1 & lng2 & lat2\\\\\n",
       "\\hline\n",
       "\t  26              &  24              & 116.285885554993 & 39.8298282965222 & 116.285762963790 & 39.8295682120280\\\\\n",
       "\t  46              &  45              & 116.259531520747 & 39.8593958326468 & 116.258488803823 & 39.8597439691014\\\\\n",
       "\t 121              & 120              & 116.025337096455 & 39.9049404914115 & 116.024399992141 & 39.9044193990716\\\\\n",
       "\t 130              & 128              & 116.263731245981 & 39.9063158237837 & 116.263075584504 & 39.9055905801566\\\\\n",
       "\t 526              & 525              & 116.255128264593 & 39.9805850682347 & 116.255126967427 & 39.9807598381811\\\\\n",
       "\t 304              & 303              & 116.302161916191 & 39.9632009910608 & 116.301214396641 & 39.9636789126113\\\\\n",
       "\\end{tabular}\n"
      ],
      "text/plain": [
       "  id1 id2 lng1             lat1             lng2             lat2            \n",
       "1  26  24 116.285885554993 39.8298282965222 116.285762963790 39.8295682120280\n",
       "2  46  45 116.259531520747 39.8593958326468 116.258488803823 39.8597439691014\n",
       "3 121 120 116.025337096455 39.9049404914115 116.024399992141 39.9044193990716\n",
       "4 130 128 116.263731245981 39.9063158237837 116.263075584504 39.9055905801566\n",
       "5 526 525 116.255128264593 39.9805850682347 116.255126967427 39.9807598381811\n",
       "6 304 303 116.302161916191 39.9632009910608 116.301214396641 39.9636789126113"
      ]
     },
     "metadata": {},
     "output_type": "display_data"
    },
    {
     "data": {
      "text/html": [
       "336"
      ],
      "text/latex": [
       "336"
      ],
      "text/markdown": [
       "336"
      ],
      "text/plain": [
       "[1] 336"
      ]
     },
     "metadata": {},
     "output_type": "display_data"
    }
   ],
   "source": [
    "centers_lnglat <- SparkR:::map(centers, transformCenters)\n",
    "disks <- as.data.frame(createDataFrame(sqlContext,centers_lnglat))\n",
    "names(disks) = c(\"id1\",\"id2\",\"lng1\",\"lat1\",\"lng2\",\"lat2\")\n",
    "head(disks)\n",
    "nrow(disks)"
   ]
  },
  {
   "cell_type": "markdown",
   "metadata": {
    "collapsed": false
   },
   "source": [
    "# Let's have a look at the results..."
   ]
  },
  {
   "cell_type": "code",
   "execution_count": 75,
   "metadata": {
    "collapsed": false,
    "scrolled": true
   },
   "outputs": [
    {
     "data": {
      "text/html": [
       "<iframe width=100% height=400 src='  map2.html  '  />"
      ]
     },
     "metadata": {},
     "output_type": "display_data"
    }
   ],
   "source": [
    "p = sort(unique(c(disks$id1,disks$id2)))\n",
    "data2 = data[p,]\n",
    "map = leaflet() %>% setView(lat = 39.990010, lng = 116.317406, zoom = 15) %>% addTiles() %>% \n",
    "        addCircles(lng=disks$lng1, lat=disks$lat1, weight=2, fillOpacity=0.25, color=\"red\", radius = epsilon/2) %>%\n",
    "        addCircles(lng=disks$lng2, lat=disks$lat2, weight=2, fillOpacity=0.25, color=\"red\", radius = epsilon/2) %>%\n",
    "        addCircleMarkers(lng=data$lng, lat=data$lat, weight=2, fillOpacity=1,radius = 2) %>%\n",
    "        addCircleMarkers(lng=data2$lng, lat=data2$lat, weight=2, fillOpacity=1, color=\"purple\", radius = 2) %>% \n",
    "        addProviderTiles(\"Esri.WorldImagery\", group = \"ESRI\") %>% \n",
    "        addLayersControl(baseGroup = c(\"OSM(default)\", \"ESRI\"))\n",
    "\n",
    "file = 'map2.html'\n",
    "htmlwidgets::saveWidget(map, file = file, selfcontained = F)\n",
    "IRdisplay::display_html(paste(\"<iframe width=100% height=400 src=' \", file, \" ' \",\"/>\"))"
   ]
  },
  {
   "cell_type": "markdown",
   "metadata": {
    "collapsed": true
   },
   "source": [
    "https://ec2-35-162-64-98.us-west-2.compute.amazonaws.com:8888/home/ubuntu/notebooks/files/map2.html"
   ]
  },
  {
   "cell_type": "code",
   "execution_count": 76,
   "metadata": {
    "collapsed": false
   },
   "outputs": [],
   "source": [
    "registerTempTable(d, \"d\")\n",
    "registerTempTable(points, \"p\")"
   ]
  },
  {
   "cell_type": "code",
   "execution_count": 125,
   "metadata": {
    "collapsed": false
   },
   "outputs": [],
   "source": [
    "sql = paste0(\"SELECT d.lng1 AS lng, d.lat1 AS lat, id AS id_member FROM d DISTANCE JOIN p ON POINT(p.lng, p.lat) IN CIRCLERANGE(POINT(d.lng1, d.lat1), \",(epsilon/2)+0.01,\")\")\n",
    "mdisks = sql(sqlContext,sql)\n",
    "registerTempTable(mdisks, \"m\")\n",
    "sql = \"SELECT lng, lat FROM m GROUP BY lng, lat HAVING count(id_member) >= 3\"\n",
    "mdisks1 = sql(sqlContext,sql)"
   ]
  },
  {
   "cell_type": "code",
   "execution_count": 126,
   "metadata": {
    "collapsed": false
   },
   "outputs": [],
   "source": [
    "sql = paste0(\"SELECT d.lng2 AS lng, d.lat2 AS lat, id AS id_member FROM d DISTANCE JOIN p ON POINT(p.lng, p.lat) IN CIRCLERANGE(POINT(d.lng2, d.lat2), \",(epsilon/2)+0.01,\")\")\n",
    "mdisks = sql(sqlContext,sql)\n",
    "registerTempTable(mdisks, \"m\")\n",
    "sql = \"SELECT lng, lat FROM m GROUP BY lng, lat HAVING count(id_member) >= 3\"\n",
    "mdisks2 = sql(sqlContext,sql)"
   ]
  },
  {
   "cell_type": "code",
   "execution_count": 127,
   "metadata": {
    "collapsed": false
   },
   "outputs": [],
   "source": [
    "mdisks = as.data.frame(rbind(mdisks1, mdisks2))\n",
    "id = seq(1,nrow(mdisks))\n",
    "mdisks$id = id\n",
    "\n",
    "coordinates(mdisks) = ~lng+lat\n",
    "proj4string(mdisks) = mercator\n",
    "mdisks = spTransform(mdisks, wgs84)\n",
    "mdisks$lng1 = coordinates(mdisks)[,1]\n",
    "mdisks$lat1 = coordinates(mdisks)[,2]"
   ]
  },
  {
   "cell_type": "code",
   "execution_count": 129,
   "metadata": {
    "collapsed": false
   },
   "outputs": [
    {
     "data": {
      "text/html": [
       "<iframe width=100% height=400 src='  map3.html  '  />"
      ]
     },
     "metadata": {},
     "output_type": "display_data"
    }
   ],
   "source": [
    "map = leaflet() %>% setView(lat = 39.990010, lng = 116.317406, zoom = 15) %>% addTiles() %>% \n",
    "        addCircles(lng=mdisks$lng1, lat=mdisks$lat1, weight=2, fillOpacity=0.25, color=\"blue\", radius = epsilon/2) %>%\n",
    "        addCircleMarkers(lng=data$lng, lat=data$lat, weight=2, fillOpacity=1,radius = 2) %>%\n",
    "        addCircleMarkers(lng=data2$lng, lat=data2$lat, weight=2, fillOpacity=1, color=\"purple\", radius = 2) %>% \n",
    "        addProviderTiles(\"Esri.WorldImagery\", group = \"ESRI\") %>% \n",
    "        addLayersControl(baseGroup = c(\"OSM(default)\", \"ESRI\"))\n",
    "\n",
    "file = 'map3.html'\n",
    "htmlwidgets::saveWidget(map, file = file, selfcontained = F)\n",
    "IRdisplay::display_html(paste(\"<iframe width=100% height=400 src=' \", file, \" ' \",\"/>\"))"
   ]
  },
  {
   "cell_type": "code",
   "execution_count": 226,
   "metadata": {
    "collapsed": false
   },
   "outputs": [
    {
     "data": {
      "text/html": [
       "<ol>\n",
       "\t<li><ol class=list-inline>\n",
       "\t<li>'656'</li>\n",
       "\t<li>'659'</li>\n",
       "\t<li>'660'</li>\n",
       "</ol>\n",
       "</li>\n",
       "</ol>\n"
      ],
      "text/latex": [
       "\\begin{enumerate}\n",
       "\\item \\begin{enumerate*}\n",
       "\\item '656'\n",
       "\\item '659'\n",
       "\\item '660'\n",
       "\\end{enumerate*}\n",
       "\n",
       "\\end{enumerate}\n"
      ],
      "text/markdown": [
       "1. 1. '656'\n",
       "2. '659'\n",
       "3. '660'\n",
       "\n",
       "\n",
       "\n",
       "\n",
       "\n"
      ],
      "text/plain": [
       "[[1]]\n",
       "[1] \"656\" \"659\" \"660\"\n"
      ]
     },
     "metadata": {},
     "output_type": "display_data"
    },
    {
     "data": {
      "text/html": [
       "<ol class=list-inline>\n",
       "\t<li>656</li>\n",
       "\t<li>657</li>\n",
       "\t<li>659</li>\n",
       "\t<li>660</li>\n",
       "</ol>\n"
      ],
      "text/latex": [
       "\\begin{enumerate*}\n",
       "\\item 656\n",
       "\\item 657\n",
       "\\item 659\n",
       "\\item 660\n",
       "\\end{enumerate*}\n"
      ],
      "text/markdown": [
       "1. 656\n",
       "2. 657\n",
       "3. 659\n",
       "4. 660\n",
       "\n",
       "\n"
      ],
      "text/plain": [
       "[1] 656 657 659 660"
      ]
     },
     "metadata": {},
     "output_type": "display_data"
    },
    {
     "data": {
      "text/html": [
       "0"
      ],
      "text/latex": [
       "0"
      ],
      "text/markdown": [
       "0"
      ],
      "text/plain": [
       "[1] 0"
      ]
     },
     "metadata": {},
     "output_type": "display_data"
    }
   ],
   "source": [
    "v1 = \"656,659,660\"\n",
    "\n",
    "v1 = as.numeric(unlist(strsplit(v1,',')))\n",
    "\n",
    "v1\n",
    "\n",
    "v2 = c(656,657,659,660)\n",
    "\n",
    "v2\n",
    "\n",
    "prod(is.element(v1, v2))\n",
    "\n"
   ]
  },
  {
   "cell_type": "code",
   "execution_count": 208,
   "metadata": {
    "collapsed": false
   },
   "outputs": [
    {
     "data": {
      "text/html": [
       "<table>\n",
       "<thead><tr><th scope=col>lng</th><th scope=col>lat</th><th scope=col>id</th></tr></thead>\n",
       "<tbody>\n",
       "\t<tr><td>-326785.031291999</td><td>4474106.72293867 </td><td>1                </td></tr>\n",
       "\t<tr><td>-326642.410067071</td><td>4471946.67646511 </td><td>2                </td></tr>\n",
       "\t<tr><td>-326719.658916002</td><td>4471883.24867805 </td><td>3                </td></tr>\n",
       "\t<tr><td>-326725.183218763</td><td>4471877.32793320 </td><td>4                </td></tr>\n",
       "\t<tr><td>-326438.602588559</td><td>4471946.88995418 </td><td>5                </td></tr>\n",
       "\t<tr><td>-327206.286667153</td><td>4475653.52300156 </td><td>6                </td></tr>\n",
       "</tbody>\n",
       "</table>\n"
      ],
      "text/latex": [
       "\\begin{tabular}{r|lll}\n",
       " lng & lat & id\\\\\n",
       "\\hline\n",
       "\t -326785.031291999 & 4474106.72293867  & 1                \\\\\n",
       "\t -326642.410067071 & 4471946.67646511  & 2                \\\\\n",
       "\t -326719.658916002 & 4471883.24867805  & 3                \\\\\n",
       "\t -326725.183218763 & 4471877.32793320  & 4                \\\\\n",
       "\t -326438.602588559 & 4471946.88995418  & 5                \\\\\n",
       "\t -327206.286667153 & 4475653.52300156  & 6                \\\\\n",
       "\\end{tabular}\n"
      ],
      "text/plain": [
       "  lng               lat              id\n",
       "1 -326785.031291999 4474106.72293867 1 \n",
       "2 -326642.410067071 4471946.67646511 2 \n",
       "3 -326719.658916002 4471883.24867805 3 \n",
       "4 -326725.183218763 4471877.32793320 4 \n",
       "5 -326438.602588559 4471946.88995418 5 \n",
       "6 -327206.286667153 4475653.52300156 6 "
      ]
     },
     "metadata": {},
     "output_type": "display_data"
    },
    {
     "data": {
      "text/html": [
       "296"
      ],
      "text/latex": [
       "296"
      ],
      "text/markdown": [
       "296"
      ],
      "text/plain": [
       "[1] 296"
      ]
     },
     "metadata": {},
     "output_type": "display_data"
    },
    {
     "data": {
      "text/html": [
       "<table>\n",
       "<thead><tr><th scope=col>id</th><th scope=col>lng</th><th scope=col>lat</th></tr></thead>\n",
       "<tbody>\n",
       "\t<tr><td>0                </td><td>-300629.930290752</td><td>4419848.70124370 </td></tr>\n",
       "\t<tr><td>1                </td><td>-336418.933794024</td><td>4429641.88724925 </td></tr>\n",
       "\t<tr><td>2                </td><td>-296625.402561355</td><td>4430225.49965138 </td></tr>\n",
       "\t<tr><td>3                </td><td>-301876.547452500</td><td>4433286.74767265 </td></tr>\n",
       "\t<tr><td>4                </td><td>-301232.904159629</td><td>4433654.10554999 </td></tr>\n",
       "\t<tr><td>5                </td><td>-332247.212576558</td><td>4437621.06989079 </td></tr>\n",
       "</tbody>\n",
       "</table>\n"
      ],
      "text/latex": [
       "\\begin{tabular}{r|lll}\n",
       " id & lng & lat\\\\\n",
       "\\hline\n",
       "\t 0                 & -300629.930290752 & 4419848.70124370 \\\\\n",
       "\t 1                 & -336418.933794024 & 4429641.88724925 \\\\\n",
       "\t 2                 & -296625.402561355 & 4430225.49965138 \\\\\n",
       "\t 3                 & -301876.547452500 & 4433286.74767265 \\\\\n",
       "\t 4                 & -301232.904159629 & 4433654.10554999 \\\\\n",
       "\t 5                 & -332247.212576558 & 4437621.06989079 \\\\\n",
       "\\end{tabular}\n"
      ],
      "text/plain": [
       "  id lng               lat             \n",
       "1 0  -300629.930290752 4419848.70124370\n",
       "2 1  -336418.933794024 4429641.88724925\n",
       "3 2  -296625.402561355 4430225.49965138\n",
       "4 3  -301876.547452500 4433286.74767265\n",
       "5 4  -301232.904159629 4433654.10554999\n",
       "6 5  -332247.212576558 4437621.06989079"
      ]
     },
     "metadata": {},
     "output_type": "display_data"
    },
    {
     "data": {
      "text/html": [
       "899"
      ],
      "text/latex": [
       "899"
      ],
      "text/markdown": [
       "899"
      ],
      "text/plain": [
       "[1] 899"
      ]
     },
     "metadata": {},
     "output_type": "display_data"
    },
    {
     "data": {
      "text/html": [
       "<table>\n",
       "<thead><tr><th scope=col>mid</th><th scope=col>pid</th></tr></thead>\n",
       "<tbody>\n",
       "\t<tr><td>133</td><td>338</td></tr>\n",
       "\t<tr><td>133</td><td>342</td></tr>\n",
       "\t<tr><td>133</td><td>345</td></tr>\n",
       "\t<tr><td>134</td><td>338</td></tr>\n",
       "\t<tr><td>134</td><td>342</td></tr>\n",
       "\t<tr><td>134</td><td>345</td></tr>\n",
       "\t<tr><td>230</td><td>338</td></tr>\n",
       "\t<tr><td>230</td><td>342</td></tr>\n",
       "\t<tr><td>230</td><td>345</td></tr>\n",
       "\t<tr><td>111</td><td>606</td></tr>\n",
       "\t<tr><td>111</td><td>604</td></tr>\n",
       "\t<tr><td>111</td><td>609</td></tr>\n",
       "\t<tr><td>261</td><td>606</td></tr>\n",
       "\t<tr><td>261</td><td>604</td></tr>\n",
       "\t<tr><td>261</td><td>609</td></tr>\n",
       "\t<tr><td>  1</td><td>689</td></tr>\n",
       "\t<tr><td>  1</td><td>691</td></tr>\n",
       "\t<tr><td>  1</td><td>693</td></tr>\n",
       "\t<tr><td>  2</td><td>463</td></tr>\n",
       "\t<tr><td>  2</td><td>458</td></tr>\n",
       "\t<tr><td>  2</td><td>444</td></tr>\n",
       "\t<tr><td>  2</td><td>451</td></tr>\n",
       "\t<tr><td>  3</td><td>438</td></tr>\n",
       "\t<tr><td>  3</td><td>444</td></tr>\n",
       "\t<tr><td>  3</td><td>443</td></tr>\n",
       "\t<tr><td>  3</td><td>447</td></tr>\n",
       "\t<tr><td>  4</td><td>438</td></tr>\n",
       "\t<tr><td>  4</td><td>443</td></tr>\n",
       "\t<tr><td>  4</td><td>447</td></tr>\n",
       "\t<tr><td>  5</td><td>448</td></tr>\n",
       "</tbody>\n",
       "</table>\n"
      ],
      "text/latex": [
       "\\begin{tabular}{r|ll}\n",
       " mid & pid\\\\\n",
       "\\hline\n",
       "\t 133 & 338\\\\\n",
       "\t 133 & 342\\\\\n",
       "\t 133 & 345\\\\\n",
       "\t 134 & 338\\\\\n",
       "\t 134 & 342\\\\\n",
       "\t 134 & 345\\\\\n",
       "\t 230 & 338\\\\\n",
       "\t 230 & 342\\\\\n",
       "\t 230 & 345\\\\\n",
       "\t 111 & 606\\\\\n",
       "\t 111 & 604\\\\\n",
       "\t 111 & 609\\\\\n",
       "\t 261 & 606\\\\\n",
       "\t 261 & 604\\\\\n",
       "\t 261 & 609\\\\\n",
       "\t   1 & 689\\\\\n",
       "\t   1 & 691\\\\\n",
       "\t   1 & 693\\\\\n",
       "\t   2 & 463\\\\\n",
       "\t   2 & 458\\\\\n",
       "\t   2 & 444\\\\\n",
       "\t   2 & 451\\\\\n",
       "\t   3 & 438\\\\\n",
       "\t   3 & 444\\\\\n",
       "\t   3 & 443\\\\\n",
       "\t   3 & 447\\\\\n",
       "\t   4 & 438\\\\\n",
       "\t   4 & 443\\\\\n",
       "\t   4 & 447\\\\\n",
       "\t   5 & 448\\\\\n",
       "\\end{tabular}\n"
      ],
      "text/plain": [
       "   mid pid\n",
       "1  133 338\n",
       "2  133 342\n",
       "3  133 345\n",
       "4  134 338\n",
       "5  134 342\n",
       "6  134 345\n",
       "7  230 338\n",
       "8  230 342\n",
       "9  230 345\n",
       "10 111 606\n",
       "11 111 604\n",
       "12 111 609\n",
       "13 261 606\n",
       "14 261 604\n",
       "15 261 609\n",
       "16   1 689\n",
       "17   1 691\n",
       "18   1 693\n",
       "19   2 463\n",
       "20   2 458\n",
       "21   2 444\n",
       "22   2 451\n",
       "23   3 438\n",
       "24   3 444\n",
       "25   3 443\n",
       "26   3 447\n",
       "27   4 438\n",
       "28   4 443\n",
       "29   4 447\n",
       "30   5 448"
      ]
     },
     "metadata": {},
     "output_type": "display_data"
    },
    {
     "data": {
      "text/html": [
       "1159"
      ],
      "text/latex": [
       "1159"
      ],
      "text/markdown": [
       "1159"
      ],
      "text/plain": [
       "[1] 1159"
      ]
     },
     "metadata": {},
     "output_type": "display_data"
    }
   ],
   "source": [
    "m <- as.data.frame(rbind(mdisks1, mdisks2))\n",
    "m$id = seq(1,nrow(m))\n",
    "m = createDataFrame(sqlContext, m)\n",
    "head(m)\n",
    "count(m)\n",
    "registerTempTable(m, \"m\")\n",
    "\n",
    "head(points)\n",
    "count(points)\n",
    "\n",
    "sql = paste0(\"SELECT m.id AS mid, p.id AS pid FROM m DISTANCE JOIN p ON POINT(p.lng, p.lat) IN CIRCLERANGE (POINT(m.lng, m.lat), \",(epsilon/2)+0.01,\") ORDER BY 1 ,2\")\n",
    "t = sql(sqlContext,sql)\n",
    "head(t, 30)\n",
    "count(t)"
   ]
  },
  {
   "cell_type": "code",
   "execution_count": 209,
   "metadata": {
    "collapsed": false
   },
   "outputs": [],
   "source": [
    "library(sqldf)"
   ]
  },
  {
   "cell_type": "code",
   "execution_count": 210,
   "metadata": {
    "collapsed": false
   },
   "outputs": [
    {
     "data": {
      "text/html": [
       "<table>\n",
       "<thead><tr><th scope=col>mid</th><th scope=col>pids</th></tr></thead>\n",
       "<tbody>\n",
       "\t<tr><td>1          </td><td>693,689,691</td></tr>\n",
       "\t<tr><td>4          </td><td>443,447,438</td></tr>\n",
       "\t<tr><td>5          </td><td>449,460,448</td></tr>\n",
       "\t<tr><td>6          </td><td>764,762,763</td></tr>\n",
       "\t<tr><td>8          </td><td>444,451,458</td></tr>\n",
       "\t<tr><td>9          </td><td>675,672,673</td></tr>\n",
       "</tbody>\n",
       "</table>\n"
      ],
      "text/latex": [
       "\\begin{tabular}{r|ll}\n",
       " mid & pids\\\\\n",
       "\\hline\n",
       "\t 1           & 693,689,691\\\\\n",
       "\t 4           & 443,447,438\\\\\n",
       "\t 5           & 449,460,448\\\\\n",
       "\t 6           & 764,762,763\\\\\n",
       "\t 8           & 444,451,458\\\\\n",
       "\t 9           & 675,672,673\\\\\n",
       "\\end{tabular}\n"
      ],
      "text/plain": [
       "  mid pids       \n",
       "1 1   693,689,691\n",
       "2 4   443,447,438\n",
       "3 5   449,460,448\n",
       "4 6   764,762,763\n",
       "5 8   444,451,458\n",
       "6 9   675,672,673"
      ]
     },
     "metadata": {},
     "output_type": "display_data"
    },
    {
     "data": {
      "text/html": [
       "296"
      ],
      "text/latex": [
       "296"
      ],
      "text/markdown": [
       "296"
      ],
      "text/plain": [
       "[1] 296"
      ]
     },
     "metadata": {},
     "output_type": "display_data"
    }
   ],
   "source": [
    "t = as.data.frame(t)\n",
    "g = sqldf(\"SELECT mid, group_concat(CAST(pid AS INT)) AS pids FROM t GROUP BY mid ORDER BY count(pid)\")\n",
    "head(g)\n",
    "nrow(g)"
   ]
  },
  {
   "cell_type": "code",
   "execution_count": 227,
   "metadata": {
    "collapsed": false
   },
   "outputs": [],
   "source": [
    "n = c()\n",
    "r = nrow(g)\n",
    "for(i in 1:r){\n",
    "    disk_i = as.numeric(unlist(strsplit(g[i,2], ',')))\n",
    "    flag = 1\n",
    "    for(j in (i+1):r){\n",
    "        disk_j = as.numeric(unlist(strsplit(g[j,2], ',')))\n",
    "        # print(paste0(\"Disk 1: \", disk_i, \" Disk 2: \", disk_j, \" Result: \", is.element(disk_i, disk_j)))\n",
    "              \n",
    "        if(prod(is.element(disk_i, disk_j)) == 1){\n",
    "            flag = 0\n",
    "            break\n",
    "        }\n",
    "    }\n",
    "    if(flag == 1){\n",
    "        n = c(n, i)\n",
    "    }\n",
    "}\n"
   ]
  },
  {
   "cell_type": "code",
   "execution_count": 228,
   "metadata": {
    "collapsed": false
   },
   "outputs": [
    {
     "data": {
      "text/html": [
       "<table>\n",
       "<thead><tr><th scope=col>lng</th><th scope=col>lat</th><th scope=col>pids</th></tr></thead>\n",
       "<tbody>\n",
       "\t<tr><td>-326529.461150319</td><td>4473770.51711055 </td><td>674,676,679      </td></tr>\n",
       "\t<tr><td>-327035.081100564</td><td>4476034.28534433 </td><td>783,784,785      </td></tr>\n",
       "\t<tr><td>-327081.087284407</td><td>4470985.78880737 </td><td>324,331,332      </td></tr>\n",
       "\t<tr><td>-328079.047865274</td><td>4472043.75635950 </td><td>427,435,455      </td></tr>\n",
       "\t<tr><td>-326977.566597253</td><td>4472370.15658464 </td><td>500,503,510      </td></tr>\n",
       "\t<tr><td>-328915.173544955</td><td>4473462.73703378 </td><td>623,627,632      </td></tr>\n",
       "</tbody>\n",
       "</table>\n"
      ],
      "text/latex": [
       "\\begin{tabular}{r|lll}\n",
       " lng & lat & pids\\\\\n",
       "\\hline\n",
       "\t -326529.461150319 & 4473770.51711055  & 674,676,679      \\\\\n",
       "\t -327035.081100564 & 4476034.28534433  & 783,784,785      \\\\\n",
       "\t -327081.087284407 & 4470985.78880737  & 324,331,332      \\\\\n",
       "\t -328079.047865274 & 4472043.75635950  & 427,435,455      \\\\\n",
       "\t -326977.566597253 & 4472370.15658464  & 500,503,510      \\\\\n",
       "\t -328915.173544955 & 4473462.73703378  & 623,627,632      \\\\\n",
       "\\end{tabular}\n"
      ],
      "text/plain": [
       "  lng               lat              pids       \n",
       "1 -326529.461150319 4473770.51711055 674,676,679\n",
       "2 -327035.081100564 4476034.28534433 783,784,785\n",
       "3 -327081.087284407 4470985.78880737 324,331,332\n",
       "4 -328079.047865274 4472043.75635950 427,435,455\n",
       "5 -326977.566597253 4472370.15658464 500,503,510\n",
       "6 -328915.173544955 4473462.73703378 623,627,632"
      ]
     },
     "metadata": {},
     "output_type": "display_data"
    },
    {
     "data": {
      "text/html": [
       "50"
      ],
      "text/latex": [
       "50"
      ],
      "text/markdown": [
       "50"
      ],
      "text/plain": [
       "[1] 50"
      ]
     },
     "metadata": {},
     "output_type": "display_data"
    }
   ],
   "source": [
    "g = g[n,]\n",
    "\n",
    "m = as.data.frame(m)\n",
    "maximal = sqldf(\"SELECT lng, lat, pids FROM g JOIN m ON(id = mid)\")\n",
    "head(maximal)\n",
    "nrow(maximal)\n",
    "\n",
    "coordinates(maximal) = ~lng+lat\n",
    "proj4string(maximal) = mercator\n",
    "maximal = spTransform(maximal, wgs84)\n",
    "maximal$lng1 = coordinates(maximal)[,1]\n",
    "maximal$lat1 = coordinates(maximal)[,2]"
   ]
  },
  {
   "cell_type": "code",
   "execution_count": 229,
   "metadata": {
    "collapsed": false
   },
   "outputs": [
    {
     "data": {
      "text/html": [
       "<iframe width=100% height=400 src='  map4.html  '  />"
      ]
     },
     "metadata": {},
     "output_type": "display_data"
    }
   ],
   "source": [
    "map = leaflet() %>% setView(lat = 39.990010, lng = 116.317406, zoom = 15) %>% addTiles() %>% \n",
    "        addCircles(lng=maximal$lng1, lat=maximal$lat1, weight=2, fillOpacity=0.25, color=\"orange\", radius = epsilon/2, popup = maximal$pids) %>%\n",
    "        addCircleMarkers(lng=data$lng, lat=data$lat, weight=2, fillOpacity=1,radius = 2) %>%\n",
    "        addCircleMarkers(lng=data2$lng, lat=data2$lat, weight=2, fillOpacity=1, color=\"purple\", radius = 2) %>% \n",
    "        addProviderTiles(\"Esri.WorldImagery\", group = \"ESRI\") %>% \n",
    "        addLayersControl(baseGroup = c(\"OSM(default)\", \"ESRI\"))\n",
    "\n",
    "file = 'map4.html'\n",
    "htmlwidgets::saveWidget(map, file = file, selfcontained = F)\n",
    "IRdisplay::display_html(paste(\"<iframe width=100% height=400 src=' \", file, \" ' \",\"/>\"))"
   ]
  },
  {
   "cell_type": "code",
   "execution_count": null,
   "metadata": {
    "collapsed": true
   },
   "outputs": [],
   "source": []
  }
 ],
 "metadata": {
  "anaconda-cloud": {},
  "kernelspec": {
   "display_name": "R",
   "language": "R",
   "name": "r"
  },
  "language_info": {
   "codemirror_mode": "r",
   "file_extension": ".r",
   "mimetype": "text/x-r-source",
   "name": "R",
   "pygments_lexer": "r",
   "version": "3.3.2"
  }
 },
 "nbformat": 4,
 "nbformat_minor": 1
}
